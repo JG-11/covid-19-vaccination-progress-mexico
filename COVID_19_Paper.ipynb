{
  "nbformat": 4,
  "nbformat_minor": 0,
  "metadata": {
    "colab": {
      "name": "COVID-19-Paper.ipynb",
      "provenance": [],
      "collapsed_sections": []
    },
    "kernelspec": {
      "name": "python3",
      "display_name": "Python 3"
    },
    "language_info": {
      "name": "python"
    }
  },
  "cells": [
    {
      "cell_type": "markdown",
      "metadata": {
        "id": "48jZFaYjH507"
      },
      "source": [
        "# COVID-19 vaccination progress in Mexico: a time series analysis\n",
        "\n",
        "**BCS. Genaro Almaraz**\n",
        "\n",
        "- [Paper at ResearchGate](https://www.researchgate.net/publication/352062823_COVID-19_Vaccination_Progress_in_Mexico_a_Time_Series_Analysis)"
      ]
    },
    {
      "cell_type": "code",
      "metadata": {
        "id": "lAMNnkNAs-Yp"
      },
      "source": [
        "import pandas as pd\n",
        "import matplotlib.pyplot as plt\n",
        "import seaborn as sns"
      ],
      "execution_count": null,
      "outputs": []
    },
    {
      "cell_type": "markdown",
      "metadata": {
        "id": "pq64tmjSOh-8"
      },
      "source": [
        "# Data preparation and Data visualization"
      ]
    },
    {
      "cell_type": "code",
      "metadata": {
        "id": "8UXa-eC6tFBr"
      },
      "source": [
        "# Data downloaded from: https://github.com/owid/covid-19-data/tree/master/public/data/vaccinations\n",
        "\n",
        "all_data = pd.read_csv('./vaccinations.csv')"
      ],
      "execution_count": null,
      "outputs": []
    },
    {
      "cell_type": "code",
      "metadata": {
        "colab": {
          "base_uri": "https://localhost:8080/",
          "height": 609
        },
        "id": "xgfouQzntlG2",
        "outputId": "e72e2bc5-d417-46a6-fddb-546a47771da9"
      },
      "source": [
        "all_data"
      ],
      "execution_count": null,
      "outputs": [
        {
          "output_type": "execute_result",
          "data": {
            "text/html": [
              "<div>\n",
              "<style scoped>\n",
              "    .dataframe tbody tr th:only-of-type {\n",
              "        vertical-align: middle;\n",
              "    }\n",
              "\n",
              "    .dataframe tbody tr th {\n",
              "        vertical-align: top;\n",
              "    }\n",
              "\n",
              "    .dataframe thead th {\n",
              "        text-align: right;\n",
              "    }\n",
              "</style>\n",
              "<table border=\"1\" class=\"dataframe\">\n",
              "  <thead>\n",
              "    <tr style=\"text-align: right;\">\n",
              "      <th></th>\n",
              "      <th>location</th>\n",
              "      <th>iso_code</th>\n",
              "      <th>date</th>\n",
              "      <th>total_vaccinations</th>\n",
              "      <th>people_vaccinated</th>\n",
              "      <th>people_fully_vaccinated</th>\n",
              "      <th>daily_vaccinations_raw</th>\n",
              "      <th>daily_vaccinations</th>\n",
              "      <th>total_vaccinations_per_hundred</th>\n",
              "      <th>people_vaccinated_per_hundred</th>\n",
              "      <th>people_fully_vaccinated_per_hundred</th>\n",
              "      <th>daily_vaccinations_per_million</th>\n",
              "    </tr>\n",
              "  </thead>\n",
              "  <tbody>\n",
              "    <tr>\n",
              "      <th>0</th>\n",
              "      <td>Afghanistan</td>\n",
              "      <td>AFG</td>\n",
              "      <td>2021-02-22</td>\n",
              "      <td>0.0</td>\n",
              "      <td>0.0</td>\n",
              "      <td>NaN</td>\n",
              "      <td>NaN</td>\n",
              "      <td>NaN</td>\n",
              "      <td>0.00</td>\n",
              "      <td>0.00</td>\n",
              "      <td>NaN</td>\n",
              "      <td>NaN</td>\n",
              "    </tr>\n",
              "    <tr>\n",
              "      <th>1</th>\n",
              "      <td>Afghanistan</td>\n",
              "      <td>AFG</td>\n",
              "      <td>2021-02-23</td>\n",
              "      <td>NaN</td>\n",
              "      <td>NaN</td>\n",
              "      <td>NaN</td>\n",
              "      <td>NaN</td>\n",
              "      <td>1367.0</td>\n",
              "      <td>NaN</td>\n",
              "      <td>NaN</td>\n",
              "      <td>NaN</td>\n",
              "      <td>35.0</td>\n",
              "    </tr>\n",
              "    <tr>\n",
              "      <th>2</th>\n",
              "      <td>Afghanistan</td>\n",
              "      <td>AFG</td>\n",
              "      <td>2021-02-24</td>\n",
              "      <td>NaN</td>\n",
              "      <td>NaN</td>\n",
              "      <td>NaN</td>\n",
              "      <td>NaN</td>\n",
              "      <td>1367.0</td>\n",
              "      <td>NaN</td>\n",
              "      <td>NaN</td>\n",
              "      <td>NaN</td>\n",
              "      <td>35.0</td>\n",
              "    </tr>\n",
              "    <tr>\n",
              "      <th>3</th>\n",
              "      <td>Afghanistan</td>\n",
              "      <td>AFG</td>\n",
              "      <td>2021-02-25</td>\n",
              "      <td>NaN</td>\n",
              "      <td>NaN</td>\n",
              "      <td>NaN</td>\n",
              "      <td>NaN</td>\n",
              "      <td>1367.0</td>\n",
              "      <td>NaN</td>\n",
              "      <td>NaN</td>\n",
              "      <td>NaN</td>\n",
              "      <td>35.0</td>\n",
              "    </tr>\n",
              "    <tr>\n",
              "      <th>4</th>\n",
              "      <td>Afghanistan</td>\n",
              "      <td>AFG</td>\n",
              "      <td>2021-02-26</td>\n",
              "      <td>NaN</td>\n",
              "      <td>NaN</td>\n",
              "      <td>NaN</td>\n",
              "      <td>NaN</td>\n",
              "      <td>1367.0</td>\n",
              "      <td>NaN</td>\n",
              "      <td>NaN</td>\n",
              "      <td>NaN</td>\n",
              "      <td>35.0</td>\n",
              "    </tr>\n",
              "    <tr>\n",
              "      <th>...</th>\n",
              "      <td>...</td>\n",
              "      <td>...</td>\n",
              "      <td>...</td>\n",
              "      <td>...</td>\n",
              "      <td>...</td>\n",
              "      <td>...</td>\n",
              "      <td>...</td>\n",
              "      <td>...</td>\n",
              "      <td>...</td>\n",
              "      <td>...</td>\n",
              "      <td>...</td>\n",
              "      <td>...</td>\n",
              "    </tr>\n",
              "    <tr>\n",
              "      <th>15501</th>\n",
              "      <td>Zimbabwe</td>\n",
              "      <td>ZWE</td>\n",
              "      <td>2021-04-24</td>\n",
              "      <td>372099.0</td>\n",
              "      <td>324488.0</td>\n",
              "      <td>47611.0</td>\n",
              "      <td>6114.0</td>\n",
              "      <td>8600.0</td>\n",
              "      <td>2.50</td>\n",
              "      <td>2.18</td>\n",
              "      <td>0.32</td>\n",
              "      <td>579.0</td>\n",
              "    </tr>\n",
              "    <tr>\n",
              "      <th>15502</th>\n",
              "      <td>Zimbabwe</td>\n",
              "      <td>ZWE</td>\n",
              "      <td>2021-04-25</td>\n",
              "      <td>390018.0</td>\n",
              "      <td>336600.0</td>\n",
              "      <td>53418.0</td>\n",
              "      <td>17919.0</td>\n",
              "      <td>10796.0</td>\n",
              "      <td>2.62</td>\n",
              "      <td>2.26</td>\n",
              "      <td>0.36</td>\n",
              "      <td>726.0</td>\n",
              "    </tr>\n",
              "    <tr>\n",
              "      <th>15503</th>\n",
              "      <td>Zimbabwe</td>\n",
              "      <td>ZWE</td>\n",
              "      <td>2021-04-26</td>\n",
              "      <td>411610.0</td>\n",
              "      <td>353834.0</td>\n",
              "      <td>57776.0</td>\n",
              "      <td>21592.0</td>\n",
              "      <td>13517.0</td>\n",
              "      <td>2.77</td>\n",
              "      <td>2.38</td>\n",
              "      <td>0.39</td>\n",
              "      <td>909.0</td>\n",
              "    </tr>\n",
              "    <tr>\n",
              "      <th>15504</th>\n",
              "      <td>Zimbabwe</td>\n",
              "      <td>ZWE</td>\n",
              "      <td>2021-04-27</td>\n",
              "      <td>433939.0</td>\n",
              "      <td>370676.0</td>\n",
              "      <td>63263.0</td>\n",
              "      <td>22329.0</td>\n",
              "      <td>15562.0</td>\n",
              "      <td>2.92</td>\n",
              "      <td>2.49</td>\n",
              "      <td>0.43</td>\n",
              "      <td>1047.0</td>\n",
              "    </tr>\n",
              "    <tr>\n",
              "      <th>15505</th>\n",
              "      <td>Zimbabwe</td>\n",
              "      <td>ZWE</td>\n",
              "      <td>2021-04-28</td>\n",
              "      <td>458013.0</td>\n",
              "      <td>388021.0</td>\n",
              "      <td>69992.0</td>\n",
              "      <td>24074.0</td>\n",
              "      <td>17860.0</td>\n",
              "      <td>3.08</td>\n",
              "      <td>2.61</td>\n",
              "      <td>0.47</td>\n",
              "      <td>1202.0</td>\n",
              "    </tr>\n",
              "  </tbody>\n",
              "</table>\n",
              "<p>15506 rows × 12 columns</p>\n",
              "</div>"
            ],
            "text/plain": [
              "          location  ... daily_vaccinations_per_million\n",
              "0      Afghanistan  ...                            NaN\n",
              "1      Afghanistan  ...                           35.0\n",
              "2      Afghanistan  ...                           35.0\n",
              "3      Afghanistan  ...                           35.0\n",
              "4      Afghanistan  ...                           35.0\n",
              "...            ...  ...                            ...\n",
              "15501     Zimbabwe  ...                          579.0\n",
              "15502     Zimbabwe  ...                          726.0\n",
              "15503     Zimbabwe  ...                          909.0\n",
              "15504     Zimbabwe  ...                         1047.0\n",
              "15505     Zimbabwe  ...                         1202.0\n",
              "\n",
              "[15506 rows x 12 columns]"
            ]
          },
          "metadata": {
            "tags": []
          },
          "execution_count": 3
        }
      ]
    },
    {
      "cell_type": "code",
      "metadata": {
        "colab": {
          "base_uri": "https://localhost:8080/"
        },
        "id": "6br4vl9Strpr",
        "outputId": "1a6191ab-cb4d-4d65-8d37-766f9d980612"
      },
      "source": [
        "all_data.shape"
      ],
      "execution_count": null,
      "outputs": [
        {
          "output_type": "execute_result",
          "data": {
            "text/plain": [
              "(15506, 12)"
            ]
          },
          "metadata": {
            "tags": []
          },
          "execution_count": 4
        }
      ]
    },
    {
      "cell_type": "code",
      "metadata": {
        "colab": {
          "base_uri": "https://localhost:8080/",
          "height": 609
        },
        "id": "OlVL2ws0tvW1",
        "outputId": "5365bb5e-9fd6-4c12-b856-0aae6324eb55"
      },
      "source": [
        "mexico_data = all_data.loc[all_data['location'] == 'Mexico']\n",
        "mexico_data"
      ],
      "execution_count": null,
      "outputs": [
        {
          "output_type": "execute_result",
          "data": {
            "text/html": [
              "<div>\n",
              "<style scoped>\n",
              "    .dataframe tbody tr th:only-of-type {\n",
              "        vertical-align: middle;\n",
              "    }\n",
              "\n",
              "    .dataframe tbody tr th {\n",
              "        vertical-align: top;\n",
              "    }\n",
              "\n",
              "    .dataframe thead th {\n",
              "        text-align: right;\n",
              "    }\n",
              "</style>\n",
              "<table border=\"1\" class=\"dataframe\">\n",
              "  <thead>\n",
              "    <tr style=\"text-align: right;\">\n",
              "      <th></th>\n",
              "      <th>location</th>\n",
              "      <th>iso_code</th>\n",
              "      <th>date</th>\n",
              "      <th>total_vaccinations</th>\n",
              "      <th>people_vaccinated</th>\n",
              "      <th>people_fully_vaccinated</th>\n",
              "      <th>daily_vaccinations_raw</th>\n",
              "      <th>daily_vaccinations</th>\n",
              "      <th>total_vaccinations_per_hundred</th>\n",
              "      <th>people_vaccinated_per_hundred</th>\n",
              "      <th>people_fully_vaccinated_per_hundred</th>\n",
              "      <th>daily_vaccinations_per_million</th>\n",
              "    </tr>\n",
              "  </thead>\n",
              "  <tbody>\n",
              "    <tr>\n",
              "      <th>8988</th>\n",
              "      <td>Mexico</td>\n",
              "      <td>MEX</td>\n",
              "      <td>2020-12-24</td>\n",
              "      <td>2924.0</td>\n",
              "      <td>2924.0</td>\n",
              "      <td>NaN</td>\n",
              "      <td>NaN</td>\n",
              "      <td>NaN</td>\n",
              "      <td>0.00</td>\n",
              "      <td>0.00</td>\n",
              "      <td>NaN</td>\n",
              "      <td>NaN</td>\n",
              "    </tr>\n",
              "    <tr>\n",
              "      <th>8989</th>\n",
              "      <td>Mexico</td>\n",
              "      <td>MEX</td>\n",
              "      <td>2020-12-25</td>\n",
              "      <td>NaN</td>\n",
              "      <td>NaN</td>\n",
              "      <td>NaN</td>\n",
              "      <td>NaN</td>\n",
              "      <td>1300.0</td>\n",
              "      <td>NaN</td>\n",
              "      <td>NaN</td>\n",
              "      <td>NaN</td>\n",
              "      <td>10.0</td>\n",
              "    </tr>\n",
              "    <tr>\n",
              "      <th>8990</th>\n",
              "      <td>Mexico</td>\n",
              "      <td>MEX</td>\n",
              "      <td>2020-12-26</td>\n",
              "      <td>NaN</td>\n",
              "      <td>NaN</td>\n",
              "      <td>NaN</td>\n",
              "      <td>NaN</td>\n",
              "      <td>1300.0</td>\n",
              "      <td>NaN</td>\n",
              "      <td>NaN</td>\n",
              "      <td>NaN</td>\n",
              "      <td>10.0</td>\n",
              "    </tr>\n",
              "    <tr>\n",
              "      <th>8991</th>\n",
              "      <td>Mexico</td>\n",
              "      <td>MEX</td>\n",
              "      <td>2020-12-27</td>\n",
              "      <td>6824.0</td>\n",
              "      <td>6824.0</td>\n",
              "      <td>NaN</td>\n",
              "      <td>NaN</td>\n",
              "      <td>1300.0</td>\n",
              "      <td>0.01</td>\n",
              "      <td>0.01</td>\n",
              "      <td>NaN</td>\n",
              "      <td>10.0</td>\n",
              "    </tr>\n",
              "    <tr>\n",
              "      <th>8992</th>\n",
              "      <td>Mexico</td>\n",
              "      <td>MEX</td>\n",
              "      <td>2020-12-28</td>\n",
              "      <td>9579.0</td>\n",
              "      <td>9579.0</td>\n",
              "      <td>NaN</td>\n",
              "      <td>2755.0</td>\n",
              "      <td>1664.0</td>\n",
              "      <td>0.01</td>\n",
              "      <td>0.01</td>\n",
              "      <td>NaN</td>\n",
              "      <td>13.0</td>\n",
              "    </tr>\n",
              "    <tr>\n",
              "      <th>...</th>\n",
              "      <td>...</td>\n",
              "      <td>...</td>\n",
              "      <td>...</td>\n",
              "      <td>...</td>\n",
              "      <td>...</td>\n",
              "      <td>...</td>\n",
              "      <td>...</td>\n",
              "      <td>...</td>\n",
              "      <td>...</td>\n",
              "      <td>...</td>\n",
              "      <td>...</td>\n",
              "      <td>...</td>\n",
              "    </tr>\n",
              "    <tr>\n",
              "      <th>9108</th>\n",
              "      <td>Mexico</td>\n",
              "      <td>MEX</td>\n",
              "      <td>2021-04-23</td>\n",
              "      <td>15874809.0</td>\n",
              "      <td>11807897.0</td>\n",
              "      <td>5347232.0</td>\n",
              "      <td>397292.0</td>\n",
              "      <td>350443.0</td>\n",
              "      <td>12.31</td>\n",
              "      <td>9.16</td>\n",
              "      <td>4.15</td>\n",
              "      <td>2718.0</td>\n",
              "    </tr>\n",
              "    <tr>\n",
              "      <th>9109</th>\n",
              "      <td>Mexico</td>\n",
              "      <td>MEX</td>\n",
              "      <td>2021-04-24</td>\n",
              "      <td>16214484.0</td>\n",
              "      <td>11961104.0</td>\n",
              "      <td>5646105.0</td>\n",
              "      <td>339675.0</td>\n",
              "      <td>319472.0</td>\n",
              "      <td>12.58</td>\n",
              "      <td>9.28</td>\n",
              "      <td>4.38</td>\n",
              "      <td>2478.0</td>\n",
              "    </tr>\n",
              "    <tr>\n",
              "      <th>9110</th>\n",
              "      <td>Mexico</td>\n",
              "      <td>MEX</td>\n",
              "      <td>2021-04-25</td>\n",
              "      <td>16410034.0</td>\n",
              "      <td>12038498.0</td>\n",
              "      <td>5830079.0</td>\n",
              "      <td>195550.0</td>\n",
              "      <td>309886.0</td>\n",
              "      <td>12.73</td>\n",
              "      <td>9.34</td>\n",
              "      <td>4.52</td>\n",
              "      <td>2403.0</td>\n",
              "    </tr>\n",
              "    <tr>\n",
              "      <th>9111</th>\n",
              "      <td>Mexico</td>\n",
              "      <td>MEX</td>\n",
              "      <td>2021-04-26</td>\n",
              "      <td>16501739.0</td>\n",
              "      <td>12054021.0</td>\n",
              "      <td>5917676.0</td>\n",
              "      <td>91705.0</td>\n",
              "      <td>304809.0</td>\n",
              "      <td>12.80</td>\n",
              "      <td>9.35</td>\n",
              "      <td>4.59</td>\n",
              "      <td>2364.0</td>\n",
              "    </tr>\n",
              "    <tr>\n",
              "      <th>9112</th>\n",
              "      <td>Mexico</td>\n",
              "      <td>MEX</td>\n",
              "      <td>2021-04-27</td>\n",
              "      <td>16687189.0</td>\n",
              "      <td>12096308.0</td>\n",
              "      <td>6096954.0</td>\n",
              "      <td>185450.0</td>\n",
              "      <td>302240.0</td>\n",
              "      <td>12.94</td>\n",
              "      <td>9.38</td>\n",
              "      <td>4.73</td>\n",
              "      <td>2344.0</td>\n",
              "    </tr>\n",
              "  </tbody>\n",
              "</table>\n",
              "<p>125 rows × 12 columns</p>\n",
              "</div>"
            ],
            "text/plain": [
              "     location  ... daily_vaccinations_per_million\n",
              "8988   Mexico  ...                            NaN\n",
              "8989   Mexico  ...                           10.0\n",
              "8990   Mexico  ...                           10.0\n",
              "8991   Mexico  ...                           10.0\n",
              "8992   Mexico  ...                           13.0\n",
              "...       ...  ...                            ...\n",
              "9108   Mexico  ...                         2718.0\n",
              "9109   Mexico  ...                         2478.0\n",
              "9110   Mexico  ...                         2403.0\n",
              "9111   Mexico  ...                         2364.0\n",
              "9112   Mexico  ...                         2344.0\n",
              "\n",
              "[125 rows x 12 columns]"
            ]
          },
          "metadata": {
            "tags": []
          },
          "execution_count": 5
        }
      ]
    },
    {
      "cell_type": "code",
      "metadata": {
        "colab": {
          "base_uri": "https://localhost:8080/"
        },
        "id": "5ELUbysBuC0g",
        "outputId": "89934753-6f07-42d2-e6a1-d4142954e3d4"
      },
      "source": [
        "mexico_data.columns"
      ],
      "execution_count": null,
      "outputs": [
        {
          "output_type": "execute_result",
          "data": {
            "text/plain": [
              "Index(['location', 'iso_code', 'date', 'total_vaccinations',\n",
              "       'people_vaccinated', 'people_fully_vaccinated',\n",
              "       'daily_vaccinations_raw', 'daily_vaccinations',\n",
              "       'total_vaccinations_per_hundred', 'people_vaccinated_per_hundred',\n",
              "       'people_fully_vaccinated_per_hundred',\n",
              "       'daily_vaccinations_per_million'],\n",
              "      dtype='object')"
            ]
          },
          "metadata": {
            "tags": []
          },
          "execution_count": 6
        }
      ]
    },
    {
      "cell_type": "code",
      "metadata": {
        "colab": {
          "base_uri": "https://localhost:8080/"
        },
        "id": "4-JO_TtFuNtd",
        "outputId": "5a3e1bce-b49b-4cc0-84b8-57a9e1d0f716"
      },
      "source": [
        "len(mexico_data.columns)"
      ],
      "execution_count": null,
      "outputs": [
        {
          "output_type": "execute_result",
          "data": {
            "text/plain": [
              "12"
            ]
          },
          "metadata": {
            "tags": []
          },
          "execution_count": 7
        }
      ]
    },
    {
      "cell_type": "code",
      "metadata": {
        "colab": {
          "base_uri": "https://localhost:8080/"
        },
        "id": "QsQe5Y2zuTMf",
        "outputId": "5c80d685-e766-482a-dda5-7557a3a02b87"
      },
      "source": [
        "mexico_data.dtypes"
      ],
      "execution_count": null,
      "outputs": [
        {
          "output_type": "execute_result",
          "data": {
            "text/plain": [
              "location                                object\n",
              "iso_code                                object\n",
              "date                                    object\n",
              "total_vaccinations                     float64\n",
              "people_vaccinated                      float64\n",
              "people_fully_vaccinated                float64\n",
              "daily_vaccinations_raw                 float64\n",
              "daily_vaccinations                     float64\n",
              "total_vaccinations_per_hundred         float64\n",
              "people_vaccinated_per_hundred          float64\n",
              "people_fully_vaccinated_per_hundred    float64\n",
              "daily_vaccinations_per_million         float64\n",
              "dtype: object"
            ]
          },
          "metadata": {
            "tags": []
          },
          "execution_count": 8
        }
      ]
    },
    {
      "cell_type": "code",
      "metadata": {
        "colab": {
          "base_uri": "https://localhost:8080/"
        },
        "id": "kWrmI9J-uYy9",
        "outputId": "6e7f86cb-4d39-4d14-c74e-31b0f07ecb64"
      },
      "source": [
        "missing_values = mexico_data.isnull().sum()\n",
        "missing_values[missing_values > 0]"
      ],
      "execution_count": null,
      "outputs": [
        {
          "output_type": "execute_result",
          "data": {
            "text/plain": [
              "total_vaccinations                      9\n",
              "people_vaccinated                      18\n",
              "people_fully_vaccinated                34\n",
              "daily_vaccinations_raw                 15\n",
              "daily_vaccinations                      1\n",
              "total_vaccinations_per_hundred          9\n",
              "people_vaccinated_per_hundred          18\n",
              "people_fully_vaccinated_per_hundred    34\n",
              "daily_vaccinations_per_million          1\n",
              "dtype: int64"
            ]
          },
          "metadata": {
            "tags": []
          },
          "execution_count": 9
        }
      ]
    },
    {
      "cell_type": "code",
      "metadata": {
        "colab": {
          "base_uri": "https://localhost:8080/",
          "height": 694
        },
        "id": "rQM4V2sju0bD",
        "outputId": "f6fcdfda-4bf2-4555-e1df-3c661a00c011"
      },
      "source": [
        "mexico_data.fillna(value=0, inplace=True)\n",
        "mexico_data"
      ],
      "execution_count": null,
      "outputs": [
        {
          "output_type": "stream",
          "text": [
            "/usr/local/lib/python3.7/dist-packages/pandas/core/frame.py:4327: SettingWithCopyWarning: \n",
            "A value is trying to be set on a copy of a slice from a DataFrame\n",
            "\n",
            "See the caveats in the documentation: https://pandas.pydata.org/pandas-docs/stable/user_guide/indexing.html#returning-a-view-versus-a-copy\n",
            "  downcast=downcast,\n"
          ],
          "name": "stderr"
        },
        {
          "output_type": "execute_result",
          "data": {
            "text/html": [
              "<div>\n",
              "<style scoped>\n",
              "    .dataframe tbody tr th:only-of-type {\n",
              "        vertical-align: middle;\n",
              "    }\n",
              "\n",
              "    .dataframe tbody tr th {\n",
              "        vertical-align: top;\n",
              "    }\n",
              "\n",
              "    .dataframe thead th {\n",
              "        text-align: right;\n",
              "    }\n",
              "</style>\n",
              "<table border=\"1\" class=\"dataframe\">\n",
              "  <thead>\n",
              "    <tr style=\"text-align: right;\">\n",
              "      <th></th>\n",
              "      <th>location</th>\n",
              "      <th>iso_code</th>\n",
              "      <th>date</th>\n",
              "      <th>total_vaccinations</th>\n",
              "      <th>people_vaccinated</th>\n",
              "      <th>people_fully_vaccinated</th>\n",
              "      <th>daily_vaccinations_raw</th>\n",
              "      <th>daily_vaccinations</th>\n",
              "      <th>total_vaccinations_per_hundred</th>\n",
              "      <th>people_vaccinated_per_hundred</th>\n",
              "      <th>people_fully_vaccinated_per_hundred</th>\n",
              "      <th>daily_vaccinations_per_million</th>\n",
              "    </tr>\n",
              "  </thead>\n",
              "  <tbody>\n",
              "    <tr>\n",
              "      <th>8988</th>\n",
              "      <td>Mexico</td>\n",
              "      <td>MEX</td>\n",
              "      <td>2020-12-24</td>\n",
              "      <td>2924.0</td>\n",
              "      <td>2924.0</td>\n",
              "      <td>0.0</td>\n",
              "      <td>0.0</td>\n",
              "      <td>0.0</td>\n",
              "      <td>0.00</td>\n",
              "      <td>0.00</td>\n",
              "      <td>0.00</td>\n",
              "      <td>0.0</td>\n",
              "    </tr>\n",
              "    <tr>\n",
              "      <th>8989</th>\n",
              "      <td>Mexico</td>\n",
              "      <td>MEX</td>\n",
              "      <td>2020-12-25</td>\n",
              "      <td>0.0</td>\n",
              "      <td>0.0</td>\n",
              "      <td>0.0</td>\n",
              "      <td>0.0</td>\n",
              "      <td>1300.0</td>\n",
              "      <td>0.00</td>\n",
              "      <td>0.00</td>\n",
              "      <td>0.00</td>\n",
              "      <td>10.0</td>\n",
              "    </tr>\n",
              "    <tr>\n",
              "      <th>8990</th>\n",
              "      <td>Mexico</td>\n",
              "      <td>MEX</td>\n",
              "      <td>2020-12-26</td>\n",
              "      <td>0.0</td>\n",
              "      <td>0.0</td>\n",
              "      <td>0.0</td>\n",
              "      <td>0.0</td>\n",
              "      <td>1300.0</td>\n",
              "      <td>0.00</td>\n",
              "      <td>0.00</td>\n",
              "      <td>0.00</td>\n",
              "      <td>10.0</td>\n",
              "    </tr>\n",
              "    <tr>\n",
              "      <th>8991</th>\n",
              "      <td>Mexico</td>\n",
              "      <td>MEX</td>\n",
              "      <td>2020-12-27</td>\n",
              "      <td>6824.0</td>\n",
              "      <td>6824.0</td>\n",
              "      <td>0.0</td>\n",
              "      <td>0.0</td>\n",
              "      <td>1300.0</td>\n",
              "      <td>0.01</td>\n",
              "      <td>0.01</td>\n",
              "      <td>0.00</td>\n",
              "      <td>10.0</td>\n",
              "    </tr>\n",
              "    <tr>\n",
              "      <th>8992</th>\n",
              "      <td>Mexico</td>\n",
              "      <td>MEX</td>\n",
              "      <td>2020-12-28</td>\n",
              "      <td>9579.0</td>\n",
              "      <td>9579.0</td>\n",
              "      <td>0.0</td>\n",
              "      <td>2755.0</td>\n",
              "      <td>1664.0</td>\n",
              "      <td>0.01</td>\n",
              "      <td>0.01</td>\n",
              "      <td>0.00</td>\n",
              "      <td>13.0</td>\n",
              "    </tr>\n",
              "    <tr>\n",
              "      <th>...</th>\n",
              "      <td>...</td>\n",
              "      <td>...</td>\n",
              "      <td>...</td>\n",
              "      <td>...</td>\n",
              "      <td>...</td>\n",
              "      <td>...</td>\n",
              "      <td>...</td>\n",
              "      <td>...</td>\n",
              "      <td>...</td>\n",
              "      <td>...</td>\n",
              "      <td>...</td>\n",
              "      <td>...</td>\n",
              "    </tr>\n",
              "    <tr>\n",
              "      <th>9108</th>\n",
              "      <td>Mexico</td>\n",
              "      <td>MEX</td>\n",
              "      <td>2021-04-23</td>\n",
              "      <td>15874809.0</td>\n",
              "      <td>11807897.0</td>\n",
              "      <td>5347232.0</td>\n",
              "      <td>397292.0</td>\n",
              "      <td>350443.0</td>\n",
              "      <td>12.31</td>\n",
              "      <td>9.16</td>\n",
              "      <td>4.15</td>\n",
              "      <td>2718.0</td>\n",
              "    </tr>\n",
              "    <tr>\n",
              "      <th>9109</th>\n",
              "      <td>Mexico</td>\n",
              "      <td>MEX</td>\n",
              "      <td>2021-04-24</td>\n",
              "      <td>16214484.0</td>\n",
              "      <td>11961104.0</td>\n",
              "      <td>5646105.0</td>\n",
              "      <td>339675.0</td>\n",
              "      <td>319472.0</td>\n",
              "      <td>12.58</td>\n",
              "      <td>9.28</td>\n",
              "      <td>4.38</td>\n",
              "      <td>2478.0</td>\n",
              "    </tr>\n",
              "    <tr>\n",
              "      <th>9110</th>\n",
              "      <td>Mexico</td>\n",
              "      <td>MEX</td>\n",
              "      <td>2021-04-25</td>\n",
              "      <td>16410034.0</td>\n",
              "      <td>12038498.0</td>\n",
              "      <td>5830079.0</td>\n",
              "      <td>195550.0</td>\n",
              "      <td>309886.0</td>\n",
              "      <td>12.73</td>\n",
              "      <td>9.34</td>\n",
              "      <td>4.52</td>\n",
              "      <td>2403.0</td>\n",
              "    </tr>\n",
              "    <tr>\n",
              "      <th>9111</th>\n",
              "      <td>Mexico</td>\n",
              "      <td>MEX</td>\n",
              "      <td>2021-04-26</td>\n",
              "      <td>16501739.0</td>\n",
              "      <td>12054021.0</td>\n",
              "      <td>5917676.0</td>\n",
              "      <td>91705.0</td>\n",
              "      <td>304809.0</td>\n",
              "      <td>12.80</td>\n",
              "      <td>9.35</td>\n",
              "      <td>4.59</td>\n",
              "      <td>2364.0</td>\n",
              "    </tr>\n",
              "    <tr>\n",
              "      <th>9112</th>\n",
              "      <td>Mexico</td>\n",
              "      <td>MEX</td>\n",
              "      <td>2021-04-27</td>\n",
              "      <td>16687189.0</td>\n",
              "      <td>12096308.0</td>\n",
              "      <td>6096954.0</td>\n",
              "      <td>185450.0</td>\n",
              "      <td>302240.0</td>\n",
              "      <td>12.94</td>\n",
              "      <td>9.38</td>\n",
              "      <td>4.73</td>\n",
              "      <td>2344.0</td>\n",
              "    </tr>\n",
              "  </tbody>\n",
              "</table>\n",
              "<p>125 rows × 12 columns</p>\n",
              "</div>"
            ],
            "text/plain": [
              "     location  ... daily_vaccinations_per_million\n",
              "8988   Mexico  ...                            0.0\n",
              "8989   Mexico  ...                           10.0\n",
              "8990   Mexico  ...                           10.0\n",
              "8991   Mexico  ...                           10.0\n",
              "8992   Mexico  ...                           13.0\n",
              "...       ...  ...                            ...\n",
              "9108   Mexico  ...                         2718.0\n",
              "9109   Mexico  ...                         2478.0\n",
              "9110   Mexico  ...                         2403.0\n",
              "9111   Mexico  ...                         2364.0\n",
              "9112   Mexico  ...                         2344.0\n",
              "\n",
              "[125 rows x 12 columns]"
            ]
          },
          "metadata": {
            "tags": []
          },
          "execution_count": 10
        }
      ]
    },
    {
      "cell_type": "code",
      "metadata": {
        "colab": {
          "base_uri": "https://localhost:8080/"
        },
        "id": "DgIsk2h1vd3v",
        "outputId": "0f766cc0-642d-4204-bf96-7e2588be6030"
      },
      "source": [
        "mexico_data['date']"
      ],
      "execution_count": null,
      "outputs": [
        {
          "output_type": "execute_result",
          "data": {
            "text/plain": [
              "8988    2020-12-24\n",
              "8989    2020-12-25\n",
              "8990    2020-12-26\n",
              "8991    2020-12-27\n",
              "8992    2020-12-28\n",
              "           ...    \n",
              "9108    2021-04-23\n",
              "9109    2021-04-24\n",
              "9110    2021-04-25\n",
              "9111    2021-04-26\n",
              "9112    2021-04-27\n",
              "Name: date, Length: 125, dtype: object"
            ]
          },
          "metadata": {
            "tags": []
          },
          "execution_count": 11
        }
      ]
    },
    {
      "cell_type": "code",
      "metadata": {
        "colab": {
          "base_uri": "https://localhost:8080/",
          "height": 290
        },
        "id": "znUzgcLdvB5a",
        "outputId": "347d8c9f-d201-4ac0-ccc1-5ecd1b895d57"
      },
      "source": [
        "plt.scatter(mexico_data['date'], mexico_data['total_vaccinations'], color='orange')\n",
        "plt.xlabel('Date')\n",
        "plt.ylabel('Total Vaccinations')\n",
        "plt.xticks(ticks=['2020-12-24', '2021-01-24', '2021-02-24', '2021-03-24', '2021-04-24'])\n",
        "plt.show()"
      ],
      "execution_count": null,
      "outputs": [
        {
          "output_type": "display_data",
          "data": {
            "image/png": "[encoded data removed]",
            "text/plain": [
              "<Figure size 432x288 with 1 Axes>"
            ]
          },
          "metadata": {
            "tags": [],
            "needs_background": "light"
          }
        }
      ]
    },
    {
      "cell_type": "code",
      "metadata": {
        "colab": {
          "base_uri": "https://localhost:8080/"
        },
        "id": "uNNtJ6hCvyyK",
        "outputId": "cd4f7db7-a074-474e-e974-ad908796b3c8"
      },
      "source": [
        "previous_result = 0\n",
        "offset = 0\n",
        "for total in mexico_data['total_vaccinations']:\n",
        "  if total != 0:\n",
        "    previous_result = total\n",
        "  else:\n",
        "    mexico_data.iloc[offset, mexico_data.columns.get_loc('total_vaccinations')] = previous_result\n",
        "\n",
        "  offset += 1"
      ],
      "execution_count": null,
      "outputs": [
        {
          "output_type": "stream",
          "text": [
            "/usr/local/lib/python3.7/dist-packages/pandas/core/indexing.py:1763: SettingWithCopyWarning: \n",
            "A value is trying to be set on a copy of a slice from a DataFrame.\n",
            "Try using .loc[row_indexer,col_indexer] = value instead\n",
            "\n",
            "See the caveats in the documentation: https://pandas.pydata.org/pandas-docs/stable/user_guide/indexing.html#returning-a-view-versus-a-copy\n",
            "  isetter(loc, value)\n"
          ],
          "name": "stderr"
        }
      ]
    },
    {
      "cell_type": "code",
      "metadata": {
        "colab": {
          "base_uri": "https://localhost:8080/",
          "height": 290
        },
        "id": "HSoHCzu4y-Vv",
        "outputId": "659ed326-c513-440b-92ef-38b6b60ec9b8"
      },
      "source": [
        "plt.scatter(mexico_data['date'], mexico_data['total_vaccinations'], color='orange')\n",
        "plt.xlabel('Date')\n",
        "plt.ylabel('Total Vaccinations')\n",
        "plt.xticks(ticks=['2020-12-24', '2021-01-24', '2021-02-24', '2021-03-24', '2021-04-24'])\n",
        "plt.show()"
      ],
      "execution_count": null,
      "outputs": [
        {
          "output_type": "display_data",
          "data": {
            "image/png": "[encoded data removed]",
            "text/plain": [
              "<Figure size 432x288 with 1 Axes>"
            ]
          },
          "metadata": {
            "tags": [],
            "needs_background": "light"
          }
        }
      ]
    },
    {
      "cell_type": "code",
      "metadata": {
        "colab": {
          "base_uri": "https://localhost:8080/",
          "height": 290
        },
        "id": "eqiEnBIizclc",
        "outputId": "abb8ab4d-6c42-489a-cad9-3731705d7102"
      },
      "source": [
        "plt.scatter(mexico_data['date'], mexico_data['people_vaccinated'], color='blue')\n",
        "plt.xlabel('Date')\n",
        "plt.ylabel('People vaccinated')\n",
        "plt.xticks(ticks=['2020-12-24', '2021-01-24', '2021-02-24', '2021-03-24', '2021-04-24'])\n",
        "plt.show()"
      ],
      "execution_count": null,
      "outputs": [
        {
          "output_type": "display_data",
          "data": {
            "image/png": "[encoded data removed]",
            "text/plain": [
              "<Figure size 432x288 with 1 Axes>"
            ]
          },
          "metadata": {
            "tags": [],
            "needs_background": "light"
          }
        }
      ]
    },
    {
      "cell_type": "code",
      "metadata": {
        "colab": {
          "base_uri": "https://localhost:8080/"
        },
        "id": "RYlBjtcozloj",
        "outputId": "8135306b-1fa7-43ea-f6b7-ab3e5cb26bf5"
      },
      "source": [
        "previous_result = 0\n",
        "offset = 0\n",
        "for total in mexico_data['people_vaccinated']:\n",
        "  if total != 0:\n",
        "    previous_result = total\n",
        "  else:\n",
        "    mexico_data.iloc[offset, mexico_data.columns.get_loc('people_vaccinated')] = previous_result\n",
        "  \n",
        "  offset += 1"
      ],
      "execution_count": null,
      "outputs": [
        {
          "output_type": "stream",
          "text": [
            "/usr/local/lib/python3.7/dist-packages/pandas/core/indexing.py:1763: SettingWithCopyWarning: \n",
            "A value is trying to be set on a copy of a slice from a DataFrame.\n",
            "Try using .loc[row_indexer,col_indexer] = value instead\n",
            "\n",
            "See the caveats in the documentation: https://pandas.pydata.org/pandas-docs/stable/user_guide/indexing.html#returning-a-view-versus-a-copy\n",
            "  isetter(loc, value)\n"
          ],
          "name": "stderr"
        }
      ]
    },
    {
      "cell_type": "code",
      "metadata": {
        "colab": {
          "base_uri": "https://localhost:8080/",
          "height": 290
        },
        "id": "RsXh9OWH0a70",
        "outputId": "4ba959f3-6496-4263-f39a-4e9d7ef59683"
      },
      "source": [
        "plt.scatter(mexico_data['date'], mexico_data['people_vaccinated'], color='blue')\n",
        "plt.xlabel('Date')\n",
        "plt.ylabel('People vaccinated')\n",
        "plt.xticks(ticks=['2020-12-24', '2021-01-24', '2021-02-24', '2021-03-24', '2021-04-24'])\n",
        "plt.show()"
      ],
      "execution_count": null,
      "outputs": [
        {
          "output_type": "display_data",
          "data": {
            "image/png": "[encoded data removed]",
            "text/plain": [
              "<Figure size 432x288 with 1 Axes>"
            ]
          },
          "metadata": {
            "tags": [],
            "needs_background": "light"
          }
        }
      ]
    },
    {
      "cell_type": "code",
      "metadata": {
        "colab": {
          "base_uri": "https://localhost:8080/",
          "height": 290
        },
        "id": "OCqVGDoq0jne",
        "outputId": "acfc1626-2628-44ac-8af9-6cc5441c834d"
      },
      "source": [
        "plt.scatter(mexico_data['date'], mexico_data['people_fully_vaccinated'], color='green')\n",
        "plt.xlabel('Date')\n",
        "plt.ylabel('People fully vaccinated')\n",
        "plt.xticks(ticks=['2020-12-24', '2021-01-24', '2021-02-24', '2021-03-24', '2021-04-24'])\n",
        "plt.show()"
      ],
      "execution_count": null,
      "outputs": [
        {
          "output_type": "display_data",
          "data": {
            "image/png": "[encoded data removed]",
            "text/plain": [
              "<Figure size 432x288 with 1 Axes>"
            ]
          },
          "metadata": {
            "tags": [],
            "needs_background": "light"
          }
        }
      ]
    },
    {
      "cell_type": "code",
      "metadata": {
        "colab": {
          "base_uri": "https://localhost:8080/"
        },
        "id": "0_fmzkhQ09qV",
        "outputId": "0870134b-dcbb-4c32-ac2f-93660aca9f0e"
      },
      "source": [
        "previous_result = 0\n",
        "offset = 0\n",
        "for total in mexico_data['people_fully_vaccinated']:\n",
        "  if total != 0:\n",
        "    previous_result = total\n",
        "  else:\n",
        "    mexico_data.iloc[offset, mexico_data.columns.get_loc('people_fully_vaccinated')] = previous_result\n",
        "    \n",
        "  offset += 1"
      ],
      "execution_count": null,
      "outputs": [
        {
          "output_type": "stream",
          "text": [
            "/usr/local/lib/python3.7/dist-packages/pandas/core/indexing.py:1763: SettingWithCopyWarning: \n",
            "A value is trying to be set on a copy of a slice from a DataFrame.\n",
            "Try using .loc[row_indexer,col_indexer] = value instead\n",
            "\n",
            "See the caveats in the documentation: https://pandas.pydata.org/pandas-docs/stable/user_guide/indexing.html#returning-a-view-versus-a-copy\n",
            "  isetter(loc, value)\n"
          ],
          "name": "stderr"
        }
      ]
    },
    {
      "cell_type": "code",
      "metadata": {
        "colab": {
          "base_uri": "https://localhost:8080/",
          "height": 290
        },
        "id": "m3yCtkFp1EKu",
        "outputId": "769dbbbe-8de3-4bf3-c78e-270c21143aa9"
      },
      "source": [
        "plt.scatter(mexico_data['date'], mexico_data['people_fully_vaccinated'], color='green')\n",
        "plt.xlabel('Date')\n",
        "plt.ylabel('People fully vaccinated')\n",
        "plt.xticks(ticks=['2020-12-24', '2021-01-24', '2021-02-24', '2021-03-24', '2021-04-24'])\n",
        "plt.show()"
      ],
      "execution_count": null,
      "outputs": [
        {
          "output_type": "display_data",
          "data": {
            "image/png": "[encoded data removed]",
            "text/plain": [
              "<Figure size 432x288 with 1 Axes>"
            ]
          },
          "metadata": {
            "tags": [],
            "needs_background": "light"
          }
        }
      ]
    },
    {
      "cell_type": "code",
      "metadata": {
        "colab": {
          "base_uri": "https://localhost:8080/",
          "height": 317
        },
        "id": "YaS__-qW1hrp",
        "outputId": "0e4f554c-d789-4585-a202-647ffbf71945"
      },
      "source": [
        "plt.scatter(mexico_data['date'], mexico_data['daily_vaccinations'], color='red')\n",
        "plt.xlabel('Date')\n",
        "plt.ylabel('Daily vaccinations')\n",
        "plt.title('New doses administered per day (7-day smoothed)', y=1.1)\n",
        "plt.xticks(ticks=['2020-12-24', '2021-01-24', '2021-02-24', '2021-03-24', '2021-04-24'])\n",
        "plt.show()"
      ],
      "execution_count": null,
      "outputs": [
        {
          "output_type": "display_data",
          "data": {
            "image/png": "[encoded data removed]",
            "text/plain": [
              "<Figure size 432x288 with 1 Axes>"
            ]
          },
          "metadata": {
            "tags": [],
            "needs_background": "light"
          }
        }
      ]
    },
    {
      "cell_type": "markdown",
      "metadata": {
        "id": "IcdnqY9eOzz7"
      },
      "source": [
        "# Modeling"
      ]
    },
    {
      "cell_type": "code",
      "metadata": {
        "id": "78_g3OUuQgIV",
        "colab": {
          "base_uri": "https://localhost:8080/"
        },
        "outputId": "1af05053-6114-4c7c-fb5c-9efcd8cc3595"
      },
      "source": [
        "import statsmodels.api as sm\n",
        "from pylab import rcParams"
      ],
      "execution_count": null,
      "outputs": [
        {
          "output_type": "stream",
          "text": [
            "/usr/local/lib/python3.7/dist-packages/statsmodels/tools/_testing.py:19: FutureWarning: pandas.util.testing is deprecated. Use the functions in the public API at pandas.testing instead.\n",
            "  import pandas.util.testing as tm\n"
          ],
          "name": "stderr"
        }
      ]
    },
    {
      "cell_type": "code",
      "metadata": {
        "colab": {
          "base_uri": "https://localhost:8080/"
        },
        "id": "Ivtk-zhFO0oh",
        "outputId": "01b7be76-03db-42d3-e7d1-3cc28607e660"
      },
      "source": [
        "mexico_data['date'].min(), mexico_data['date'].max()"
      ],
      "execution_count": null,
      "outputs": [
        {
          "output_type": "execute_result",
          "data": {
            "text/plain": [
              "('2020-12-24', '2021-04-27')"
            ]
          },
          "metadata": {
            "tags": []
          },
          "execution_count": 23
        }
      ]
    },
    {
      "cell_type": "code",
      "metadata": {
        "colab": {
          "base_uri": "https://localhost:8080/",
          "height": 419
        },
        "id": "gYYNg21GolL8",
        "outputId": "cadf46fb-09d3-44e4-b80f-ee7f9517caaf"
      },
      "source": [
        "total_vaccinations = mexico_data[['date', 'total_vaccinations']]\n",
        "total_vaccinations"
      ],
      "execution_count": null,
      "outputs": [
        {
          "output_type": "execute_result",
          "data": {
            "text/html": [
              "<div>\n",
              "<style scoped>\n",
              "    .dataframe tbody tr th:only-of-type {\n",
              "        vertical-align: middle;\n",
              "    }\n",
              "\n",
              "    .dataframe tbody tr th {\n",
              "        vertical-align: top;\n",
              "    }\n",
              "\n",
              "    .dataframe thead th {\n",
              "        text-align: right;\n",
              "    }\n",
              "</style>\n",
              "<table border=\"1\" class=\"dataframe\">\n",
              "  <thead>\n",
              "    <tr style=\"text-align: right;\">\n",
              "      <th></th>\n",
              "      <th>date</th>\n",
              "      <th>total_vaccinations</th>\n",
              "    </tr>\n",
              "  </thead>\n",
              "  <tbody>\n",
              "    <tr>\n",
              "      <th>8988</th>\n",
              "      <td>2020-12-24</td>\n",
              "      <td>2924.0</td>\n",
              "    </tr>\n",
              "    <tr>\n",
              "      <th>8989</th>\n",
              "      <td>2020-12-25</td>\n",
              "      <td>2924.0</td>\n",
              "    </tr>\n",
              "    <tr>\n",
              "      <th>8990</th>\n",
              "      <td>2020-12-26</td>\n",
              "      <td>2924.0</td>\n",
              "    </tr>\n",
              "    <tr>\n",
              "      <th>8991</th>\n",
              "      <td>2020-12-27</td>\n",
              "      <td>6824.0</td>\n",
              "    </tr>\n",
              "    <tr>\n",
              "      <th>8992</th>\n",
              "      <td>2020-12-28</td>\n",
              "      <td>9579.0</td>\n",
              "    </tr>\n",
              "    <tr>\n",
              "      <th>...</th>\n",
              "      <td>...</td>\n",
              "      <td>...</td>\n",
              "    </tr>\n",
              "    <tr>\n",
              "      <th>9108</th>\n",
              "      <td>2021-04-23</td>\n",
              "      <td>15874809.0</td>\n",
              "    </tr>\n",
              "    <tr>\n",
              "      <th>9109</th>\n",
              "      <td>2021-04-24</td>\n",
              "      <td>16214484.0</td>\n",
              "    </tr>\n",
              "    <tr>\n",
              "      <th>9110</th>\n",
              "      <td>2021-04-25</td>\n",
              "      <td>16410034.0</td>\n",
              "    </tr>\n",
              "    <tr>\n",
              "      <th>9111</th>\n",
              "      <td>2021-04-26</td>\n",
              "      <td>16501739.0</td>\n",
              "    </tr>\n",
              "    <tr>\n",
              "      <th>9112</th>\n",
              "      <td>2021-04-27</td>\n",
              "      <td>16687189.0</td>\n",
              "    </tr>\n",
              "  </tbody>\n",
              "</table>\n",
              "<p>125 rows × 2 columns</p>\n",
              "</div>"
            ],
            "text/plain": [
              "            date  total_vaccinations\n",
              "8988  2020-12-24              2924.0\n",
              "8989  2020-12-25              2924.0\n",
              "8990  2020-12-26              2924.0\n",
              "8991  2020-12-27              6824.0\n",
              "8992  2020-12-28              9579.0\n",
              "...          ...                 ...\n",
              "9108  2021-04-23          15874809.0\n",
              "9109  2021-04-24          16214484.0\n",
              "9110  2021-04-25          16410034.0\n",
              "9111  2021-04-26          16501739.0\n",
              "9112  2021-04-27          16687189.0\n",
              "\n",
              "[125 rows x 2 columns]"
            ]
          },
          "metadata": {
            "tags": []
          },
          "execution_count": 24
        }
      ]
    },
    {
      "cell_type": "code",
      "metadata": {
        "colab": {
          "base_uri": "https://localhost:8080/",
          "height": 419
        },
        "id": "38iKRME9oZ1U",
        "outputId": "85c56bd8-03eb-4a03-b5db-6e19fbd60953"
      },
      "source": [
        "people_vaccinated = mexico_data[['date', 'people_vaccinated']]\n",
        "people_vaccinated"
      ],
      "execution_count": null,
      "outputs": [
        {
          "output_type": "execute_result",
          "data": {
            "text/html": [
              "<div>\n",
              "<style scoped>\n",
              "    .dataframe tbody tr th:only-of-type {\n",
              "        vertical-align: middle;\n",
              "    }\n",
              "\n",
              "    .dataframe tbody tr th {\n",
              "        vertical-align: top;\n",
              "    }\n",
              "\n",
              "    .dataframe thead th {\n",
              "        text-align: right;\n",
              "    }\n",
              "</style>\n",
              "<table border=\"1\" class=\"dataframe\">\n",
              "  <thead>\n",
              "    <tr style=\"text-align: right;\">\n",
              "      <th></th>\n",
              "      <th>date</th>\n",
              "      <th>people_vaccinated</th>\n",
              "    </tr>\n",
              "  </thead>\n",
              "  <tbody>\n",
              "    <tr>\n",
              "      <th>8988</th>\n",
              "      <td>2020-12-24</td>\n",
              "      <td>2924.0</td>\n",
              "    </tr>\n",
              "    <tr>\n",
              "      <th>8989</th>\n",
              "      <td>2020-12-25</td>\n",
              "      <td>2924.0</td>\n",
              "    </tr>\n",
              "    <tr>\n",
              "      <th>8990</th>\n",
              "      <td>2020-12-26</td>\n",
              "      <td>2924.0</td>\n",
              "    </tr>\n",
              "    <tr>\n",
              "      <th>8991</th>\n",
              "      <td>2020-12-27</td>\n",
              "      <td>6824.0</td>\n",
              "    </tr>\n",
              "    <tr>\n",
              "      <th>8992</th>\n",
              "      <td>2020-12-28</td>\n",
              "      <td>9579.0</td>\n",
              "    </tr>\n",
              "    <tr>\n",
              "      <th>...</th>\n",
              "      <td>...</td>\n",
              "      <td>...</td>\n",
              "    </tr>\n",
              "    <tr>\n",
              "      <th>9108</th>\n",
              "      <td>2021-04-23</td>\n",
              "      <td>11807897.0</td>\n",
              "    </tr>\n",
              "    <tr>\n",
              "      <th>9109</th>\n",
              "      <td>2021-04-24</td>\n",
              "      <td>11961104.0</td>\n",
              "    </tr>\n",
              "    <tr>\n",
              "      <th>9110</th>\n",
              "      <td>2021-04-25</td>\n",
              "      <td>12038498.0</td>\n",
              "    </tr>\n",
              "    <tr>\n",
              "      <th>9111</th>\n",
              "      <td>2021-04-26</td>\n",
              "      <td>12054021.0</td>\n",
              "    </tr>\n",
              "    <tr>\n",
              "      <th>9112</th>\n",
              "      <td>2021-04-27</td>\n",
              "      <td>12096308.0</td>\n",
              "    </tr>\n",
              "  </tbody>\n",
              "</table>\n",
              "<p>125 rows × 2 columns</p>\n",
              "</div>"
            ],
            "text/plain": [
              "            date  people_vaccinated\n",
              "8988  2020-12-24             2924.0\n",
              "8989  2020-12-25             2924.0\n",
              "8990  2020-12-26             2924.0\n",
              "8991  2020-12-27             6824.0\n",
              "8992  2020-12-28             9579.0\n",
              "...          ...                ...\n",
              "9108  2021-04-23         11807897.0\n",
              "9109  2021-04-24         11961104.0\n",
              "9110  2021-04-25         12038498.0\n",
              "9111  2021-04-26         12054021.0\n",
              "9112  2021-04-27         12096308.0\n",
              "\n",
              "[125 rows x 2 columns]"
            ]
          },
          "metadata": {
            "tags": []
          },
          "execution_count": 25
        }
      ]
    },
    {
      "cell_type": "code",
      "metadata": {
        "colab": {
          "base_uri": "https://localhost:8080/",
          "height": 419
        },
        "id": "ineEcDvNO5uj",
        "outputId": "5a31cae3-bffd-4f31-c464-e19d261a0796"
      },
      "source": [
        "people_fully_vaccinated = mexico_data[['date', 'people_fully_vaccinated']]\n",
        "people_fully_vaccinated"
      ],
      "execution_count": null,
      "outputs": [
        {
          "output_type": "execute_result",
          "data": {
            "text/html": [
              "<div>\n",
              "<style scoped>\n",
              "    .dataframe tbody tr th:only-of-type {\n",
              "        vertical-align: middle;\n",
              "    }\n",
              "\n",
              "    .dataframe tbody tr th {\n",
              "        vertical-align: top;\n",
              "    }\n",
              "\n",
              "    .dataframe thead th {\n",
              "        text-align: right;\n",
              "    }\n",
              "</style>\n",
              "<table border=\"1\" class=\"dataframe\">\n",
              "  <thead>\n",
              "    <tr style=\"text-align: right;\">\n",
              "      <th></th>\n",
              "      <th>date</th>\n",
              "      <th>people_fully_vaccinated</th>\n",
              "    </tr>\n",
              "  </thead>\n",
              "  <tbody>\n",
              "    <tr>\n",
              "      <th>8988</th>\n",
              "      <td>2020-12-24</td>\n",
              "      <td>0.0</td>\n",
              "    </tr>\n",
              "    <tr>\n",
              "      <th>8989</th>\n",
              "      <td>2020-12-25</td>\n",
              "      <td>0.0</td>\n",
              "    </tr>\n",
              "    <tr>\n",
              "      <th>8990</th>\n",
              "      <td>2020-12-26</td>\n",
              "      <td>0.0</td>\n",
              "    </tr>\n",
              "    <tr>\n",
              "      <th>8991</th>\n",
              "      <td>2020-12-27</td>\n",
              "      <td>0.0</td>\n",
              "    </tr>\n",
              "    <tr>\n",
              "      <th>8992</th>\n",
              "      <td>2020-12-28</td>\n",
              "      <td>0.0</td>\n",
              "    </tr>\n",
              "    <tr>\n",
              "      <th>...</th>\n",
              "      <td>...</td>\n",
              "      <td>...</td>\n",
              "    </tr>\n",
              "    <tr>\n",
              "      <th>9108</th>\n",
              "      <td>2021-04-23</td>\n",
              "      <td>5347232.0</td>\n",
              "    </tr>\n",
              "    <tr>\n",
              "      <th>9109</th>\n",
              "      <td>2021-04-24</td>\n",
              "      <td>5646105.0</td>\n",
              "    </tr>\n",
              "    <tr>\n",
              "      <th>9110</th>\n",
              "      <td>2021-04-25</td>\n",
              "      <td>5830079.0</td>\n",
              "    </tr>\n",
              "    <tr>\n",
              "      <th>9111</th>\n",
              "      <td>2021-04-26</td>\n",
              "      <td>5917676.0</td>\n",
              "    </tr>\n",
              "    <tr>\n",
              "      <th>9112</th>\n",
              "      <td>2021-04-27</td>\n",
              "      <td>6096954.0</td>\n",
              "    </tr>\n",
              "  </tbody>\n",
              "</table>\n",
              "<p>125 rows × 2 columns</p>\n",
              "</div>"
            ],
            "text/plain": [
              "            date  people_fully_vaccinated\n",
              "8988  2020-12-24                      0.0\n",
              "8989  2020-12-25                      0.0\n",
              "8990  2020-12-26                      0.0\n",
              "8991  2020-12-27                      0.0\n",
              "8992  2020-12-28                      0.0\n",
              "...          ...                      ...\n",
              "9108  2021-04-23                5347232.0\n",
              "9109  2021-04-24                5646105.0\n",
              "9110  2021-04-25                5830079.0\n",
              "9111  2021-04-26                5917676.0\n",
              "9112  2021-04-27                6096954.0\n",
              "\n",
              "[125 rows x 2 columns]"
            ]
          },
          "metadata": {
            "tags": []
          },
          "execution_count": 26
        }
      ]
    },
    {
      "cell_type": "code",
      "metadata": {
        "colab": {
          "base_uri": "https://localhost:8080/"
        },
        "id": "cqG0sr76o10-",
        "outputId": "ff006027-d1d8-4221-a3dc-e0a76968fbb4"
      },
      "source": [
        "missing_values = total_vaccinations.isnull().sum()\n",
        "missing_values[missing_values > 0]"
      ],
      "execution_count": null,
      "outputs": [
        {
          "output_type": "execute_result",
          "data": {
            "text/plain": [
              "Series([], dtype: int64)"
            ]
          },
          "metadata": {
            "tags": []
          },
          "execution_count": 27
        }
      ]
    },
    {
      "cell_type": "code",
      "metadata": {
        "colab": {
          "base_uri": "https://localhost:8080/"
        },
        "id": "ak9uTz8IovRs",
        "outputId": "72c8bf49-dba5-40b6-9537-e289ead3e6de"
      },
      "source": [
        "missing_values = people_vaccinated.isnull().sum()\n",
        "missing_values[missing_values > 0]"
      ],
      "execution_count": null,
      "outputs": [
        {
          "output_type": "execute_result",
          "data": {
            "text/plain": [
              "Series([], dtype: int64)"
            ]
          },
          "metadata": {
            "tags": []
          },
          "execution_count": 28
        }
      ]
    },
    {
      "cell_type": "code",
      "metadata": {
        "colab": {
          "base_uri": "https://localhost:8080/"
        },
        "id": "Z9IZTRL6PJ7-",
        "outputId": "2abac10f-4e14-498c-dc18-9cdfa7481481"
      },
      "source": [
        "missing_values = people_fully_vaccinated.isnull().sum()\n",
        "missing_values[missing_values > 0]"
      ],
      "execution_count": null,
      "outputs": [
        {
          "output_type": "execute_result",
          "data": {
            "text/plain": [
              "Series([], dtype: int64)"
            ]
          },
          "metadata": {
            "tags": []
          },
          "execution_count": 29
        }
      ]
    },
    {
      "cell_type": "code",
      "metadata": {
        "colab": {
          "base_uri": "https://localhost:8080/"
        },
        "id": "x4j9UegTpB5P",
        "outputId": "52b13059-b2e6-405a-d350-9c7d48e1fe83"
      },
      "source": [
        "total_vaccinations.columns, total_vaccinations.dtypes"
      ],
      "execution_count": null,
      "outputs": [
        {
          "output_type": "execute_result",
          "data": {
            "text/plain": [
              "(Index(['date', 'total_vaccinations'], dtype='object'),\n",
              " date                   object\n",
              " total_vaccinations    float64\n",
              " dtype: object)"
            ]
          },
          "metadata": {
            "tags": []
          },
          "execution_count": 30
        }
      ]
    },
    {
      "cell_type": "code",
      "metadata": {
        "colab": {
          "base_uri": "https://localhost:8080/"
        },
        "id": "oC7byZvdo7iu",
        "outputId": "ea46fd59-428e-4a99-887a-fb1aa83d729d"
      },
      "source": [
        "people_vaccinated.columns, people_vaccinated.dtypes"
      ],
      "execution_count": null,
      "outputs": [
        {
          "output_type": "execute_result",
          "data": {
            "text/plain": [
              "(Index(['date', 'people_vaccinated'], dtype='object'),\n",
              " date                  object\n",
              " people_vaccinated    float64\n",
              " dtype: object)"
            ]
          },
          "metadata": {
            "tags": []
          },
          "execution_count": 31
        }
      ]
    },
    {
      "cell_type": "code",
      "metadata": {
        "colab": {
          "base_uri": "https://localhost:8080/"
        },
        "id": "rHF7cTpmPl3Q",
        "outputId": "b15f0452-9c6c-41cd-cb5f-afcff6132939"
      },
      "source": [
        "people_fully_vaccinated.columns"
      ],
      "execution_count": null,
      "outputs": [
        {
          "output_type": "execute_result",
          "data": {
            "text/plain": [
              "Index(['date', 'people_fully_vaccinated'], dtype='object')"
            ]
          },
          "metadata": {
            "tags": []
          },
          "execution_count": 32
        }
      ]
    },
    {
      "cell_type": "code",
      "metadata": {
        "colab": {
          "base_uri": "https://localhost:8080/"
        },
        "id": "w1KgGHbdRSQb",
        "outputId": "689ddd40-9c6d-405b-d7bb-fb92c2e348cf"
      },
      "source": [
        "people_fully_vaccinated.dtypes"
      ],
      "execution_count": null,
      "outputs": [
        {
          "output_type": "execute_result",
          "data": {
            "text/plain": [
              "date                        object\n",
              "people_fully_vaccinated    float64\n",
              "dtype: object"
            ]
          },
          "metadata": {
            "tags": []
          },
          "execution_count": 33
        }
      ]
    },
    {
      "cell_type": "code",
      "metadata": {
        "colab": {
          "base_uri": "https://localhost:8080/",
          "height": 521
        },
        "id": "I6vHkBpBpJYs",
        "outputId": "910d28d1-9362-4665-9817-cf4ca4be1b4f"
      },
      "source": [
        "total_vaccinations['date'] = pd.to_datetime(total_vaccinations['date'], infer_datetime_format=True)\n",
        "total_vaccinations"
      ],
      "execution_count": null,
      "outputs": [
        {
          "output_type": "stream",
          "text": [
            "/usr/local/lib/python3.7/dist-packages/ipykernel_launcher.py:1: SettingWithCopyWarning: \n",
            "A value is trying to be set on a copy of a slice from a DataFrame.\n",
            "Try using .loc[row_indexer,col_indexer] = value instead\n",
            "\n",
            "See the caveats in the documentation: https://pandas.pydata.org/pandas-docs/stable/user_guide/indexing.html#returning-a-view-versus-a-copy\n",
            "  \"\"\"Entry point for launching an IPython kernel.\n"
          ],
          "name": "stderr"
        },
        {
          "output_type": "execute_result",
          "data": {
            "text/html": [
              "<div>\n",
              "<style scoped>\n",
              "    .dataframe tbody tr th:only-of-type {\n",
              "        vertical-align: middle;\n",
              "    }\n",
              "\n",
              "    .dataframe tbody tr th {\n",
              "        vertical-align: top;\n",
              "    }\n",
              "\n",
              "    .dataframe thead th {\n",
              "        text-align: right;\n",
              "    }\n",
              "</style>\n",
              "<table border=\"1\" class=\"dataframe\">\n",
              "  <thead>\n",
              "    <tr style=\"text-align: right;\">\n",
              "      <th></th>\n",
              "      <th>date</th>\n",
              "      <th>total_vaccinations</th>\n",
              "    </tr>\n",
              "  </thead>\n",
              "  <tbody>\n",
              "    <tr>\n",
              "      <th>8988</th>\n",
              "      <td>2020-12-24</td>\n",
              "      <td>2924.0</td>\n",
              "    </tr>\n",
              "    <tr>\n",
              "      <th>8989</th>\n",
              "      <td>2020-12-25</td>\n",
              "      <td>2924.0</td>\n",
              "    </tr>\n",
              "    <tr>\n",
              "      <th>8990</th>\n",
              "      <td>2020-12-26</td>\n",
              "      <td>2924.0</td>\n",
              "    </tr>\n",
              "    <tr>\n",
              "      <th>8991</th>\n",
              "      <td>2020-12-27</td>\n",
              "      <td>6824.0</td>\n",
              "    </tr>\n",
              "    <tr>\n",
              "      <th>8992</th>\n",
              "      <td>2020-12-28</td>\n",
              "      <td>9579.0</td>\n",
              "    </tr>\n",
              "    <tr>\n",
              "      <th>...</th>\n",
              "      <td>...</td>\n",
              "      <td>...</td>\n",
              "    </tr>\n",
              "    <tr>\n",
              "      <th>9108</th>\n",
              "      <td>2021-04-23</td>\n",
              "      <td>15874809.0</td>\n",
              "    </tr>\n",
              "    <tr>\n",
              "      <th>9109</th>\n",
              "      <td>2021-04-24</td>\n",
              "      <td>16214484.0</td>\n",
              "    </tr>\n",
              "    <tr>\n",
              "      <th>9110</th>\n",
              "      <td>2021-04-25</td>\n",
              "      <td>16410034.0</td>\n",
              "    </tr>\n",
              "    <tr>\n",
              "      <th>9111</th>\n",
              "      <td>2021-04-26</td>\n",
              "      <td>16501739.0</td>\n",
              "    </tr>\n",
              "    <tr>\n",
              "      <th>9112</th>\n",
              "      <td>2021-04-27</td>\n",
              "      <td>16687189.0</td>\n",
              "    </tr>\n",
              "  </tbody>\n",
              "</table>\n",
              "<p>125 rows × 2 columns</p>\n",
              "</div>"
            ],
            "text/plain": [
              "           date  total_vaccinations\n",
              "8988 2020-12-24              2924.0\n",
              "8989 2020-12-25              2924.0\n",
              "8990 2020-12-26              2924.0\n",
              "8991 2020-12-27              6824.0\n",
              "8992 2020-12-28              9579.0\n",
              "...         ...                 ...\n",
              "9108 2021-04-23          15874809.0\n",
              "9109 2021-04-24          16214484.0\n",
              "9110 2021-04-25          16410034.0\n",
              "9111 2021-04-26          16501739.0\n",
              "9112 2021-04-27          16687189.0\n",
              "\n",
              "[125 rows x 2 columns]"
            ]
          },
          "metadata": {
            "tags": []
          },
          "execution_count": 34
        }
      ]
    },
    {
      "cell_type": "code",
      "metadata": {
        "colab": {
          "base_uri": "https://localhost:8080/"
        },
        "id": "g6aFqeRUpSrH",
        "outputId": "45246fab-0c92-464c-96d6-577545d1ac73"
      },
      "source": [
        "total_vaccinations.dtypes"
      ],
      "execution_count": null,
      "outputs": [
        {
          "output_type": "execute_result",
          "data": {
            "text/plain": [
              "date                  datetime64[ns]\n",
              "total_vaccinations           float64\n",
              "dtype: object"
            ]
          },
          "metadata": {
            "tags": []
          },
          "execution_count": 35
        }
      ]
    },
    {
      "cell_type": "code",
      "metadata": {
        "colab": {
          "base_uri": "https://localhost:8080/",
          "height": 521
        },
        "id": "t3c1d-vopVuG",
        "outputId": "776e3252-8f16-475f-82ca-26f12515d7a4"
      },
      "source": [
        "people_vaccinated['date'] = pd.to_datetime(people_vaccinated['date'], infer_datetime_format=True)\n",
        "people_vaccinated"
      ],
      "execution_count": null,
      "outputs": [
        {
          "output_type": "stream",
          "text": [
            "/usr/local/lib/python3.7/dist-packages/ipykernel_launcher.py:1: SettingWithCopyWarning: \n",
            "A value is trying to be set on a copy of a slice from a DataFrame.\n",
            "Try using .loc[row_indexer,col_indexer] = value instead\n",
            "\n",
            "See the caveats in the documentation: https://pandas.pydata.org/pandas-docs/stable/user_guide/indexing.html#returning-a-view-versus-a-copy\n",
            "  \"\"\"Entry point for launching an IPython kernel.\n"
          ],
          "name": "stderr"
        },
        {
          "output_type": "execute_result",
          "data": {
            "text/html": [
              "<div>\n",
              "<style scoped>\n",
              "    .dataframe tbody tr th:only-of-type {\n",
              "        vertical-align: middle;\n",
              "    }\n",
              "\n",
              "    .dataframe tbody tr th {\n",
              "        vertical-align: top;\n",
              "    }\n",
              "\n",
              "    .dataframe thead th {\n",
              "        text-align: right;\n",
              "    }\n",
              "</style>\n",
              "<table border=\"1\" class=\"dataframe\">\n",
              "  <thead>\n",
              "    <tr style=\"text-align: right;\">\n",
              "      <th></th>\n",
              "      <th>date</th>\n",
              "      <th>people_vaccinated</th>\n",
              "    </tr>\n",
              "  </thead>\n",
              "  <tbody>\n",
              "    <tr>\n",
              "      <th>8988</th>\n",
              "      <td>2020-12-24</td>\n",
              "      <td>2924.0</td>\n",
              "    </tr>\n",
              "    <tr>\n",
              "      <th>8989</th>\n",
              "      <td>2020-12-25</td>\n",
              "      <td>2924.0</td>\n",
              "    </tr>\n",
              "    <tr>\n",
              "      <th>8990</th>\n",
              "      <td>2020-12-26</td>\n",
              "      <td>2924.0</td>\n",
              "    </tr>\n",
              "    <tr>\n",
              "      <th>8991</th>\n",
              "      <td>2020-12-27</td>\n",
              "      <td>6824.0</td>\n",
              "    </tr>\n",
              "    <tr>\n",
              "      <th>8992</th>\n",
              "      <td>2020-12-28</td>\n",
              "      <td>9579.0</td>\n",
              "    </tr>\n",
              "    <tr>\n",
              "      <th>...</th>\n",
              "      <td>...</td>\n",
              "      <td>...</td>\n",
              "    </tr>\n",
              "    <tr>\n",
              "      <th>9108</th>\n",
              "      <td>2021-04-23</td>\n",
              "      <td>11807897.0</td>\n",
              "    </tr>\n",
              "    <tr>\n",
              "      <th>9109</th>\n",
              "      <td>2021-04-24</td>\n",
              "      <td>11961104.0</td>\n",
              "    </tr>\n",
              "    <tr>\n",
              "      <th>9110</th>\n",
              "      <td>2021-04-25</td>\n",
              "      <td>12038498.0</td>\n",
              "    </tr>\n",
              "    <tr>\n",
              "      <th>9111</th>\n",
              "      <td>2021-04-26</td>\n",
              "      <td>12054021.0</td>\n",
              "    </tr>\n",
              "    <tr>\n",
              "      <th>9112</th>\n",
              "      <td>2021-04-27</td>\n",
              "      <td>12096308.0</td>\n",
              "    </tr>\n",
              "  </tbody>\n",
              "</table>\n",
              "<p>125 rows × 2 columns</p>\n",
              "</div>"
            ],
            "text/plain": [
              "           date  people_vaccinated\n",
              "8988 2020-12-24             2924.0\n",
              "8989 2020-12-25             2924.0\n",
              "8990 2020-12-26             2924.0\n",
              "8991 2020-12-27             6824.0\n",
              "8992 2020-12-28             9579.0\n",
              "...         ...                ...\n",
              "9108 2021-04-23         11807897.0\n",
              "9109 2021-04-24         11961104.0\n",
              "9110 2021-04-25         12038498.0\n",
              "9111 2021-04-26         12054021.0\n",
              "9112 2021-04-27         12096308.0\n",
              "\n",
              "[125 rows x 2 columns]"
            ]
          },
          "metadata": {
            "tags": []
          },
          "execution_count": 36
        }
      ]
    },
    {
      "cell_type": "code",
      "metadata": {
        "colab": {
          "base_uri": "https://localhost:8080/"
        },
        "id": "7-XOuUeLpdn6",
        "outputId": "fcfd368e-c605-4833-b28b-8a19dc3f3130"
      },
      "source": [
        "people_vaccinated.dtypes"
      ],
      "execution_count": null,
      "outputs": [
        {
          "output_type": "execute_result",
          "data": {
            "text/plain": [
              "date                 datetime64[ns]\n",
              "people_vaccinated           float64\n",
              "dtype: object"
            ]
          },
          "metadata": {
            "tags": []
          },
          "execution_count": 37
        }
      ]
    },
    {
      "cell_type": "code",
      "metadata": {
        "colab": {
          "base_uri": "https://localhost:8080/",
          "height": 521
        },
        "id": "8q1Jm65qRUaE",
        "outputId": "82871b91-ee50-4f47-86f5-956767d1fd39"
      },
      "source": [
        "people_fully_vaccinated['date'] = pd.to_datetime(people_fully_vaccinated['date'], infer_datetime_format=True)\n",
        "people_fully_vaccinated"
      ],
      "execution_count": null,
      "outputs": [
        {
          "output_type": "stream",
          "text": [
            "/usr/local/lib/python3.7/dist-packages/ipykernel_launcher.py:1: SettingWithCopyWarning: \n",
            "A value is trying to be set on a copy of a slice from a DataFrame.\n",
            "Try using .loc[row_indexer,col_indexer] = value instead\n",
            "\n",
            "See the caveats in the documentation: https://pandas.pydata.org/pandas-docs/stable/user_guide/indexing.html#returning-a-view-versus-a-copy\n",
            "  \"\"\"Entry point for launching an IPython kernel.\n"
          ],
          "name": "stderr"
        },
        {
          "output_type": "execute_result",
          "data": {
            "text/html": [
              "<div>\n",
              "<style scoped>\n",
              "    .dataframe tbody tr th:only-of-type {\n",
              "        vertical-align: middle;\n",
              "    }\n",
              "\n",
              "    .dataframe tbody tr th {\n",
              "        vertical-align: top;\n",
              "    }\n",
              "\n",
              "    .dataframe thead th {\n",
              "        text-align: right;\n",
              "    }\n",
              "</style>\n",
              "<table border=\"1\" class=\"dataframe\">\n",
              "  <thead>\n",
              "    <tr style=\"text-align: right;\">\n",
              "      <th></th>\n",
              "      <th>date</th>\n",
              "      <th>people_fully_vaccinated</th>\n",
              "    </tr>\n",
              "  </thead>\n",
              "  <tbody>\n",
              "    <tr>\n",
              "      <th>8988</th>\n",
              "      <td>2020-12-24</td>\n",
              "      <td>0.0</td>\n",
              "    </tr>\n",
              "    <tr>\n",
              "      <th>8989</th>\n",
              "      <td>2020-12-25</td>\n",
              "      <td>0.0</td>\n",
              "    </tr>\n",
              "    <tr>\n",
              "      <th>8990</th>\n",
              "      <td>2020-12-26</td>\n",
              "      <td>0.0</td>\n",
              "    </tr>\n",
              "    <tr>\n",
              "      <th>8991</th>\n",
              "      <td>2020-12-27</td>\n",
              "      <td>0.0</td>\n",
              "    </tr>\n",
              "    <tr>\n",
              "      <th>8992</th>\n",
              "      <td>2020-12-28</td>\n",
              "      <td>0.0</td>\n",
              "    </tr>\n",
              "    <tr>\n",
              "      <th>...</th>\n",
              "      <td>...</td>\n",
              "      <td>...</td>\n",
              "    </tr>\n",
              "    <tr>\n",
              "      <th>9108</th>\n",
              "      <td>2021-04-23</td>\n",
              "      <td>5347232.0</td>\n",
              "    </tr>\n",
              "    <tr>\n",
              "      <th>9109</th>\n",
              "      <td>2021-04-24</td>\n",
              "      <td>5646105.0</td>\n",
              "    </tr>\n",
              "    <tr>\n",
              "      <th>9110</th>\n",
              "      <td>2021-04-25</td>\n",
              "      <td>5830079.0</td>\n",
              "    </tr>\n",
              "    <tr>\n",
              "      <th>9111</th>\n",
              "      <td>2021-04-26</td>\n",
              "      <td>5917676.0</td>\n",
              "    </tr>\n",
              "    <tr>\n",
              "      <th>9112</th>\n",
              "      <td>2021-04-27</td>\n",
              "      <td>6096954.0</td>\n",
              "    </tr>\n",
              "  </tbody>\n",
              "</table>\n",
              "<p>125 rows × 2 columns</p>\n",
              "</div>"
            ],
            "text/plain": [
              "           date  people_fully_vaccinated\n",
              "8988 2020-12-24                      0.0\n",
              "8989 2020-12-25                      0.0\n",
              "8990 2020-12-26                      0.0\n",
              "8991 2020-12-27                      0.0\n",
              "8992 2020-12-28                      0.0\n",
              "...         ...                      ...\n",
              "9108 2021-04-23                5347232.0\n",
              "9109 2021-04-24                5646105.0\n",
              "9110 2021-04-25                5830079.0\n",
              "9111 2021-04-26                5917676.0\n",
              "9112 2021-04-27                6096954.0\n",
              "\n",
              "[125 rows x 2 columns]"
            ]
          },
          "metadata": {
            "tags": []
          },
          "execution_count": 38
        }
      ]
    },
    {
      "cell_type": "code",
      "metadata": {
        "colab": {
          "base_uri": "https://localhost:8080/"
        },
        "id": "Dai4aSHqRfUp",
        "outputId": "42d6c218-886e-41f1-ad8c-e26ff8f3fc88"
      },
      "source": [
        "people_fully_vaccinated.dtypes"
      ],
      "execution_count": null,
      "outputs": [
        {
          "output_type": "execute_result",
          "data": {
            "text/plain": [
              "date                       datetime64[ns]\n",
              "people_fully_vaccinated           float64\n",
              "dtype: object"
            ]
          },
          "metadata": {
            "tags": []
          },
          "execution_count": 39
        }
      ]
    },
    {
      "cell_type": "code",
      "metadata": {
        "colab": {
          "base_uri": "https://localhost:8080/",
          "height": 450
        },
        "id": "OhxD4rbpph4J",
        "outputId": "ebefb167-af44-4345-8154-4641d719b863"
      },
      "source": [
        "total_vaccinations = total_vaccinations.set_index('date')\n",
        "total_vaccinations"
      ],
      "execution_count": null,
      "outputs": [
        {
          "output_type": "execute_result",
          "data": {
            "text/html": [
              "<div>\n",
              "<style scoped>\n",
              "    .dataframe tbody tr th:only-of-type {\n",
              "        vertical-align: middle;\n",
              "    }\n",
              "\n",
              "    .dataframe tbody tr th {\n",
              "        vertical-align: top;\n",
              "    }\n",
              "\n",
              "    .dataframe thead th {\n",
              "        text-align: right;\n",
              "    }\n",
              "</style>\n",
              "<table border=\"1\" class=\"dataframe\">\n",
              "  <thead>\n",
              "    <tr style=\"text-align: right;\">\n",
              "      <th></th>\n",
              "      <th>total_vaccinations</th>\n",
              "    </tr>\n",
              "    <tr>\n",
              "      <th>date</th>\n",
              "      <th></th>\n",
              "    </tr>\n",
              "  </thead>\n",
              "  <tbody>\n",
              "    <tr>\n",
              "      <th>2020-12-24</th>\n",
              "      <td>2924.0</td>\n",
              "    </tr>\n",
              "    <tr>\n",
              "      <th>2020-12-25</th>\n",
              "      <td>2924.0</td>\n",
              "    </tr>\n",
              "    <tr>\n",
              "      <th>2020-12-26</th>\n",
              "      <td>2924.0</td>\n",
              "    </tr>\n",
              "    <tr>\n",
              "      <th>2020-12-27</th>\n",
              "      <td>6824.0</td>\n",
              "    </tr>\n",
              "    <tr>\n",
              "      <th>2020-12-28</th>\n",
              "      <td>9579.0</td>\n",
              "    </tr>\n",
              "    <tr>\n",
              "      <th>...</th>\n",
              "      <td>...</td>\n",
              "    </tr>\n",
              "    <tr>\n",
              "      <th>2021-04-23</th>\n",
              "      <td>15874809.0</td>\n",
              "    </tr>\n",
              "    <tr>\n",
              "      <th>2021-04-24</th>\n",
              "      <td>16214484.0</td>\n",
              "    </tr>\n",
              "    <tr>\n",
              "      <th>2021-04-25</th>\n",
              "      <td>16410034.0</td>\n",
              "    </tr>\n",
              "    <tr>\n",
              "      <th>2021-04-26</th>\n",
              "      <td>16501739.0</td>\n",
              "    </tr>\n",
              "    <tr>\n",
              "      <th>2021-04-27</th>\n",
              "      <td>16687189.0</td>\n",
              "    </tr>\n",
              "  </tbody>\n",
              "</table>\n",
              "<p>125 rows × 1 columns</p>\n",
              "</div>"
            ],
            "text/plain": [
              "            total_vaccinations\n",
              "date                          \n",
              "2020-12-24              2924.0\n",
              "2020-12-25              2924.0\n",
              "2020-12-26              2924.0\n",
              "2020-12-27              6824.0\n",
              "2020-12-28              9579.0\n",
              "...                        ...\n",
              "2021-04-23          15874809.0\n",
              "2021-04-24          16214484.0\n",
              "2021-04-25          16410034.0\n",
              "2021-04-26          16501739.0\n",
              "2021-04-27          16687189.0\n",
              "\n",
              "[125 rows x 1 columns]"
            ]
          },
          "metadata": {
            "tags": []
          },
          "execution_count": 40
        }
      ]
    },
    {
      "cell_type": "code",
      "metadata": {
        "colab": {
          "base_uri": "https://localhost:8080/",
          "height": 450
        },
        "id": "dDYAEVj5pmMN",
        "outputId": "27df6799-9ffa-41e2-9516-b1d0a0710660"
      },
      "source": [
        "people_vaccinated = people_vaccinated.set_index('date')\n",
        "people_vaccinated"
      ],
      "execution_count": null,
      "outputs": [
        {
          "output_type": "execute_result",
          "data": {
            "text/html": [
              "<div>\n",
              "<style scoped>\n",
              "    .dataframe tbody tr th:only-of-type {\n",
              "        vertical-align: middle;\n",
              "    }\n",
              "\n",
              "    .dataframe tbody tr th {\n",
              "        vertical-align: top;\n",
              "    }\n",
              "\n",
              "    .dataframe thead th {\n",
              "        text-align: right;\n",
              "    }\n",
              "</style>\n",
              "<table border=\"1\" class=\"dataframe\">\n",
              "  <thead>\n",
              "    <tr style=\"text-align: right;\">\n",
              "      <th></th>\n",
              "      <th>people_vaccinated</th>\n",
              "    </tr>\n",
              "    <tr>\n",
              "      <th>date</th>\n",
              "      <th></th>\n",
              "    </tr>\n",
              "  </thead>\n",
              "  <tbody>\n",
              "    <tr>\n",
              "      <th>2020-12-24</th>\n",
              "      <td>2924.0</td>\n",
              "    </tr>\n",
              "    <tr>\n",
              "      <th>2020-12-25</th>\n",
              "      <td>2924.0</td>\n",
              "    </tr>\n",
              "    <tr>\n",
              "      <th>2020-12-26</th>\n",
              "      <td>2924.0</td>\n",
              "    </tr>\n",
              "    <tr>\n",
              "      <th>2020-12-27</th>\n",
              "      <td>6824.0</td>\n",
              "    </tr>\n",
              "    <tr>\n",
              "      <th>2020-12-28</th>\n",
              "      <td>9579.0</td>\n",
              "    </tr>\n",
              "    <tr>\n",
              "      <th>...</th>\n",
              "      <td>...</td>\n",
              "    </tr>\n",
              "    <tr>\n",
              "      <th>2021-04-23</th>\n",
              "      <td>11807897.0</td>\n",
              "    </tr>\n",
              "    <tr>\n",
              "      <th>2021-04-24</th>\n",
              "      <td>11961104.0</td>\n",
              "    </tr>\n",
              "    <tr>\n",
              "      <th>2021-04-25</th>\n",
              "      <td>12038498.0</td>\n",
              "    </tr>\n",
              "    <tr>\n",
              "      <th>2021-04-26</th>\n",
              "      <td>12054021.0</td>\n",
              "    </tr>\n",
              "    <tr>\n",
              "      <th>2021-04-27</th>\n",
              "      <td>12096308.0</td>\n",
              "    </tr>\n",
              "  </tbody>\n",
              "</table>\n",
              "<p>125 rows × 1 columns</p>\n",
              "</div>"
            ],
            "text/plain": [
              "            people_vaccinated\n",
              "date                         \n",
              "2020-12-24             2924.0\n",
              "2020-12-25             2924.0\n",
              "2020-12-26             2924.0\n",
              "2020-12-27             6824.0\n",
              "2020-12-28             9579.0\n",
              "...                       ...\n",
              "2021-04-23         11807897.0\n",
              "2021-04-24         11961104.0\n",
              "2021-04-25         12038498.0\n",
              "2021-04-26         12054021.0\n",
              "2021-04-27         12096308.0\n",
              "\n",
              "[125 rows x 1 columns]"
            ]
          },
          "metadata": {
            "tags": []
          },
          "execution_count": 41
        }
      ]
    },
    {
      "cell_type": "code",
      "metadata": {
        "colab": {
          "base_uri": "https://localhost:8080/"
        },
        "id": "b8zeJ8wNPO8c",
        "outputId": "10ededc2-6a2d-463d-e651-822414f69c58"
      },
      "source": [
        "people_fully_vaccinated = people_fully_vaccinated.set_index('date')\n",
        "people_fully_vaccinated.index"
      ],
      "execution_count": null,
      "outputs": [
        {
          "output_type": "execute_result",
          "data": {
            "text/plain": [
              "DatetimeIndex(['2020-12-24', '2020-12-25', '2020-12-26', '2020-12-27',\n",
              "               '2020-12-28', '2020-12-29', '2020-12-30', '2020-12-31',\n",
              "               '2021-01-01', '2021-01-02',\n",
              "               ...\n",
              "               '2021-04-18', '2021-04-19', '2021-04-20', '2021-04-21',\n",
              "               '2021-04-22', '2021-04-23', '2021-04-24', '2021-04-25',\n",
              "               '2021-04-26', '2021-04-27'],\n",
              "              dtype='datetime64[ns]', name='date', length=125, freq=None)"
            ]
          },
          "metadata": {
            "tags": []
          },
          "execution_count": 42
        }
      ]
    },
    {
      "cell_type": "code",
      "metadata": {
        "colab": {
          "base_uri": "https://localhost:8080/",
          "height": 450
        },
        "id": "mYfuO92qPrLS",
        "outputId": "0f7f2bd5-67bb-40c5-817a-5513b3909a06"
      },
      "source": [
        "people_fully_vaccinated"
      ],
      "execution_count": null,
      "outputs": [
        {
          "output_type": "execute_result",
          "data": {
            "text/html": [
              "<div>\n",
              "<style scoped>\n",
              "    .dataframe tbody tr th:only-of-type {\n",
              "        vertical-align: middle;\n",
              "    }\n",
              "\n",
              "    .dataframe tbody tr th {\n",
              "        vertical-align: top;\n",
              "    }\n",
              "\n",
              "    .dataframe thead th {\n",
              "        text-align: right;\n",
              "    }\n",
              "</style>\n",
              "<table border=\"1\" class=\"dataframe\">\n",
              "  <thead>\n",
              "    <tr style=\"text-align: right;\">\n",
              "      <th></th>\n",
              "      <th>people_fully_vaccinated</th>\n",
              "    </tr>\n",
              "    <tr>\n",
              "      <th>date</th>\n",
              "      <th></th>\n",
              "    </tr>\n",
              "  </thead>\n",
              "  <tbody>\n",
              "    <tr>\n",
              "      <th>2020-12-24</th>\n",
              "      <td>0.0</td>\n",
              "    </tr>\n",
              "    <tr>\n",
              "      <th>2020-12-25</th>\n",
              "      <td>0.0</td>\n",
              "    </tr>\n",
              "    <tr>\n",
              "      <th>2020-12-26</th>\n",
              "      <td>0.0</td>\n",
              "    </tr>\n",
              "    <tr>\n",
              "      <th>2020-12-27</th>\n",
              "      <td>0.0</td>\n",
              "    </tr>\n",
              "    <tr>\n",
              "      <th>2020-12-28</th>\n",
              "      <td>0.0</td>\n",
              "    </tr>\n",
              "    <tr>\n",
              "      <th>...</th>\n",
              "      <td>...</td>\n",
              "    </tr>\n",
              "    <tr>\n",
              "      <th>2021-04-23</th>\n",
              "      <td>5347232.0</td>\n",
              "    </tr>\n",
              "    <tr>\n",
              "      <th>2021-04-24</th>\n",
              "      <td>5646105.0</td>\n",
              "    </tr>\n",
              "    <tr>\n",
              "      <th>2021-04-25</th>\n",
              "      <td>5830079.0</td>\n",
              "    </tr>\n",
              "    <tr>\n",
              "      <th>2021-04-26</th>\n",
              "      <td>5917676.0</td>\n",
              "    </tr>\n",
              "    <tr>\n",
              "      <th>2021-04-27</th>\n",
              "      <td>6096954.0</td>\n",
              "    </tr>\n",
              "  </tbody>\n",
              "</table>\n",
              "<p>125 rows × 1 columns</p>\n",
              "</div>"
            ],
            "text/plain": [
              "            people_fully_vaccinated\n",
              "date                               \n",
              "2020-12-24                      0.0\n",
              "2020-12-25                      0.0\n",
              "2020-12-26                      0.0\n",
              "2020-12-27                      0.0\n",
              "2020-12-28                      0.0\n",
              "...                             ...\n",
              "2021-04-23                5347232.0\n",
              "2021-04-24                5646105.0\n",
              "2021-04-25                5830079.0\n",
              "2021-04-26                5917676.0\n",
              "2021-04-27                6096954.0\n",
              "\n",
              "[125 rows x 1 columns]"
            ]
          },
          "metadata": {
            "tags": []
          },
          "execution_count": 43
        }
      ]
    },
    {
      "cell_type": "code",
      "metadata": {
        "colab": {
          "base_uri": "https://localhost:8080/"
        },
        "id": "rgeM0UTVpsgx",
        "outputId": "f4ecfb3f-fe39-4231-e2b9-8ddde3d70700"
      },
      "source": [
        "total_vaccinations.loc['2021-01-27']"
      ],
      "execution_count": null,
      "outputs": [
        {
          "output_type": "execute_result",
          "data": {
            "text/plain": [
              "total_vaccinations    656044.0\n",
              "Name: 2021-01-27 00:00:00, dtype: float64"
            ]
          },
          "metadata": {
            "tags": []
          },
          "execution_count": 44
        }
      ]
    },
    {
      "cell_type": "code",
      "metadata": {
        "colab": {
          "base_uri": "https://localhost:8080/"
        },
        "id": "PdegNQY2pvsZ",
        "outputId": "db98f3f9-20af-4160-e5cf-31d75ac195e8"
      },
      "source": [
        "people_vaccinated.loc['2021-01-27']"
      ],
      "execution_count": null,
      "outputs": [
        {
          "output_type": "execute_result",
          "data": {
            "text/plain": [
              "people_vaccinated    624730.0\n",
              "Name: 2021-01-27 00:00:00, dtype: float64"
            ]
          },
          "metadata": {
            "tags": []
          },
          "execution_count": 45
        }
      ]
    },
    {
      "cell_type": "code",
      "metadata": {
        "colab": {
          "base_uri": "https://localhost:8080/"
        },
        "id": "NZK7_GFtPs-P",
        "outputId": "f3aab63a-7cbe-42d1-af2f-9f3fa20069ea"
      },
      "source": [
        "people_fully_vaccinated.loc['2021-01-27']"
      ],
      "execution_count": null,
      "outputs": [
        {
          "output_type": "execute_result",
          "data": {
            "text/plain": [
              "people_fully_vaccinated    31314.0\n",
              "Name: 2021-01-27 00:00:00, dtype: float64"
            ]
          },
          "metadata": {
            "tags": []
          },
          "execution_count": 46
        }
      ]
    },
    {
      "cell_type": "code",
      "metadata": {
        "colab": {
          "base_uri": "https://localhost:8080/"
        },
        "id": "SpK5vN2mP1x0",
        "outputId": "aa9822d1-e72d-4a48-c21b-2f05d73812c9"
      },
      "source": [
        "people_fully_vaccinated.shape"
      ],
      "execution_count": null,
      "outputs": [
        {
          "output_type": "execute_result",
          "data": {
            "text/plain": [
              "(125, 1)"
            ]
          },
          "metadata": {
            "tags": []
          },
          "execution_count": 47
        }
      ]
    },
    {
      "cell_type": "code",
      "metadata": {
        "colab": {
          "base_uri": "https://localhost:8080/"
        },
        "id": "SE3uaulnRCJt",
        "outputId": "4e82ebf5-c97e-4e0a-c35f-78eb21d1c599"
      },
      "source": [
        "people_fully_vaccinated.dtypes"
      ],
      "execution_count": null,
      "outputs": [
        {
          "output_type": "execute_result",
          "data": {
            "text/plain": [
              "people_fully_vaccinated    float64\n",
              "dtype: object"
            ]
          },
          "metadata": {
            "tags": []
          },
          "execution_count": 48
        }
      ]
    },
    {
      "cell_type": "code",
      "metadata": {
        "colab": {
          "base_uri": "https://localhost:8080/",
          "height": 585
        },
        "id": "CaOVXRskQmny",
        "outputId": "fef6f92d-dd0c-4ea1-8466-1a33352a6224"
      },
      "source": [
        "rcParams['figure.figsize'] = 18, 8\n",
        "decomposition = sm.tsa.seasonal_decompose(people_fully_vaccinated, model='additive')\n",
        "decomposition.plot()\n",
        "plt.show()"
      ],
      "execution_count": null,
      "outputs": [
        {
          "output_type": "display_data",
          "data": {
            "image/png": "[encoded data removed]",
            "text/plain": [
              "<Figure size 1296x576 with 4 Axes>"
            ]
          },
          "metadata": {
            "tags": [],
            "needs_background": "light"
          }
        }
      ]
    },
    {
      "cell_type": "markdown",
      "metadata": {
        "id": "xGRYZ_rpUJDs"
      },
      "source": [
        "# ARIMA"
      ]
    },
    {
      "cell_type": "code",
      "metadata": {
        "id": "_v1uANUpUemk"
      },
      "source": [
        "import itertools\n",
        "import numpy as np"
      ],
      "execution_count": null,
      "outputs": []
    },
    {
      "cell_type": "code",
      "metadata": {
        "colab": {
          "base_uri": "https://localhost:8080/"
        },
        "id": "jrSDTzR6UJ5W",
        "outputId": "1e4fbaea-01e8-4607-d518-98c3644fc790"
      },
      "source": [
        "p = d = q = range(0, 2)\n",
        "pdq = list(itertools.product(p, d, q))\n",
        "seasonal_pdq = [(x[0], x[1], x[2], 12) for x in list(itertools.product(p, d, q))]\n",
        "print('Examples of parameter combinations for Seasonal ARIMA...')\n",
        "print('SARIMAX: {} x {}'.format(pdq[1], seasonal_pdq[1]))\n",
        "print('SARIMAX: {} x {}'.format(pdq[1], seasonal_pdq[2]))\n",
        "print('SARIMAX: {} x {}'.format(pdq[2], seasonal_pdq[3]))\n",
        "print('SARIMAX: {} x {}'.format(pdq[2], seasonal_pdq[4]))"
      ],
      "execution_count": null,
      "outputs": [
        {
          "output_type": "stream",
          "text": [
            "Examples of parameter combinations for Seasonal ARIMA...\n",
            "SARIMAX: (0, 0, 1) x (0, 0, 1, 12)\n",
            "SARIMAX: (0, 0, 1) x (0, 1, 0, 12)\n",
            "SARIMAX: (0, 1, 0) x (0, 1, 1, 12)\n",
            "SARIMAX: (0, 1, 0) x (1, 0, 0, 12)\n"
          ],
          "name": "stdout"
        }
      ]
    },
    {
      "cell_type": "code",
      "metadata": {
        "colab": {
          "base_uri": "https://localhost:8080/"
        },
        "id": "RuyqbWaIUbGN",
        "outputId": "0a50bd6a-7b61-4ecf-d47d-8e09c51d6034"
      },
      "source": [
        "for param in pdq:\n",
        "    for param_seasonal in seasonal_pdq:\n",
        "        try:\n",
        "            mod = sm.tsa.statespace.SARIMAX(people_fully_vaccinated,\n",
        "                                            order=param,\n",
        "                                            seasonal_order=param_seasonal,\n",
        "                                            enforce_stationarity=False,\n",
        "                                            enforce_invertibility=False)\n",
        "            results = mod.fit()\n",
        "            print('ARIMA{}x{}12 - AIC:{}'.format(param, param_seasonal, results.aic))\n",
        "        except:\n",
        "            continue"
      ],
      "execution_count": null,
      "outputs": [
        {
          "output_type": "stream",
          "text": [
            "ARIMA(0, 0, 0)x(0, 0, 0, 12)12 - AIC:3909.4019327237265\n",
            "ARIMA(0, 0, 0)x(0, 0, 1, 12)12 - AIC:3579.601422329948\n"
          ],
          "name": "stdout"
        },
        {
          "output_type": "stream",
          "text": [
            "/usr/local/lib/python3.7/dist-packages/statsmodels/tsa/base/tsa_model.py:165: ValueWarning: No frequency information was provided, so inferred frequency D will be used.\n",
            "  % freq, ValueWarning)\n",
            "/usr/local/lib/python3.7/dist-packages/statsmodels/tsa/base/tsa_model.py:165: ValueWarning: No frequency information was provided, so inferred frequency D will be used.\n",
            "  % freq, ValueWarning)\n",
            "/usr/local/lib/python3.7/dist-packages/statsmodels/tsa/base/tsa_model.py:165: ValueWarning: No frequency information was provided, so inferred frequency D will be used.\n",
            "  % freq, ValueWarning)\n"
          ],
          "name": "stderr"
        },
        {
          "output_type": "stream",
          "text": [
            "ARIMA(0, 0, 0)x(0, 1, 0, 12)12 - AIC:3421.2708372610005\n",
            "ARIMA(0, 0, 0)x(0, 1, 1, 12)12 - AIC:3130.5177256808543\n",
            "ARIMA(0, 0, 0)x(1, 0, 0, 12)12 - AIC:3243.401496189784\n"
          ],
          "name": "stdout"
        },
        {
          "output_type": "stream",
          "text": [
            "/usr/local/lib/python3.7/dist-packages/statsmodels/tsa/base/tsa_model.py:165: ValueWarning: No frequency information was provided, so inferred frequency D will be used.\n",
            "  % freq, ValueWarning)\n",
            "/usr/local/lib/python3.7/dist-packages/statsmodels/tsa/base/tsa_model.py:165: ValueWarning: No frequency information was provided, so inferred frequency D will be used.\n",
            "  % freq, ValueWarning)\n",
            "/usr/local/lib/python3.7/dist-packages/statsmodels/tsa/base/tsa_model.py:165: ValueWarning: No frequency information was provided, so inferred frequency D will be used.\n",
            "  % freq, ValueWarning)\n"
          ],
          "name": "stderr"
        },
        {
          "output_type": "stream",
          "text": [
            "ARIMA(0, 0, 0)x(1, 0, 1, 12)12 - AIC:3214.6743856500534\n",
            "ARIMA(0, 0, 0)x(1, 1, 0, 12)12 - AIC:2941.942339854269\n"
          ],
          "name": "stdout"
        },
        {
          "output_type": "stream",
          "text": [
            "/usr/local/lib/python3.7/dist-packages/statsmodels/tsa/base/tsa_model.py:165: ValueWarning: No frequency information was provided, so inferred frequency D will be used.\n",
            "  % freq, ValueWarning)\n",
            "/usr/local/lib/python3.7/dist-packages/statsmodels/tsa/base/tsa_model.py:165: ValueWarning: No frequency information was provided, so inferred frequency D will be used.\n",
            "  % freq, ValueWarning)\n"
          ],
          "name": "stderr"
        },
        {
          "output_type": "stream",
          "text": [
            "ARIMA(0, 0, 0)x(1, 1, 1, 12)12 - AIC:2870.334447361543\n",
            "ARIMA(0, 0, 1)x(0, 0, 0, 12)12 - AIC:3791.922833146755\n",
            "ARIMA(0, 0, 1)x(0, 0, 1, 12)12 - AIC:3514.1408836675014\n"
          ],
          "name": "stdout"
        },
        {
          "output_type": "stream",
          "text": [
            "/usr/local/lib/python3.7/dist-packages/statsmodels/tsa/base/tsa_model.py:165: ValueWarning: No frequency information was provided, so inferred frequency D will be used.\n",
            "  % freq, ValueWarning)\n",
            "/usr/local/lib/python3.7/dist-packages/statsmodels/tsa/base/tsa_model.py:165: ValueWarning: No frequency information was provided, so inferred frequency D will be used.\n",
            "  % freq, ValueWarning)\n",
            "/usr/local/lib/python3.7/dist-packages/statsmodels/tsa/base/tsa_model.py:165: ValueWarning: No frequency information was provided, so inferred frequency D will be used.\n",
            "  % freq, ValueWarning)\n"
          ],
          "name": "stderr"
        },
        {
          "output_type": "stream",
          "text": [
            "ARIMA(0, 0, 1)x(0, 1, 0, 12)12 - AIC:3309.908151644352\n"
          ],
          "name": "stdout"
        },
        {
          "output_type": "stream",
          "text": [
            "/usr/local/lib/python3.7/dist-packages/statsmodels/tsa/base/tsa_model.py:165: ValueWarning: No frequency information was provided, so inferred frequency D will be used.\n",
            "  % freq, ValueWarning)\n"
          ],
          "name": "stderr"
        },
        {
          "output_type": "stream",
          "text": [
            "ARIMA(0, 0, 1)x(0, 1, 1, 12)12 - AIC:3067.770876191592\n",
            "ARIMA(0, 0, 1)x(1, 0, 0, 12)12 - AIC:3458.2494647908907\n",
            "ARIMA(0, 0, 1)x(1, 0, 1, 12)12 - AIC:3399.184099593144\n"
          ],
          "name": "stdout"
        },
        {
          "output_type": "stream",
          "text": [
            "/usr/local/lib/python3.7/dist-packages/statsmodels/tsa/base/tsa_model.py:165: ValueWarning: No frequency information was provided, so inferred frequency D will be used.\n",
            "  % freq, ValueWarning)\n",
            "/usr/local/lib/python3.7/dist-packages/statsmodels/tsa/base/tsa_model.py:165: ValueWarning: No frequency information was provided, so inferred frequency D will be used.\n",
            "  % freq, ValueWarning)\n",
            "/usr/local/lib/python3.7/dist-packages/statsmodels/tsa/base/tsa_model.py:165: ValueWarning: No frequency information was provided, so inferred frequency D will be used.\n",
            "  % freq, ValueWarning)\n"
          ],
          "name": "stderr"
        },
        {
          "output_type": "stream",
          "text": [
            "ARIMA(0, 0, 1)x(1, 1, 0, 12)12 - AIC:2997.0275388182463\n"
          ],
          "name": "stdout"
        },
        {
          "output_type": "stream",
          "text": [
            "/usr/local/lib/python3.7/dist-packages/statsmodels/tsa/base/tsa_model.py:165: ValueWarning: No frequency information was provided, so inferred frequency D will be used.\n",
            "  % freq, ValueWarning)\n"
          ],
          "name": "stderr"
        },
        {
          "output_type": "stream",
          "text": [
            "ARIMA(0, 0, 1)x(1, 1, 1, 12)12 - AIC:2934.2646926294783\n",
            "ARIMA(0, 1, 0)x(0, 0, 0, 12)12 - AIC:3210.5319692276685\n",
            "ARIMA(0, 1, 0)x(0, 0, 1, 12)12 - AIC:2893.9495528378275\n",
            "ARIMA(0, 1, 0)x(0, 1, 0, 12)12 - AIC:2868.5015284433935\n",
            "ARIMA(0, 1, 0)x(0, 1, 1, 12)12 - AIC:2572.741821906872\n",
            "ARIMA(0, 1, 0)x(1, 0, 0, 12)12 - AIC:2894.377918664672\n"
          ],
          "name": "stdout"
        },
        {
          "output_type": "stream",
          "text": [
            "/usr/local/lib/python3.7/dist-packages/statsmodels/tsa/base/tsa_model.py:165: ValueWarning: No frequency information was provided, so inferred frequency D will be used.\n",
            "  % freq, ValueWarning)\n",
            "/usr/local/lib/python3.7/dist-packages/statsmodels/tsa/base/tsa_model.py:165: ValueWarning: No frequency information was provided, so inferred frequency D will be used.\n",
            "  % freq, ValueWarning)\n",
            "/usr/local/lib/python3.7/dist-packages/statsmodels/tsa/base/tsa_model.py:165: ValueWarning: No frequency information was provided, so inferred frequency D will be used.\n",
            "  % freq, ValueWarning)\n",
            "/usr/local/lib/python3.7/dist-packages/statsmodels/tsa/base/tsa_model.py:165: ValueWarning: No frequency information was provided, so inferred frequency D will be used.\n",
            "  % freq, ValueWarning)\n",
            "/usr/local/lib/python3.7/dist-packages/statsmodels/tsa/base/tsa_model.py:165: ValueWarning: No frequency information was provided, so inferred frequency D will be used.\n",
            "  % freq, ValueWarning)\n",
            "/usr/local/lib/python3.7/dist-packages/statsmodels/tsa/base/tsa_model.py:165: ValueWarning: No frequency information was provided, so inferred frequency D will be used.\n",
            "  % freq, ValueWarning)\n"
          ],
          "name": "stderr"
        },
        {
          "output_type": "stream",
          "text": [
            "ARIMA(0, 1, 0)x(1, 0, 1, 12)12 - AIC:2868.2370144153115\n",
            "ARIMA(0, 1, 0)x(1, 1, 0, 12)12 - AIC:2595.160397103715\n"
          ],
          "name": "stdout"
        },
        {
          "output_type": "stream",
          "text": [
            "/usr/local/lib/python3.7/dist-packages/statsmodels/tsa/base/tsa_model.py:165: ValueWarning: No frequency information was provided, so inferred frequency D will be used.\n",
            "  % freq, ValueWarning)\n",
            "/usr/local/lib/python3.7/dist-packages/statsmodels/tsa/base/tsa_model.py:165: ValueWarning: No frequency information was provided, so inferred frequency D will be used.\n",
            "  % freq, ValueWarning)\n"
          ],
          "name": "stderr"
        },
        {
          "output_type": "stream",
          "text": [
            "ARIMA(0, 1, 0)x(1, 1, 1, 12)12 - AIC:2573.283514491876\n",
            "ARIMA(0, 1, 1)x(0, 0, 0, 12)12 - AIC:3133.209349206468\n",
            "ARIMA(0, 1, 1)x(0, 0, 1, 12)12 - AIC:2829.7560367243104\n",
            "ARIMA(0, 1, 1)x(0, 1, 0, 12)12 - AIC:2827.071857326532\n"
          ],
          "name": "stdout"
        },
        {
          "output_type": "stream",
          "text": [
            "/usr/local/lib/python3.7/dist-packages/statsmodels/tsa/base/tsa_model.py:165: ValueWarning: No frequency information was provided, so inferred frequency D will be used.\n",
            "  % freq, ValueWarning)\n",
            "/usr/local/lib/python3.7/dist-packages/statsmodels/tsa/base/tsa_model.py:165: ValueWarning: No frequency information was provided, so inferred frequency D will be used.\n",
            "  % freq, ValueWarning)\n",
            "/usr/local/lib/python3.7/dist-packages/statsmodels/tsa/base/tsa_model.py:165: ValueWarning: No frequency information was provided, so inferred frequency D will be used.\n",
            "  % freq, ValueWarning)\n",
            "/usr/local/lib/python3.7/dist-packages/statsmodels/tsa/base/tsa_model.py:165: ValueWarning: No frequency information was provided, so inferred frequency D will be used.\n",
            "  % freq, ValueWarning)\n"
          ],
          "name": "stderr"
        },
        {
          "output_type": "stream",
          "text": [
            "ARIMA(0, 1, 1)x(0, 1, 1, 12)12 - AIC:2520.713730036426\n",
            "ARIMA(0, 1, 1)x(1, 0, 0, 12)12 - AIC:2877.42600498129\n",
            "ARIMA(0, 1, 1)x(1, 0, 1, 12)12 - AIC:2826.494836984841\n"
          ],
          "name": "stdout"
        },
        {
          "output_type": "stream",
          "text": [
            "/usr/local/lib/python3.7/dist-packages/statsmodels/tsa/base/tsa_model.py:165: ValueWarning: No frequency information was provided, so inferred frequency D will be used.\n",
            "  % freq, ValueWarning)\n",
            "/usr/local/lib/python3.7/dist-packages/statsmodels/tsa/base/tsa_model.py:165: ValueWarning: No frequency information was provided, so inferred frequency D will be used.\n",
            "  % freq, ValueWarning)\n",
            "/usr/local/lib/python3.7/dist-packages/statsmodels/tsa/base/tsa_model.py:165: ValueWarning: No frequency information was provided, so inferred frequency D will be used.\n",
            "  % freq, ValueWarning)\n"
          ],
          "name": "stderr"
        },
        {
          "output_type": "stream",
          "text": [
            "ARIMA(0, 1, 1)x(1, 1, 0, 12)12 - AIC:2570.6659532979525\n"
          ],
          "name": "stdout"
        },
        {
          "output_type": "stream",
          "text": [
            "/usr/local/lib/python3.7/dist-packages/statsmodels/tsa/base/tsa_model.py:165: ValueWarning: No frequency information was provided, so inferred frequency D will be used.\n",
            "  % freq, ValueWarning)\n"
          ],
          "name": "stderr"
        },
        {
          "output_type": "stream",
          "text": [
            "ARIMA(0, 1, 1)x(1, 1, 1, 12)12 - AIC:2522.657295299013\n",
            "ARIMA(1, 0, 0)x(0, 0, 0, 12)12 - AIC:3104.710645102379\n",
            "ARIMA(1, 0, 0)x(0, 0, 1, 12)12 - AIC:2874.3847015734846\n",
            "ARIMA(1, 0, 0)x(0, 1, 0, 12)12 - AIC:2873.732816494068\n"
          ],
          "name": "stdout"
        },
        {
          "output_type": "stream",
          "text": [
            "/usr/local/lib/python3.7/dist-packages/statsmodels/tsa/base/tsa_model.py:165: ValueWarning: No frequency information was provided, so inferred frequency D will be used.\n",
            "  % freq, ValueWarning)\n",
            "/usr/local/lib/python3.7/dist-packages/statsmodels/tsa/base/tsa_model.py:165: ValueWarning: No frequency information was provided, so inferred frequency D will be used.\n",
            "  % freq, ValueWarning)\n",
            "/usr/local/lib/python3.7/dist-packages/statsmodels/tsa/base/tsa_model.py:165: ValueWarning: No frequency information was provided, so inferred frequency D will be used.\n",
            "  % freq, ValueWarning)\n",
            "/usr/local/lib/python3.7/dist-packages/statsmodels/tsa/base/tsa_model.py:165: ValueWarning: No frequency information was provided, so inferred frequency D will be used.\n",
            "  % freq, ValueWarning)\n"
          ],
          "name": "stderr"
        },
        {
          "output_type": "stream",
          "text": [
            "ARIMA(1, 0, 0)x(0, 1, 1, 12)12 - AIC:2645.440866437373\n",
            "ARIMA(1, 0, 0)x(1, 0, 0, 12)12 - AIC:2814.3663102411856\n"
          ],
          "name": "stdout"
        },
        {
          "output_type": "stream",
          "text": [
            "/usr/local/lib/python3.7/dist-packages/statsmodels/tsa/base/tsa_model.py:165: ValueWarning: No frequency information was provided, so inferred frequency D will be used.\n",
            "  % freq, ValueWarning)\n",
            "/usr/local/lib/python3.7/dist-packages/statsmodels/tsa/base/tsa_model.py:165: ValueWarning: No frequency information was provided, so inferred frequency D will be used.\n",
            "  % freq, ValueWarning)\n"
          ],
          "name": "stderr"
        },
        {
          "output_type": "stream",
          "text": [
            "ARIMA(1, 0, 0)x(1, 0, 1, 12)12 - AIC:2812.4327102917705\n"
          ],
          "name": "stdout"
        },
        {
          "output_type": "stream",
          "text": [
            "/usr/local/lib/python3.7/dist-packages/statsmodels/tsa/base/tsa_model.py:165: ValueWarning: No frequency information was provided, so inferred frequency D will be used.\n",
            "  % freq, ValueWarning)\n"
          ],
          "name": "stderr"
        },
        {
          "output_type": "stream",
          "text": [
            "ARIMA(1, 0, 0)x(1, 1, 0, 12)12 - AIC:2557.5531392308694\n"
          ],
          "name": "stdout"
        },
        {
          "output_type": "stream",
          "text": [
            "/usr/local/lib/python3.7/dist-packages/statsmodels/tsa/base/tsa_model.py:165: ValueWarning: No frequency information was provided, so inferred frequency D will be used.\n",
            "  % freq, ValueWarning)\n"
          ],
          "name": "stderr"
        },
        {
          "output_type": "stream",
          "text": [
            "ARIMA(1, 0, 0)x(1, 1, 1, 12)12 - AIC:2533.584478942963\n",
            "ARIMA(1, 0, 1)x(0, 0, 0, 12)12 - AIC:3064.548407926833\n",
            "ARIMA(1, 0, 1)x(0, 0, 1, 12)12 - AIC:2838.985869896609\n",
            "ARIMA(1, 0, 1)x(0, 1, 0, 12)12 - AIC:2842.008801700301\n"
          ],
          "name": "stdout"
        },
        {
          "output_type": "stream",
          "text": [
            "/usr/local/lib/python3.7/dist-packages/statsmodels/tsa/base/tsa_model.py:165: ValueWarning: No frequency information was provided, so inferred frequency D will be used.\n",
            "  % freq, ValueWarning)\n",
            "/usr/local/lib/python3.7/dist-packages/statsmodels/tsa/base/tsa_model.py:165: ValueWarning: No frequency information was provided, so inferred frequency D will be used.\n",
            "  % freq, ValueWarning)\n",
            "/usr/local/lib/python3.7/dist-packages/statsmodels/tsa/base/tsa_model.py:165: ValueWarning: No frequency information was provided, so inferred frequency D will be used.\n",
            "  % freq, ValueWarning)\n",
            "/usr/local/lib/python3.7/dist-packages/statsmodels/tsa/base/tsa_model.py:165: ValueWarning: No frequency information was provided, so inferred frequency D will be used.\n",
            "  % freq, ValueWarning)\n"
          ],
          "name": "stderr"
        },
        {
          "output_type": "stream",
          "text": [
            "ARIMA(1, 0, 1)x(0, 1, 1, 12)12 - AIC:2618.3494176799913\n",
            "ARIMA(1, 0, 1)x(1, 0, 0, 12)12 - AIC:2800.3807468301957\n"
          ],
          "name": "stdout"
        },
        {
          "output_type": "stream",
          "text": [
            "/usr/local/lib/python3.7/dist-packages/statsmodels/tsa/base/tsa_model.py:165: ValueWarning: No frequency information was provided, so inferred frequency D will be used.\n",
            "  % freq, ValueWarning)\n",
            "/usr/local/lib/python3.7/dist-packages/statsmodels/tsa/base/tsa_model.py:165: ValueWarning: No frequency information was provided, so inferred frequency D will be used.\n",
            "  % freq, ValueWarning)\n"
          ],
          "name": "stderr"
        },
        {
          "output_type": "stream",
          "text": [
            "ARIMA(1, 0, 1)x(1, 0, 1, 12)12 - AIC:2776.891835107137\n"
          ],
          "name": "stdout"
        },
        {
          "output_type": "stream",
          "text": [
            "/usr/local/lib/python3.7/dist-packages/statsmodels/tsa/base/tsa_model.py:165: ValueWarning: No frequency information was provided, so inferred frequency D will be used.\n",
            "  % freq, ValueWarning)\n"
          ],
          "name": "stderr"
        },
        {
          "output_type": "stream",
          "text": [
            "ARIMA(1, 0, 1)x(1, 1, 0, 12)12 - AIC:2544.76946718597\n"
          ],
          "name": "stdout"
        },
        {
          "output_type": "stream",
          "text": [
            "/usr/local/lib/python3.7/dist-packages/statsmodels/tsa/base/tsa_model.py:165: ValueWarning: No frequency information was provided, so inferred frequency D will be used.\n",
            "  % freq, ValueWarning)\n"
          ],
          "name": "stderr"
        },
        {
          "output_type": "stream",
          "text": [
            "ARIMA(1, 0, 1)x(1, 1, 1, 12)12 - AIC:2500.7482534149517\n",
            "ARIMA(1, 1, 0)x(0, 0, 0, 12)12 - AIC:3080.7045937139096\n",
            "ARIMA(1, 1, 0)x(0, 0, 1, 12)12 - AIC:2794.2350442098445\n",
            "ARIMA(1, 1, 0)x(0, 1, 0, 12)12 - AIC:2840.5191778758094\n"
          ],
          "name": "stdout"
        },
        {
          "output_type": "stream",
          "text": [
            "/usr/local/lib/python3.7/dist-packages/statsmodels/tsa/base/tsa_model.py:165: ValueWarning: No frequency information was provided, so inferred frequency D will be used.\n",
            "  % freq, ValueWarning)\n",
            "/usr/local/lib/python3.7/dist-packages/statsmodels/tsa/base/tsa_model.py:165: ValueWarning: No frequency information was provided, so inferred frequency D will be used.\n",
            "  % freq, ValueWarning)\n",
            "/usr/local/lib/python3.7/dist-packages/statsmodels/tsa/base/tsa_model.py:165: ValueWarning: No frequency information was provided, so inferred frequency D will be used.\n",
            "  % freq, ValueWarning)\n",
            "/usr/local/lib/python3.7/dist-packages/statsmodels/tsa/base/tsa_model.py:165: ValueWarning: No frequency information was provided, so inferred frequency D will be used.\n",
            "  % freq, ValueWarning)\n"
          ],
          "name": "stderr"
        },
        {
          "output_type": "stream",
          "text": [
            "ARIMA(1, 1, 0)x(0, 1, 1, 12)12 - AIC:2508.29238541524\n",
            "ARIMA(1, 1, 0)x(1, 0, 0, 12)12 - AIC:2794.228526361513\n"
          ],
          "name": "stdout"
        },
        {
          "output_type": "stream",
          "text": [
            "/usr/local/lib/python3.7/dist-packages/statsmodels/tsa/base/tsa_model.py:165: ValueWarning: No frequency information was provided, so inferred frequency D will be used.\n",
            "  % freq, ValueWarning)\n",
            "/usr/local/lib/python3.7/dist-packages/statsmodels/tsa/base/tsa_model.py:165: ValueWarning: No frequency information was provided, so inferred frequency D will be used.\n",
            "  % freq, ValueWarning)\n"
          ],
          "name": "stderr"
        },
        {
          "output_type": "stream",
          "text": [
            "ARIMA(1, 1, 0)x(1, 0, 1, 12)12 - AIC:2783.662864854824\n",
            "ARIMA(1, 1, 0)x(1, 1, 0, 12)12 - AIC:2521.4470027058974\n"
          ],
          "name": "stdout"
        },
        {
          "output_type": "stream",
          "text": [
            "/usr/local/lib/python3.7/dist-packages/statsmodels/tsa/base/tsa_model.py:165: ValueWarning: No frequency information was provided, so inferred frequency D will be used.\n",
            "  % freq, ValueWarning)\n",
            "/usr/local/lib/python3.7/dist-packages/statsmodels/tsa/base/tsa_model.py:165: ValueWarning: No frequency information was provided, so inferred frequency D will be used.\n",
            "  % freq, ValueWarning)\n"
          ],
          "name": "stderr"
        },
        {
          "output_type": "stream",
          "text": [
            "ARIMA(1, 1, 0)x(1, 1, 1, 12)12 - AIC:2510.2416930915288\n",
            "ARIMA(1, 1, 1)x(0, 0, 0, 12)12 - AIC:3047.375198053147\n",
            "ARIMA(1, 1, 1)x(0, 0, 1, 12)12 - AIC:2758.0712181248423\n"
          ],
          "name": "stdout"
        },
        {
          "output_type": "stream",
          "text": [
            "/usr/local/lib/python3.7/dist-packages/statsmodels/tsa/base/tsa_model.py:165: ValueWarning: No frequency information was provided, so inferred frequency D will be used.\n",
            "  % freq, ValueWarning)\n",
            "/usr/local/lib/python3.7/dist-packages/statsmodels/tsa/base/tsa_model.py:165: ValueWarning: No frequency information was provided, so inferred frequency D will be used.\n",
            "  % freq, ValueWarning)\n",
            "/usr/local/lib/python3.7/dist-packages/statsmodels/tsa/base/tsa_model.py:165: ValueWarning: No frequency information was provided, so inferred frequency D will be used.\n",
            "  % freq, ValueWarning)\n"
          ],
          "name": "stderr"
        },
        {
          "output_type": "stream",
          "text": [
            "ARIMA(1, 1, 1)x(0, 1, 0, 12)12 - AIC:2815.455854084218\n"
          ],
          "name": "stdout"
        },
        {
          "output_type": "stream",
          "text": [
            "/usr/local/lib/python3.7/dist-packages/statsmodels/tsa/base/tsa_model.py:165: ValueWarning: No frequency information was provided, so inferred frequency D will be used.\n",
            "  % freq, ValueWarning)\n"
          ],
          "name": "stderr"
        },
        {
          "output_type": "stream",
          "text": [
            "ARIMA(1, 1, 1)x(0, 1, 1, 12)12 - AIC:2478.4091209661938\n",
            "ARIMA(1, 1, 1)x(1, 0, 0, 12)12 - AIC:2782.522962782892\n"
          ],
          "name": "stdout"
        },
        {
          "output_type": "stream",
          "text": [
            "/usr/local/lib/python3.7/dist-packages/statsmodels/tsa/base/tsa_model.py:165: ValueWarning: No frequency information was provided, so inferred frequency D will be used.\n",
            "  % freq, ValueWarning)\n",
            "/usr/local/lib/python3.7/dist-packages/statsmodels/tsa/base/tsa_model.py:165: ValueWarning: No frequency information was provided, so inferred frequency D will be used.\n",
            "  % freq, ValueWarning)\n"
          ],
          "name": "stderr"
        },
        {
          "output_type": "stream",
          "text": [
            "ARIMA(1, 1, 1)x(1, 0, 1, 12)12 - AIC:2759.8622513350065\n"
          ],
          "name": "stdout"
        },
        {
          "output_type": "stream",
          "text": [
            "/usr/local/lib/python3.7/dist-packages/statsmodels/tsa/base/tsa_model.py:165: ValueWarning: No frequency information was provided, so inferred frequency D will be used.\n",
            "  % freq, ValueWarning)\n"
          ],
          "name": "stderr"
        },
        {
          "output_type": "stream",
          "text": [
            "ARIMA(1, 1, 1)x(1, 1, 0, 12)12 - AIC:2521.1662756157707\n"
          ],
          "name": "stdout"
        },
        {
          "output_type": "stream",
          "text": [
            "/usr/local/lib/python3.7/dist-packages/statsmodels/tsa/base/tsa_model.py:165: ValueWarning: No frequency information was provided, so inferred frequency D will be used.\n",
            "  % freq, ValueWarning)\n"
          ],
          "name": "stderr"
        },
        {
          "output_type": "stream",
          "text": [
            "ARIMA(1, 1, 1)x(1, 1, 1, 12)12 - AIC:2479.7654176365136\n"
          ],
          "name": "stdout"
        }
      ]
    },
    {
      "cell_type": "code",
      "metadata": {
        "colab": {
          "base_uri": "https://localhost:8080/"
        },
        "id": "a-pGDPZ_Un_s",
        "outputId": "5509e1d8-0d64-4940-8b33-2cd80febdd5a"
      },
      "source": [
        "mod = sm.tsa.statespace.SARIMAX(people_fully_vaccinated,\n",
        "                                order=(1, 1, 1),\n",
        "                                seasonal_order=(0, 1, 1, 12),\n",
        "                                enforce_stationarity=False,\n",
        "                                enforce_invertibility=False)\n",
        "results = mod.fit()\n",
        "print(results.summary().tables[1])"
      ],
      "execution_count": null,
      "outputs": [
        {
          "output_type": "stream",
          "text": [
            "/usr/local/lib/python3.7/dist-packages/statsmodels/tsa/base/tsa_model.py:165: ValueWarning: No frequency information was provided, so inferred frequency D will be used.\n",
            "  % freq, ValueWarning)\n"
          ],
          "name": "stderr"
        },
        {
          "output_type": "stream",
          "text": [
            "==============================================================================\n",
            "                 coef    std err          z      P>|z|      [0.025      0.975]\n",
            "------------------------------------------------------------------------------\n",
            "ar.L1          1.0057      0.021     46.964      0.000       0.964       1.048\n",
            "ma.L1         -0.6915      0.116     -5.953      0.000      -0.919      -0.464\n",
            "ma.S.L12      -1.1047      0.080    -13.843      0.000      -1.261      -0.948\n",
            "sigma2       7.44e+09   3.17e-12   2.35e+21      0.000    7.44e+09    7.44e+09\n",
            "==============================================================================\n"
          ],
          "name": "stdout"
        }
      ]
    },
    {
      "cell_type": "code",
      "metadata": {
        "colab": {
          "base_uri": "https://localhost:8080/",
          "height": 513
        },
        "id": "0DAc6Dh2WhUg",
        "outputId": "4eaac1c9-289a-442b-d303-71363164c56e"
      },
      "source": [
        "results.plot_diagnostics(figsize=(16, 8))\n",
        "plt.show()"
      ],
      "execution_count": null,
      "outputs": [
        {
          "output_type": "display_data",
          "data": {
            "image/png": "[encoded data removed]",
            "text/plain": [
              "<Figure size 1152x576 with 4 Axes>"
            ]
          },
          "metadata": {
            "tags": [],
            "needs_background": "light"
          }
        }
      ]
    },
    {
      "cell_type": "code",
      "metadata": {
        "colab": {
          "base_uri": "https://localhost:8080/"
        },
        "id": "w6gOzdMFWsWI",
        "outputId": "ccc80d82-6194-4432-c397-06424a49f1a2"
      },
      "source": [
        "pred = results.get_prediction(start=pd.to_datetime('2020-12-24'), dynamic=False)\n",
        "pred.predicted_mean"
      ],
      "execution_count": null,
      "outputs": [
        {
          "output_type": "execute_result",
          "data": {
            "text/plain": [
              "2020-12-24    0.000000e+00\n",
              "2020-12-25    0.000000e+00\n",
              "2020-12-26    0.000000e+00\n",
              "2020-12-27    0.000000e+00\n",
              "2020-12-28    0.000000e+00\n",
              "                  ...     \n",
              "2021-04-23    5.322884e+06\n",
              "2021-04-24    5.685127e+06\n",
              "2021-04-25    5.961152e+06\n",
              "2021-04-26    6.116274e+06\n",
              "2021-04-27    6.130127e+06\n",
              "Freq: D, Length: 125, dtype: float64"
            ]
          },
          "metadata": {
            "tags": []
          },
          "execution_count": 55
        }
      ]
    },
    {
      "cell_type": "code",
      "metadata": {
        "colab": {
          "base_uri": "https://localhost:8080/",
          "height": 419
        },
        "id": "UWuI6xZLXaLI",
        "outputId": "77143df2-a475-4f46-c70b-aad50bbe86a5"
      },
      "source": [
        "pred.conf_int()"
      ],
      "execution_count": null,
      "outputs": [
        {
          "output_type": "execute_result",
          "data": {
            "text/html": [
              "<div>\n",
              "<style scoped>\n",
              "    .dataframe tbody tr th:only-of-type {\n",
              "        vertical-align: middle;\n",
              "    }\n",
              "\n",
              "    .dataframe tbody tr th {\n",
              "        vertical-align: top;\n",
              "    }\n",
              "\n",
              "    .dataframe thead th {\n",
              "        text-align: right;\n",
              "    }\n",
              "</style>\n",
              "<table border=\"1\" class=\"dataframe\">\n",
              "  <thead>\n",
              "    <tr style=\"text-align: right;\">\n",
              "      <th></th>\n",
              "      <th>lower people_fully_vaccinated</th>\n",
              "      <th>upper people_fully_vaccinated</th>\n",
              "    </tr>\n",
              "  </thead>\n",
              "  <tbody>\n",
              "    <tr>\n",
              "      <th>2020-12-24</th>\n",
              "      <td>-3.394757e+03</td>\n",
              "      <td>3.394757e+03</td>\n",
              "    </tr>\n",
              "    <tr>\n",
              "      <th>2020-12-25</th>\n",
              "      <td>-1.690850e+05</td>\n",
              "      <td>1.690850e+05</td>\n",
              "    </tr>\n",
              "    <tr>\n",
              "      <th>2020-12-26</th>\n",
              "      <td>-1.690876e+05</td>\n",
              "      <td>1.690876e+05</td>\n",
              "    </tr>\n",
              "    <tr>\n",
              "      <th>2020-12-27</th>\n",
              "      <td>-1.690888e+05</td>\n",
              "      <td>1.690888e+05</td>\n",
              "    </tr>\n",
              "    <tr>\n",
              "      <th>2020-12-28</th>\n",
              "      <td>-1.690894e+05</td>\n",
              "      <td>1.690894e+05</td>\n",
              "    </tr>\n",
              "    <tr>\n",
              "      <th>...</th>\n",
              "      <td>...</td>\n",
              "      <td>...</td>\n",
              "    </tr>\n",
              "    <tr>\n",
              "      <th>2021-04-23</th>\n",
              "      <td>5.153641e+06</td>\n",
              "      <td>5.492128e+06</td>\n",
              "    </tr>\n",
              "    <tr>\n",
              "      <th>2021-04-24</th>\n",
              "      <td>5.515729e+06</td>\n",
              "      <td>5.854526e+06</td>\n",
              "    </tr>\n",
              "    <tr>\n",
              "      <th>2021-04-25</th>\n",
              "      <td>5.791800e+06</td>\n",
              "      <td>6.130505e+06</td>\n",
              "    </tr>\n",
              "    <tr>\n",
              "      <th>2021-04-26</th>\n",
              "      <td>5.946944e+06</td>\n",
              "      <td>6.285604e+06</td>\n",
              "    </tr>\n",
              "    <tr>\n",
              "      <th>2021-04-27</th>\n",
              "      <td>5.960807e+06</td>\n",
              "      <td>6.299447e+06</td>\n",
              "    </tr>\n",
              "  </tbody>\n",
              "</table>\n",
              "<p>125 rows × 2 columns</p>\n",
              "</div>"
            ],
            "text/plain": [
              "            lower people_fully_vaccinated  upper people_fully_vaccinated\n",
              "2020-12-24                  -3.394757e+03                   3.394757e+03\n",
              "2020-12-25                  -1.690850e+05                   1.690850e+05\n",
              "2020-12-26                  -1.690876e+05                   1.690876e+05\n",
              "2020-12-27                  -1.690888e+05                   1.690888e+05\n",
              "2020-12-28                  -1.690894e+05                   1.690894e+05\n",
              "...                                   ...                            ...\n",
              "2021-04-23                   5.153641e+06                   5.492128e+06\n",
              "2021-04-24                   5.515729e+06                   5.854526e+06\n",
              "2021-04-25                   5.791800e+06                   6.130505e+06\n",
              "2021-04-26                   5.946944e+06                   6.285604e+06\n",
              "2021-04-27                   5.960807e+06                   6.299447e+06\n",
              "\n",
              "[125 rows x 2 columns]"
            ]
          },
          "metadata": {
            "tags": []
          },
          "execution_count": 56
        }
      ]
    },
    {
      "cell_type": "code",
      "metadata": {
        "colab": {
          "base_uri": "https://localhost:8080/"
        },
        "id": "DGBV4zVCXjcf",
        "outputId": "09b1ce9a-2294-4f8f-f1c5-52f0b0ded617"
      },
      "source": [
        "people_fully_vaccinated['people_fully_vaccinated'].min(), people_fully_vaccinated['people_fully_vaccinated'].max()"
      ],
      "execution_count": null,
      "outputs": [
        {
          "output_type": "execute_result",
          "data": {
            "text/plain": [
              "(0.0, 6096954.0)"
            ]
          },
          "metadata": {
            "tags": []
          },
          "execution_count": 57
        }
      ]
    },
    {
      "cell_type": "code",
      "metadata": {
        "colab": {
          "base_uri": "https://localhost:8080/",
          "height": 465
        },
        "id": "hgaXn9DoXT9f",
        "outputId": "f05f7fd8-7522-47e9-b987-c40ca6cad53c"
      },
      "source": [
        "pred_ci = pred.conf_int()\n",
        "ax = people_fully_vaccinated.plot(label='observed')\n",
        "pred.predicted_mean.plot(ax=ax, label='forecast', alpha=.7, figsize=(14, 7))\n",
        "ax.fill_between(pred_ci.index,\n",
        "                pred_ci.iloc[:, 0],\n",
        "                pred_ci.iloc[:, 1], color='k', alpha=.2)\n",
        "ax.set_xlabel('Date')\n",
        "ax.set_ylabel('People Fully Vaccinated')\n",
        "plt.legend()\n",
        "plt.show()"
      ],
      "execution_count": null,
      "outputs": [
        {
          "output_type": "display_data",
          "data": {
            "image/png": "[encoded data removed]",
            "text/plain": [
              "<Figure size 1008x504 with 1 Axes>"
            ]
          },
          "metadata": {
            "tags": [],
            "needs_background": "light"
          }
        }
      ]
    },
    {
      "cell_type": "code",
      "metadata": {
        "colab": {
          "base_uri": "https://localhost:8080/"
        },
        "id": "RMTZ8jdtYO-p",
        "outputId": "ef433e75-75a1-4861-960a-6ca3c3e3ad7d"
      },
      "source": [
        "forecasted = pred.predicted_mean\n",
        "forecasted"
      ],
      "execution_count": null,
      "outputs": [
        {
          "output_type": "execute_result",
          "data": {
            "text/plain": [
              "2020-12-24    0.000000e+00\n",
              "2020-12-25    0.000000e+00\n",
              "2020-12-26    0.000000e+00\n",
              "2020-12-27    0.000000e+00\n",
              "2020-12-28    0.000000e+00\n",
              "                  ...     \n",
              "2021-04-23    5.322884e+06\n",
              "2021-04-24    5.685127e+06\n",
              "2021-04-25    5.961152e+06\n",
              "2021-04-26    6.116274e+06\n",
              "2021-04-27    6.130127e+06\n",
              "Freq: D, Length: 125, dtype: float64"
            ]
          },
          "metadata": {
            "tags": []
          },
          "execution_count": 59
        }
      ]
    },
    {
      "cell_type": "code",
      "metadata": {
        "colab": {
          "base_uri": "https://localhost:8080/"
        },
        "id": "YHT_JASTYRMI",
        "outputId": "bc31e4ab-5873-4e0b-fb49-edc49218d19d"
      },
      "source": [
        "truth = people_fully_vaccinated.loc['2020-12-24':]['people_fully_vaccinated']\n",
        "truth"
      ],
      "execution_count": null,
      "outputs": [
        {
          "output_type": "execute_result",
          "data": {
            "text/plain": [
              "date\n",
              "2020-12-24          0.0\n",
              "2020-12-25          0.0\n",
              "2020-12-26          0.0\n",
              "2020-12-27          0.0\n",
              "2020-12-28          0.0\n",
              "                ...    \n",
              "2021-04-23    5347232.0\n",
              "2021-04-24    5646105.0\n",
              "2021-04-25    5830079.0\n",
              "2021-04-26    5917676.0\n",
              "2021-04-27    6096954.0\n",
              "Name: people_fully_vaccinated, Length: 125, dtype: float64"
            ]
          },
          "metadata": {
            "tags": []
          },
          "execution_count": 60
        }
      ]
    },
    {
      "cell_type": "code",
      "metadata": {
        "colab": {
          "base_uri": "https://localhost:8080/"
        },
        "id": "IR_ecpnCX7Ha",
        "outputId": "e5205082-4162-4a8c-e4c9-0767553340aa"
      },
      "source": [
        "mse = ((forecasted - truth) ** 2).mean()\n",
        "print('The Mean Squared Error of our forecasts is {}'.format(round(mse, 2)))"
      ],
      "execution_count": null,
      "outputs": [
        {
          "output_type": "stream",
          "text": [
            "The Mean Squared Error of our forecasts is 3733845640.42\n"
          ],
          "name": "stdout"
        }
      ]
    },
    {
      "cell_type": "code",
      "metadata": {
        "colab": {
          "base_uri": "https://localhost:8080/"
        },
        "id": "pr-Gtqp4YK79",
        "outputId": "bddcb8ac-0c04-4d08-82f8-b9a691c9b493"
      },
      "source": [
        "print('The Root Mean Squared Error of our forecasts is {}'.format(round(np.sqrt(mse), 2)))"
      ],
      "execution_count": null,
      "outputs": [
        {
          "output_type": "stream",
          "text": [
            "The Root Mean Squared Error of our forecasts is 61105.2\n"
          ],
          "name": "stdout"
        }
      ]
    },
    {
      "cell_type": "code",
      "metadata": {
        "colab": {
          "base_uri": "https://localhost:8080/",
          "height": 297
        },
        "id": "yrMWbyZiggXO",
        "outputId": "7ed4f680-24b7-469e-f83c-0ecd812a8911"
      },
      "source": [
        "people_fully_vaccinated.describe()"
      ],
      "execution_count": null,
      "outputs": [
        {
          "output_type": "execute_result",
          "data": {
            "text/html": [
              "<div>\n",
              "<style scoped>\n",
              "    .dataframe tbody tr th:only-of-type {\n",
              "        vertical-align: middle;\n",
              "    }\n",
              "\n",
              "    .dataframe tbody tr th {\n",
              "        vertical-align: top;\n",
              "    }\n",
              "\n",
              "    .dataframe thead th {\n",
              "        text-align: right;\n",
              "    }\n",
              "</style>\n",
              "<table border=\"1\" class=\"dataframe\">\n",
              "  <thead>\n",
              "    <tr style=\"text-align: right;\">\n",
              "      <th></th>\n",
              "      <th>people_fully_vaccinated</th>\n",
              "    </tr>\n",
              "  </thead>\n",
              "  <tbody>\n",
              "    <tr>\n",
              "      <th>count</th>\n",
              "      <td>1.250000e+02</td>\n",
              "    </tr>\n",
              "    <tr>\n",
              "      <th>mean</th>\n",
              "      <td>8.878388e+05</td>\n",
              "    </tr>\n",
              "    <tr>\n",
              "      <th>std</th>\n",
              "      <td>1.428751e+06</td>\n",
              "    </tr>\n",
              "    <tr>\n",
              "      <th>min</th>\n",
              "      <td>0.000000e+00</td>\n",
              "    </tr>\n",
              "    <tr>\n",
              "      <th>25%</th>\n",
              "      <td>2.518500e+04</td>\n",
              "    </tr>\n",
              "    <tr>\n",
              "      <th>50%</th>\n",
              "      <td>4.753890e+05</td>\n",
              "    </tr>\n",
              "    <tr>\n",
              "      <th>75%</th>\n",
              "      <td>8.232840e+05</td>\n",
              "    </tr>\n",
              "    <tr>\n",
              "      <th>max</th>\n",
              "      <td>6.096954e+06</td>\n",
              "    </tr>\n",
              "  </tbody>\n",
              "</table>\n",
              "</div>"
            ],
            "text/plain": [
              "       people_fully_vaccinated\n",
              "count             1.250000e+02\n",
              "mean              8.878388e+05\n",
              "std               1.428751e+06\n",
              "min               0.000000e+00\n",
              "25%               2.518500e+04\n",
              "50%               4.753890e+05\n",
              "75%               8.232840e+05\n",
              "max               6.096954e+06"
            ]
          },
          "metadata": {
            "tags": []
          },
          "execution_count": 63
        }
      ]
    },
    {
      "cell_type": "code",
      "metadata": {
        "colab": {
          "base_uri": "https://localhost:8080/",
          "height": 419
        },
        "id": "udka5KSqhf6P",
        "outputId": "48b8b9bf-13b3-4fdb-f193-85354a95eba4"
      },
      "source": [
        "pred_uc = results.get_forecast('2021-12-31')\n",
        "pred_ci = pred_uc.conf_int()\n",
        "pred_ci"
      ],
      "execution_count": null,
      "outputs": [
        {
          "output_type": "execute_result",
          "data": {
            "text/html": [
              "<div>\n",
              "<style scoped>\n",
              "    .dataframe tbody tr th:only-of-type {\n",
              "        vertical-align: middle;\n",
              "    }\n",
              "\n",
              "    .dataframe tbody tr th {\n",
              "        vertical-align: top;\n",
              "    }\n",
              "\n",
              "    .dataframe thead th {\n",
              "        text-align: right;\n",
              "    }\n",
              "</style>\n",
              "<table border=\"1\" class=\"dataframe\">\n",
              "  <thead>\n",
              "    <tr style=\"text-align: right;\">\n",
              "      <th></th>\n",
              "      <th>lower people_fully_vaccinated</th>\n",
              "      <th>upper people_fully_vaccinated</th>\n",
              "    </tr>\n",
              "  </thead>\n",
              "  <tbody>\n",
              "    <tr>\n",
              "      <th>2021-04-28</th>\n",
              "      <td>6.137074e+06</td>\n",
              "      <td>6.475705e+06</td>\n",
              "    </tr>\n",
              "    <tr>\n",
              "      <th>2021-04-29</th>\n",
              "      <td>6.223389e+06</td>\n",
              "      <td>6.782929e+06</td>\n",
              "    </tr>\n",
              "    <tr>\n",
              "      <th>2021-04-30</th>\n",
              "      <td>6.325004e+06</td>\n",
              "      <td>7.111599e+06</td>\n",
              "    </tr>\n",
              "    <tr>\n",
              "      <th>2021-05-01</th>\n",
              "      <td>6.424597e+06</td>\n",
              "      <td>7.451979e+06</td>\n",
              "    </tr>\n",
              "    <tr>\n",
              "      <th>2021-05-02</th>\n",
              "      <td>6.451718e+06</td>\n",
              "      <td>7.735359e+06</td>\n",
              "    </tr>\n",
              "    <tr>\n",
              "      <th>...</th>\n",
              "      <td>...</td>\n",
              "      <td>...</td>\n",
              "    </tr>\n",
              "    <tr>\n",
              "      <th>2021-12-27</th>\n",
              "      <td>-8.638926e+07</td>\n",
              "      <td>1.433499e+08</td>\n",
              "    </tr>\n",
              "    <tr>\n",
              "      <th>2021-12-28</th>\n",
              "      <td>-8.732057e+07</td>\n",
              "      <td>1.440207e+08</td>\n",
              "    </tr>\n",
              "    <tr>\n",
              "      <th>2021-12-29</th>\n",
              "      <td>-8.822450e+07</td>\n",
              "      <td>1.447280e+08</td>\n",
              "    </tr>\n",
              "    <tr>\n",
              "      <th>2021-12-30</th>\n",
              "      <td>-8.913562e+07</td>\n",
              "      <td>1.454375e+08</td>\n",
              "    </tr>\n",
              "    <tr>\n",
              "      <th>2021-12-31</th>\n",
              "      <td>-9.003404e+07</td>\n",
              "      <td>1.461698e+08</td>\n",
              "    </tr>\n",
              "  </tbody>\n",
              "</table>\n",
              "<p>248 rows × 2 columns</p>\n",
              "</div>"
            ],
            "text/plain": [
              "            lower people_fully_vaccinated  upper people_fully_vaccinated\n",
              "2021-04-28                   6.137074e+06                   6.475705e+06\n",
              "2021-04-29                   6.223389e+06                   6.782929e+06\n",
              "2021-04-30                   6.325004e+06                   7.111599e+06\n",
              "2021-05-01                   6.424597e+06                   7.451979e+06\n",
              "2021-05-02                   6.451718e+06                   7.735359e+06\n",
              "...                                   ...                            ...\n",
              "2021-12-27                  -8.638926e+07                   1.433499e+08\n",
              "2021-12-28                  -8.732057e+07                   1.440207e+08\n",
              "2021-12-29                  -8.822450e+07                   1.447280e+08\n",
              "2021-12-30                  -8.913562e+07                   1.454375e+08\n",
              "2021-12-31                  -9.003404e+07                   1.461698e+08\n",
              "\n",
              "[248 rows x 2 columns]"
            ]
          },
          "metadata": {
            "tags": []
          },
          "execution_count": 64
        }
      ]
    },
    {
      "cell_type": "code",
      "metadata": {
        "colab": {
          "base_uri": "https://localhost:8080/"
        },
        "id": "AFmavKYeia4D",
        "outputId": "759daf2d-78ea-461e-96d0-94b8739dbdac"
      },
      "source": [
        "pred_uc.predicted_mean"
      ],
      "execution_count": null,
      "outputs": [
        {
          "output_type": "execute_result",
          "data": {
            "text/plain": [
              "2021-04-28    6.306390e+06\n",
              "2021-04-29    6.503159e+06\n",
              "2021-04-30    6.718301e+06\n",
              "2021-05-01    6.938288e+06\n",
              "2021-05-02    7.093539e+06\n",
              "                  ...     \n",
              "2021-12-27    2.848032e+07\n",
              "2021-12-28    2.835006e+07\n",
              "2021-12-29    2.825177e+07\n",
              "2021-12-30    2.815094e+07\n",
              "2021-12-31    2.806787e+07\n",
              "Freq: D, Length: 248, dtype: float64"
            ]
          },
          "metadata": {
            "tags": []
          },
          "execution_count": 65
        }
      ]
    },
    {
      "cell_type": "code",
      "metadata": {
        "colab": {
          "base_uri": "https://localhost:8080/",
          "height": 519
        },
        "id": "d5bIukNgiLpe",
        "outputId": "ae319716-f5fc-4771-8918-607c2eeeaf68"
      },
      "source": [
        "ax = people_fully_vaccinated.plot(label='observed', figsize=(18, 8))\n",
        "pred_uc.predicted_mean.plot(ax=ax, label='forecast')\n",
        "ax.fill_between(pred_ci.index, pred_ci.iloc[:, 0], pred_ci.iloc[:, 1], color='k', alpha=0.25)\n",
        "ax.set_xlabel('Date')\n",
        "ax.set_ylabel('People fully vaccinated')\n",
        "plt.legend()\n",
        "plt.show()"
      ],
      "execution_count": null,
      "outputs": [
        {
          "output_type": "display_data",
          "data": {
            "image/png": "[encoded data removed]",
            "text/plain": [
              "<Figure size 1296x576 with 1 Axes>"
            ]
          },
          "metadata": {
            "tags": [],
            "needs_background": "light"
          }
        }
      ]
    },
    {
      "cell_type": "code",
      "metadata": {
        "colab": {
          "base_uri": "https://localhost:8080/",
          "height": 419
        },
        "id": "gayhL-xRi8e6",
        "outputId": "4f7bc0cd-458b-46d1-e3fb-10a737b74cdf"
      },
      "source": [
        "pred_uc = results.get_forecast('2021-06-27')\n",
        "pred_ci = pred_uc.conf_int()\n",
        "pred_ci"
      ],
      "execution_count": null,
      "outputs": [
        {
          "output_type": "execute_result",
          "data": {
            "text/html": [
              "<div>\n",
              "<style scoped>\n",
              "    .dataframe tbody tr th:only-of-type {\n",
              "        vertical-align: middle;\n",
              "    }\n",
              "\n",
              "    .dataframe tbody tr th {\n",
              "        vertical-align: top;\n",
              "    }\n",
              "\n",
              "    .dataframe thead th {\n",
              "        text-align: right;\n",
              "    }\n",
              "</style>\n",
              "<table border=\"1\" class=\"dataframe\">\n",
              "  <thead>\n",
              "    <tr style=\"text-align: right;\">\n",
              "      <th></th>\n",
              "      <th>lower people_fully_vaccinated</th>\n",
              "      <th>upper people_fully_vaccinated</th>\n",
              "    </tr>\n",
              "  </thead>\n",
              "  <tbody>\n",
              "    <tr>\n",
              "      <th>2021-04-28</th>\n",
              "      <td>6.137074e+06</td>\n",
              "      <td>6.475705e+06</td>\n",
              "    </tr>\n",
              "    <tr>\n",
              "      <th>2021-04-29</th>\n",
              "      <td>6.223389e+06</td>\n",
              "      <td>6.782929e+06</td>\n",
              "    </tr>\n",
              "    <tr>\n",
              "      <th>2021-04-30</th>\n",
              "      <td>6.325004e+06</td>\n",
              "      <td>7.111599e+06</td>\n",
              "    </tr>\n",
              "    <tr>\n",
              "      <th>2021-05-01</th>\n",
              "      <td>6.424597e+06</td>\n",
              "      <td>7.451979e+06</td>\n",
              "    </tr>\n",
              "    <tr>\n",
              "      <th>2021-05-02</th>\n",
              "      <td>6.451718e+06</td>\n",
              "      <td>7.735359e+06</td>\n",
              "    </tr>\n",
              "    <tr>\n",
              "      <th>...</th>\n",
              "      <td>...</td>\n",
              "      <td>...</td>\n",
              "    </tr>\n",
              "    <tr>\n",
              "      <th>2021-06-23</th>\n",
              "      <td>2.653781e+06</td>\n",
              "      <td>3.064249e+07</td>\n",
              "    </tr>\n",
              "    <tr>\n",
              "      <th>2021-06-24</th>\n",
              "      <td>2.473652e+06</td>\n",
              "      <td>3.115370e+07</td>\n",
              "    </tr>\n",
              "    <tr>\n",
              "      <th>2021-06-25</th>\n",
              "      <td>2.313045e+06</td>\n",
              "      <td>3.169064e+07</td>\n",
              "    </tr>\n",
              "    <tr>\n",
              "      <th>2021-06-26</th>\n",
              "      <td>2.126893e+06</td>\n",
              "      <td>3.220835e+07</td>\n",
              "    </tr>\n",
              "    <tr>\n",
              "      <th>2021-06-27</th>\n",
              "      <td>1.946023e+06</td>\n",
              "      <td>3.273042e+07</td>\n",
              "    </tr>\n",
              "  </tbody>\n",
              "</table>\n",
              "<p>61 rows × 2 columns</p>\n",
              "</div>"
            ],
            "text/plain": [
              "            lower people_fully_vaccinated  upper people_fully_vaccinated\n",
              "2021-04-28                   6.137074e+06                   6.475705e+06\n",
              "2021-04-29                   6.223389e+06                   6.782929e+06\n",
              "2021-04-30                   6.325004e+06                   7.111599e+06\n",
              "2021-05-01                   6.424597e+06                   7.451979e+06\n",
              "2021-05-02                   6.451718e+06                   7.735359e+06\n",
              "...                                   ...                            ...\n",
              "2021-06-23                   2.653781e+06                   3.064249e+07\n",
              "2021-06-24                   2.473652e+06                   3.115370e+07\n",
              "2021-06-25                   2.313045e+06                   3.169064e+07\n",
              "2021-06-26                   2.126893e+06                   3.220835e+07\n",
              "2021-06-27                   1.946023e+06                   3.273042e+07\n",
              "\n",
              "[61 rows x 2 columns]"
            ]
          },
          "metadata": {
            "tags": []
          },
          "execution_count": 67
        }
      ]
    },
    {
      "cell_type": "code",
      "metadata": {
        "colab": {
          "base_uri": "https://localhost:8080/"
        },
        "id": "8L_CljDinYAi",
        "outputId": "bc1b03ad-49d4-49d2-bb7a-642c0d347f25"
      },
      "source": [
        "pred_uc.predicted_mean"
      ],
      "execution_count": null,
      "outputs": [
        {
          "output_type": "execute_result",
          "data": {
            "text/plain": [
              "2021-04-28    6.306390e+06\n",
              "2021-04-29    6.503159e+06\n",
              "2021-04-30    6.718301e+06\n",
              "2021-05-01    6.938288e+06\n",
              "2021-05-02    7.093539e+06\n",
              "                  ...     \n",
              "2021-06-23    1.664813e+07\n",
              "2021-06-24    1.681368e+07\n",
              "2021-06-25    1.700184e+07\n",
              "2021-06-26    1.716762e+07\n",
              "2021-06-27    1.733822e+07\n",
              "Freq: D, Length: 61, dtype: float64"
            ]
          },
          "metadata": {
            "tags": []
          },
          "execution_count": 68
        }
      ]
    },
    {
      "cell_type": "code",
      "metadata": {
        "colab": {
          "base_uri": "https://localhost:8080/"
        },
        "id": "odJbE5ianpmj",
        "outputId": "2e033ece-7e14-4478-c6df-2b4d6056f8f0"
      },
      "source": [
        "pred_uc.predicted_mean[-1]"
      ],
      "execution_count": null,
      "outputs": [
        {
          "output_type": "execute_result",
          "data": {
            "text/plain": [
              "17338220.975154728"
            ]
          },
          "metadata": {
            "tags": []
          },
          "execution_count": 69
        }
      ]
    },
    {
      "cell_type": "code",
      "metadata": {
        "colab": {
          "base_uri": "https://localhost:8080/",
          "height": 519
        },
        "id": "EGbnUlEPnetf",
        "outputId": "272f2aa8-e66a-48ea-8349-2df54ac0017e"
      },
      "source": [
        "ax = people_fully_vaccinated.plot(label='observed', figsize=(18, 8))\n",
        "pred_uc.predicted_mean.plot(ax=ax, label='forecast')\n",
        "ax.fill_between(pred_ci.index, pred_ci.iloc[:, 0], pred_ci.iloc[:, 1], color='k', alpha=0.25)\n",
        "ax.set_xlabel('Date')\n",
        "ax.set_ylabel('People fully vaccinated')\n",
        "plt.legend()\n",
        "plt.show()"
      ],
      "execution_count": null,
      "outputs": [
        {
          "output_type": "display_data",
          "data": {
            "image/png": "[encoded data removed]",
            "text/plain": [
              "<Figure size 1296x576 with 1 Axes>"
            ]
          },
          "metadata": {
            "tags": [],
            "needs_background": "light"
          }
        }
      ]
    },
    {
      "cell_type": "code",
      "metadata": {
        "colab": {
          "base_uri": "https://localhost:8080/"
        },
        "id": "a9ZW7-vaswGP",
        "outputId": "771d48dd-0f23-4534-89a7-f7c24b48697c"
      },
      "source": [
        "total_vaccinations.index.min(), total_vaccinations.index.max()"
      ],
      "execution_count": null,
      "outputs": [
        {
          "output_type": "execute_result",
          "data": {
            "text/plain": [
              "(Timestamp('2020-12-24 00:00:00'), Timestamp('2021-04-27 00:00:00'))"
            ]
          },
          "metadata": {
            "tags": []
          },
          "execution_count": 71
        }
      ]
    },
    {
      "cell_type": "code",
      "metadata": {
        "colab": {
          "base_uri": "https://localhost:8080/"
        },
        "id": "1FiHjXARsk6i",
        "outputId": "a1194472-0d56-4778-cf0d-716ae955c774"
      },
      "source": [
        "people_vaccinated.index.min(), people_vaccinated.index.max()"
      ],
      "execution_count": null,
      "outputs": [
        {
          "output_type": "execute_result",
          "data": {
            "text/plain": [
              "(Timestamp('2020-12-24 00:00:00'), Timestamp('2021-04-27 00:00:00'))"
            ]
          },
          "metadata": {
            "tags": []
          },
          "execution_count": 72
        }
      ]
    },
    {
      "cell_type": "code",
      "metadata": {
        "colab": {
          "base_uri": "https://localhost:8080/"
        },
        "id": "V0FJ2UvBsswA",
        "outputId": "704fead1-fdcf-463d-f379-b818bcc61d66"
      },
      "source": [
        "people_fully_vaccinated.index.min(), people_fully_vaccinated.index.max()"
      ],
      "execution_count": null,
      "outputs": [
        {
          "output_type": "execute_result",
          "data": {
            "text/plain": [
              "(Timestamp('2020-12-24 00:00:00'), Timestamp('2021-04-27 00:00:00'))"
            ]
          },
          "metadata": {
            "tags": []
          },
          "execution_count": 73
        }
      ]
    },
    {
      "cell_type": "code",
      "metadata": {
        "colab": {
          "base_uri": "https://localhost:8080/",
          "height": 450
        },
        "id": "aheBgO9At0of",
        "outputId": "7a6ebe3d-1582-4acb-cb4d-39bf2ed6d675"
      },
      "source": [
        "aux_merge = pd.merge(total_vaccinations, people_vaccinated, left_index=True, right_index=True)\n",
        "aux_merge"
      ],
      "execution_count": null,
      "outputs": [
        {
          "output_type": "execute_result",
          "data": {
            "text/html": [
              "<div>\n",
              "<style scoped>\n",
              "    .dataframe tbody tr th:only-of-type {\n",
              "        vertical-align: middle;\n",
              "    }\n",
              "\n",
              "    .dataframe tbody tr th {\n",
              "        vertical-align: top;\n",
              "    }\n",
              "\n",
              "    .dataframe thead th {\n",
              "        text-align: right;\n",
              "    }\n",
              "</style>\n",
              "<table border=\"1\" class=\"dataframe\">\n",
              "  <thead>\n",
              "    <tr style=\"text-align: right;\">\n",
              "      <th></th>\n",
              "      <th>total_vaccinations</th>\n",
              "      <th>people_vaccinated</th>\n",
              "    </tr>\n",
              "    <tr>\n",
              "      <th>date</th>\n",
              "      <th></th>\n",
              "      <th></th>\n",
              "    </tr>\n",
              "  </thead>\n",
              "  <tbody>\n",
              "    <tr>\n",
              "      <th>2020-12-24</th>\n",
              "      <td>2924.0</td>\n",
              "      <td>2924.0</td>\n",
              "    </tr>\n",
              "    <tr>\n",
              "      <th>2020-12-25</th>\n",
              "      <td>2924.0</td>\n",
              "      <td>2924.0</td>\n",
              "    </tr>\n",
              "    <tr>\n",
              "      <th>2020-12-26</th>\n",
              "      <td>2924.0</td>\n",
              "      <td>2924.0</td>\n",
              "    </tr>\n",
              "    <tr>\n",
              "      <th>2020-12-27</th>\n",
              "      <td>6824.0</td>\n",
              "      <td>6824.0</td>\n",
              "    </tr>\n",
              "    <tr>\n",
              "      <th>2020-12-28</th>\n",
              "      <td>9579.0</td>\n",
              "      <td>9579.0</td>\n",
              "    </tr>\n",
              "    <tr>\n",
              "      <th>...</th>\n",
              "      <td>...</td>\n",
              "      <td>...</td>\n",
              "    </tr>\n",
              "    <tr>\n",
              "      <th>2021-04-23</th>\n",
              "      <td>15874809.0</td>\n",
              "      <td>11807897.0</td>\n",
              "    </tr>\n",
              "    <tr>\n",
              "      <th>2021-04-24</th>\n",
              "      <td>16214484.0</td>\n",
              "      <td>11961104.0</td>\n",
              "    </tr>\n",
              "    <tr>\n",
              "      <th>2021-04-25</th>\n",
              "      <td>16410034.0</td>\n",
              "      <td>12038498.0</td>\n",
              "    </tr>\n",
              "    <tr>\n",
              "      <th>2021-04-26</th>\n",
              "      <td>16501739.0</td>\n",
              "      <td>12054021.0</td>\n",
              "    </tr>\n",
              "    <tr>\n",
              "      <th>2021-04-27</th>\n",
              "      <td>16687189.0</td>\n",
              "      <td>12096308.0</td>\n",
              "    </tr>\n",
              "  </tbody>\n",
              "</table>\n",
              "<p>125 rows × 2 columns</p>\n",
              "</div>"
            ],
            "text/plain": [
              "            total_vaccinations  people_vaccinated\n",
              "date                                             \n",
              "2020-12-24              2924.0             2924.0\n",
              "2020-12-25              2924.0             2924.0\n",
              "2020-12-26              2924.0             2924.0\n",
              "2020-12-27              6824.0             6824.0\n",
              "2020-12-28              9579.0             9579.0\n",
              "...                        ...                ...\n",
              "2021-04-23          15874809.0         11807897.0\n",
              "2021-04-24          16214484.0         11961104.0\n",
              "2021-04-25          16410034.0         12038498.0\n",
              "2021-04-26          16501739.0         12054021.0\n",
              "2021-04-27          16687189.0         12096308.0\n",
              "\n",
              "[125 rows x 2 columns]"
            ]
          },
          "metadata": {
            "tags": []
          },
          "execution_count": 74
        }
      ]
    },
    {
      "cell_type": "code",
      "metadata": {
        "colab": {
          "base_uri": "https://localhost:8080/",
          "height": 450
        },
        "id": "mxA9RI4HuOFr",
        "outputId": "f6f3d07d-41cd-435c-ec83-ffc0862778db"
      },
      "source": [
        "merge_data = pd.merge(aux_merge, people_fully_vaccinated, left_index=True, right_index=True)\n",
        "merge_data"
      ],
      "execution_count": null,
      "outputs": [
        {
          "output_type": "execute_result",
          "data": {
            "text/html": [
              "<div>\n",
              "<style scoped>\n",
              "    .dataframe tbody tr th:only-of-type {\n",
              "        vertical-align: middle;\n",
              "    }\n",
              "\n",
              "    .dataframe tbody tr th {\n",
              "        vertical-align: top;\n",
              "    }\n",
              "\n",
              "    .dataframe thead th {\n",
              "        text-align: right;\n",
              "    }\n",
              "</style>\n",
              "<table border=\"1\" class=\"dataframe\">\n",
              "  <thead>\n",
              "    <tr style=\"text-align: right;\">\n",
              "      <th></th>\n",
              "      <th>total_vaccinations</th>\n",
              "      <th>people_vaccinated</th>\n",
              "      <th>people_fully_vaccinated</th>\n",
              "    </tr>\n",
              "    <tr>\n",
              "      <th>date</th>\n",
              "      <th></th>\n",
              "      <th></th>\n",
              "      <th></th>\n",
              "    </tr>\n",
              "  </thead>\n",
              "  <tbody>\n",
              "    <tr>\n",
              "      <th>2020-12-24</th>\n",
              "      <td>2924.0</td>\n",
              "      <td>2924.0</td>\n",
              "      <td>0.0</td>\n",
              "    </tr>\n",
              "    <tr>\n",
              "      <th>2020-12-25</th>\n",
              "      <td>2924.0</td>\n",
              "      <td>2924.0</td>\n",
              "      <td>0.0</td>\n",
              "    </tr>\n",
              "    <tr>\n",
              "      <th>2020-12-26</th>\n",
              "      <td>2924.0</td>\n",
              "      <td>2924.0</td>\n",
              "      <td>0.0</td>\n",
              "    </tr>\n",
              "    <tr>\n",
              "      <th>2020-12-27</th>\n",
              "      <td>6824.0</td>\n",
              "      <td>6824.0</td>\n",
              "      <td>0.0</td>\n",
              "    </tr>\n",
              "    <tr>\n",
              "      <th>2020-12-28</th>\n",
              "      <td>9579.0</td>\n",
              "      <td>9579.0</td>\n",
              "      <td>0.0</td>\n",
              "    </tr>\n",
              "    <tr>\n",
              "      <th>...</th>\n",
              "      <td>...</td>\n",
              "      <td>...</td>\n",
              "      <td>...</td>\n",
              "    </tr>\n",
              "    <tr>\n",
              "      <th>2021-04-23</th>\n",
              "      <td>15874809.0</td>\n",
              "      <td>11807897.0</td>\n",
              "      <td>5347232.0</td>\n",
              "    </tr>\n",
              "    <tr>\n",
              "      <th>2021-04-24</th>\n",
              "      <td>16214484.0</td>\n",
              "      <td>11961104.0</td>\n",
              "      <td>5646105.0</td>\n",
              "    </tr>\n",
              "    <tr>\n",
              "      <th>2021-04-25</th>\n",
              "      <td>16410034.0</td>\n",
              "      <td>12038498.0</td>\n",
              "      <td>5830079.0</td>\n",
              "    </tr>\n",
              "    <tr>\n",
              "      <th>2021-04-26</th>\n",
              "      <td>16501739.0</td>\n",
              "      <td>12054021.0</td>\n",
              "      <td>5917676.0</td>\n",
              "    </tr>\n",
              "    <tr>\n",
              "      <th>2021-04-27</th>\n",
              "      <td>16687189.0</td>\n",
              "      <td>12096308.0</td>\n",
              "      <td>6096954.0</td>\n",
              "    </tr>\n",
              "  </tbody>\n",
              "</table>\n",
              "<p>125 rows × 3 columns</p>\n",
              "</div>"
            ],
            "text/plain": [
              "            total_vaccinations  people_vaccinated  people_fully_vaccinated\n",
              "date                                                                      \n",
              "2020-12-24              2924.0             2924.0                      0.0\n",
              "2020-12-25              2924.0             2924.0                      0.0\n",
              "2020-12-26              2924.0             2924.0                      0.0\n",
              "2020-12-27              6824.0             6824.0                      0.0\n",
              "2020-12-28              9579.0             9579.0                      0.0\n",
              "...                        ...                ...                      ...\n",
              "2021-04-23          15874809.0         11807897.0                5347232.0\n",
              "2021-04-24          16214484.0         11961104.0                5646105.0\n",
              "2021-04-25          16410034.0         12038498.0                5830079.0\n",
              "2021-04-26          16501739.0         12054021.0                5917676.0\n",
              "2021-04-27          16687189.0         12096308.0                6096954.0\n",
              "\n",
              "[125 rows x 3 columns]"
            ]
          },
          "metadata": {
            "tags": []
          },
          "execution_count": 75
        }
      ]
    },
    {
      "cell_type": "code",
      "metadata": {
        "colab": {
          "base_uri": "https://localhost:8080/",
          "height": 519
        },
        "id": "lWB7qovf3Nv6",
        "outputId": "2c09e2f8-f312-46c3-d125-1ae6f44382d1"
      },
      "source": [
        "merge_data.plot()\n",
        "plt.show()"
      ],
      "execution_count": null,
      "outputs": [
        {
          "output_type": "display_data",
          "data": {
            "image/png": "[encoded data removed]",
            "text/plain": [
              "<Figure size 1296x576 with 1 Axes>"
            ]
          },
          "metadata": {
            "tags": [],
            "needs_background": "light"
          }
        }
      ]
    },
    {
      "cell_type": "code",
      "metadata": {
        "colab": {
          "base_uri": "https://localhost:8080/"
        },
        "id": "-lfDqnbz4hBE",
        "outputId": "b0b275b4-82c9-4e3e-84a7-64fb2ce476f6"
      },
      "source": [
        "first_date = merge_data.iloc[np.min(list(np.where(merge_data['people_vaccinated'] == merge_data['total_vaccinations'])))]\n",
        "first_date"
      ],
      "execution_count": null,
      "outputs": [
        {
          "output_type": "execute_result",
          "data": {
            "text/plain": [
              "total_vaccinations         2924.0\n",
              "people_vaccinated          2924.0\n",
              "people_fully_vaccinated       0.0\n",
              "Name: 2020-12-24 00:00:00, dtype: float64"
            ]
          },
          "metadata": {
            "tags": []
          },
          "execution_count": 77
        }
      ]
    },
    {
      "cell_type": "code",
      "metadata": {
        "colab": {
          "base_uri": "https://localhost:8080/"
        },
        "id": "V13L4VbH4_1d",
        "outputId": "0558e445-a786-4549-a340-8d9a7f69fa49"
      },
      "source": [
        "list(np.where(merge_data['people_vaccinated'] == merge_data['people_fully_vaccinated']))"
      ],
      "execution_count": null,
      "outputs": [
        {
          "output_type": "execute_result",
          "data": {
            "text/plain": [
              "[array([], dtype=int64)]"
            ]
          },
          "metadata": {
            "tags": []
          },
          "execution_count": 78
        }
      ]
    },
    {
      "cell_type": "markdown",
      "metadata": {
        "id": "-xrM5HbK5g12"
      },
      "source": [
        "## Facebook Prophet"
      ]
    },
    {
      "cell_type": "code",
      "metadata": {
        "id": "m3l6lds95iQE"
      },
      "source": [
        "from fbprophet import Prophet\n",
        "from fbprophet.diagnostics import performance_metrics\n",
        "from sklearn.metrics import mean_squared_error, r2_score"
      ],
      "execution_count": null,
      "outputs": []
    },
    {
      "cell_type": "code",
      "metadata": {
        "colab": {
          "base_uri": "https://localhost:8080/",
          "height": 450
        },
        "id": "D40Gcw5zFSAA",
        "outputId": "736ae39b-f435-4099-dd9a-ef4cf7c109e3"
      },
      "source": [
        "people_vaccinated"
      ],
      "execution_count": null,
      "outputs": [
        {
          "output_type": "execute_result",
          "data": {
            "text/html": [
              "<div>\n",
              "<style scoped>\n",
              "    .dataframe tbody tr th:only-of-type {\n",
              "        vertical-align: middle;\n",
              "    }\n",
              "\n",
              "    .dataframe tbody tr th {\n",
              "        vertical-align: top;\n",
              "    }\n",
              "\n",
              "    .dataframe thead th {\n",
              "        text-align: right;\n",
              "    }\n",
              "</style>\n",
              "<table border=\"1\" class=\"dataframe\">\n",
              "  <thead>\n",
              "    <tr style=\"text-align: right;\">\n",
              "      <th></th>\n",
              "      <th>people_vaccinated</th>\n",
              "    </tr>\n",
              "    <tr>\n",
              "      <th>date</th>\n",
              "      <th></th>\n",
              "    </tr>\n",
              "  </thead>\n",
              "  <tbody>\n",
              "    <tr>\n",
              "      <th>2020-12-24</th>\n",
              "      <td>2924.0</td>\n",
              "    </tr>\n",
              "    <tr>\n",
              "      <th>2020-12-25</th>\n",
              "      <td>2924.0</td>\n",
              "    </tr>\n",
              "    <tr>\n",
              "      <th>2020-12-26</th>\n",
              "      <td>2924.0</td>\n",
              "    </tr>\n",
              "    <tr>\n",
              "      <th>2020-12-27</th>\n",
              "      <td>6824.0</td>\n",
              "    </tr>\n",
              "    <tr>\n",
              "      <th>2020-12-28</th>\n",
              "      <td>9579.0</td>\n",
              "    </tr>\n",
              "    <tr>\n",
              "      <th>...</th>\n",
              "      <td>...</td>\n",
              "    </tr>\n",
              "    <tr>\n",
              "      <th>2021-04-23</th>\n",
              "      <td>11807897.0</td>\n",
              "    </tr>\n",
              "    <tr>\n",
              "      <th>2021-04-24</th>\n",
              "      <td>11961104.0</td>\n",
              "    </tr>\n",
              "    <tr>\n",
              "      <th>2021-04-25</th>\n",
              "      <td>12038498.0</td>\n",
              "    </tr>\n",
              "    <tr>\n",
              "      <th>2021-04-26</th>\n",
              "      <td>12054021.0</td>\n",
              "    </tr>\n",
              "    <tr>\n",
              "      <th>2021-04-27</th>\n",
              "      <td>12096308.0</td>\n",
              "    </tr>\n",
              "  </tbody>\n",
              "</table>\n",
              "<p>125 rows × 1 columns</p>\n",
              "</div>"
            ],
            "text/plain": [
              "            people_vaccinated\n",
              "date                         \n",
              "2020-12-24             2924.0\n",
              "2020-12-25             2924.0\n",
              "2020-12-26             2924.0\n",
              "2020-12-27             6824.0\n",
              "2020-12-28             9579.0\n",
              "...                       ...\n",
              "2021-04-23         11807897.0\n",
              "2021-04-24         11961104.0\n",
              "2021-04-25         12038498.0\n",
              "2021-04-26         12054021.0\n",
              "2021-04-27         12096308.0\n",
              "\n",
              "[125 rows x 1 columns]"
            ]
          },
          "metadata": {
            "tags": []
          },
          "execution_count": 80
        }
      ]
    },
    {
      "cell_type": "code",
      "metadata": {
        "colab": {
          "base_uri": "https://localhost:8080/",
          "height": 450
        },
        "id": "2xC4dXIZ6GtB",
        "outputId": "792294bd-714a-4651-fca3-3bafff8f9413"
      },
      "source": [
        "people_fully_vaccinated"
      ],
      "execution_count": null,
      "outputs": [
        {
          "output_type": "execute_result",
          "data": {
            "text/html": [
              "<div>\n",
              "<style scoped>\n",
              "    .dataframe tbody tr th:only-of-type {\n",
              "        vertical-align: middle;\n",
              "    }\n",
              "\n",
              "    .dataframe tbody tr th {\n",
              "        vertical-align: top;\n",
              "    }\n",
              "\n",
              "    .dataframe thead th {\n",
              "        text-align: right;\n",
              "    }\n",
              "</style>\n",
              "<table border=\"1\" class=\"dataframe\">\n",
              "  <thead>\n",
              "    <tr style=\"text-align: right;\">\n",
              "      <th></th>\n",
              "      <th>people_fully_vaccinated</th>\n",
              "    </tr>\n",
              "    <tr>\n",
              "      <th>date</th>\n",
              "      <th></th>\n",
              "    </tr>\n",
              "  </thead>\n",
              "  <tbody>\n",
              "    <tr>\n",
              "      <th>2020-12-24</th>\n",
              "      <td>0.0</td>\n",
              "    </tr>\n",
              "    <tr>\n",
              "      <th>2020-12-25</th>\n",
              "      <td>0.0</td>\n",
              "    </tr>\n",
              "    <tr>\n",
              "      <th>2020-12-26</th>\n",
              "      <td>0.0</td>\n",
              "    </tr>\n",
              "    <tr>\n",
              "      <th>2020-12-27</th>\n",
              "      <td>0.0</td>\n",
              "    </tr>\n",
              "    <tr>\n",
              "      <th>2020-12-28</th>\n",
              "      <td>0.0</td>\n",
              "    </tr>\n",
              "    <tr>\n",
              "      <th>...</th>\n",
              "      <td>...</td>\n",
              "    </tr>\n",
              "    <tr>\n",
              "      <th>2021-04-23</th>\n",
              "      <td>5347232.0</td>\n",
              "    </tr>\n",
              "    <tr>\n",
              "      <th>2021-04-24</th>\n",
              "      <td>5646105.0</td>\n",
              "    </tr>\n",
              "    <tr>\n",
              "      <th>2021-04-25</th>\n",
              "      <td>5830079.0</td>\n",
              "    </tr>\n",
              "    <tr>\n",
              "      <th>2021-04-26</th>\n",
              "      <td>5917676.0</td>\n",
              "    </tr>\n",
              "    <tr>\n",
              "      <th>2021-04-27</th>\n",
              "      <td>6096954.0</td>\n",
              "    </tr>\n",
              "  </tbody>\n",
              "</table>\n",
              "<p>125 rows × 1 columns</p>\n",
              "</div>"
            ],
            "text/plain": [
              "            people_fully_vaccinated\n",
              "date                               \n",
              "2020-12-24                      0.0\n",
              "2020-12-25                      0.0\n",
              "2020-12-26                      0.0\n",
              "2020-12-27                      0.0\n",
              "2020-12-28                      0.0\n",
              "...                             ...\n",
              "2021-04-23                5347232.0\n",
              "2021-04-24                5646105.0\n",
              "2021-04-25                5830079.0\n",
              "2021-04-26                5917676.0\n",
              "2021-04-27                6096954.0\n",
              "\n",
              "[125 rows x 1 columns]"
            ]
          },
          "metadata": {
            "tags": []
          },
          "execution_count": 81
        }
      ]
    },
    {
      "cell_type": "code",
      "metadata": {
        "colab": {
          "base_uri": "https://localhost:8080/",
          "height": 450
        },
        "id": "u2M1K_GgFUyJ",
        "outputId": "ad9bcb57-539b-4dee-ded0-d7694710e6e4"
      },
      "source": [
        "people_vaccinated_prophet = people_vaccinated.rename(columns={'people_vaccinated': 'y'}, index={'date': 'ds'})\n",
        "people_vaccinated_prophet.index.rename('ds', inplace=True)\n",
        "people_vaccinated_prophet"
      ],
      "execution_count": null,
      "outputs": [
        {
          "output_type": "execute_result",
          "data": {
            "text/html": [
              "<div>\n",
              "<style scoped>\n",
              "    .dataframe tbody tr th:only-of-type {\n",
              "        vertical-align: middle;\n",
              "    }\n",
              "\n",
              "    .dataframe tbody tr th {\n",
              "        vertical-align: top;\n",
              "    }\n",
              "\n",
              "    .dataframe thead th {\n",
              "        text-align: right;\n",
              "    }\n",
              "</style>\n",
              "<table border=\"1\" class=\"dataframe\">\n",
              "  <thead>\n",
              "    <tr style=\"text-align: right;\">\n",
              "      <th></th>\n",
              "      <th>y</th>\n",
              "    </tr>\n",
              "    <tr>\n",
              "      <th>ds</th>\n",
              "      <th></th>\n",
              "    </tr>\n",
              "  </thead>\n",
              "  <tbody>\n",
              "    <tr>\n",
              "      <th>2020-12-24</th>\n",
              "      <td>2924.0</td>\n",
              "    </tr>\n",
              "    <tr>\n",
              "      <th>2020-12-25</th>\n",
              "      <td>2924.0</td>\n",
              "    </tr>\n",
              "    <tr>\n",
              "      <th>2020-12-26</th>\n",
              "      <td>2924.0</td>\n",
              "    </tr>\n",
              "    <tr>\n",
              "      <th>2020-12-27</th>\n",
              "      <td>6824.0</td>\n",
              "    </tr>\n",
              "    <tr>\n",
              "      <th>2020-12-28</th>\n",
              "      <td>9579.0</td>\n",
              "    </tr>\n",
              "    <tr>\n",
              "      <th>...</th>\n",
              "      <td>...</td>\n",
              "    </tr>\n",
              "    <tr>\n",
              "      <th>2021-04-23</th>\n",
              "      <td>11807897.0</td>\n",
              "    </tr>\n",
              "    <tr>\n",
              "      <th>2021-04-24</th>\n",
              "      <td>11961104.0</td>\n",
              "    </tr>\n",
              "    <tr>\n",
              "      <th>2021-04-25</th>\n",
              "      <td>12038498.0</td>\n",
              "    </tr>\n",
              "    <tr>\n",
              "      <th>2021-04-26</th>\n",
              "      <td>12054021.0</td>\n",
              "    </tr>\n",
              "    <tr>\n",
              "      <th>2021-04-27</th>\n",
              "      <td>12096308.0</td>\n",
              "    </tr>\n",
              "  </tbody>\n",
              "</table>\n",
              "<p>125 rows × 1 columns</p>\n",
              "</div>"
            ],
            "text/plain": [
              "                     y\n",
              "ds                    \n",
              "2020-12-24      2924.0\n",
              "2020-12-25      2924.0\n",
              "2020-12-26      2924.0\n",
              "2020-12-27      6824.0\n",
              "2020-12-28      9579.0\n",
              "...                ...\n",
              "2021-04-23  11807897.0\n",
              "2021-04-24  11961104.0\n",
              "2021-04-25  12038498.0\n",
              "2021-04-26  12054021.0\n",
              "2021-04-27  12096308.0\n",
              "\n",
              "[125 rows x 1 columns]"
            ]
          },
          "metadata": {
            "tags": []
          },
          "execution_count": 82
        }
      ]
    },
    {
      "cell_type": "code",
      "metadata": {
        "colab": {
          "base_uri": "https://localhost:8080/",
          "height": 450
        },
        "id": "z_2pNqAu54Dn",
        "outputId": "7b41aa8c-06af-4974-f860-83a478e4d5ab"
      },
      "source": [
        "people_fully_vaccinated_prophet = people_fully_vaccinated.rename(columns={'people_fully_vaccinated': 'y'}, index={'date': 'ds'})\n",
        "people_fully_vaccinated_prophet.index.rename('ds', inplace=True)\n",
        "people_fully_vaccinated_prophet"
      ],
      "execution_count": null,
      "outputs": [
        {
          "output_type": "execute_result",
          "data": {
            "text/html": [
              "<div>\n",
              "<style scoped>\n",
              "    .dataframe tbody tr th:only-of-type {\n",
              "        vertical-align: middle;\n",
              "    }\n",
              "\n",
              "    .dataframe tbody tr th {\n",
              "        vertical-align: top;\n",
              "    }\n",
              "\n",
              "    .dataframe thead th {\n",
              "        text-align: right;\n",
              "    }\n",
              "</style>\n",
              "<table border=\"1\" class=\"dataframe\">\n",
              "  <thead>\n",
              "    <tr style=\"text-align: right;\">\n",
              "      <th></th>\n",
              "      <th>y</th>\n",
              "    </tr>\n",
              "    <tr>\n",
              "      <th>ds</th>\n",
              "      <th></th>\n",
              "    </tr>\n",
              "  </thead>\n",
              "  <tbody>\n",
              "    <tr>\n",
              "      <th>2020-12-24</th>\n",
              "      <td>0.0</td>\n",
              "    </tr>\n",
              "    <tr>\n",
              "      <th>2020-12-25</th>\n",
              "      <td>0.0</td>\n",
              "    </tr>\n",
              "    <tr>\n",
              "      <th>2020-12-26</th>\n",
              "      <td>0.0</td>\n",
              "    </tr>\n",
              "    <tr>\n",
              "      <th>2020-12-27</th>\n",
              "      <td>0.0</td>\n",
              "    </tr>\n",
              "    <tr>\n",
              "      <th>2020-12-28</th>\n",
              "      <td>0.0</td>\n",
              "    </tr>\n",
              "    <tr>\n",
              "      <th>...</th>\n",
              "      <td>...</td>\n",
              "    </tr>\n",
              "    <tr>\n",
              "      <th>2021-04-23</th>\n",
              "      <td>5347232.0</td>\n",
              "    </tr>\n",
              "    <tr>\n",
              "      <th>2021-04-24</th>\n",
              "      <td>5646105.0</td>\n",
              "    </tr>\n",
              "    <tr>\n",
              "      <th>2021-04-25</th>\n",
              "      <td>5830079.0</td>\n",
              "    </tr>\n",
              "    <tr>\n",
              "      <th>2021-04-26</th>\n",
              "      <td>5917676.0</td>\n",
              "    </tr>\n",
              "    <tr>\n",
              "      <th>2021-04-27</th>\n",
              "      <td>6096954.0</td>\n",
              "    </tr>\n",
              "  </tbody>\n",
              "</table>\n",
              "<p>125 rows × 1 columns</p>\n",
              "</div>"
            ],
            "text/plain": [
              "                    y\n",
              "ds                   \n",
              "2020-12-24        0.0\n",
              "2020-12-25        0.0\n",
              "2020-12-26        0.0\n",
              "2020-12-27        0.0\n",
              "2020-12-28        0.0\n",
              "...               ...\n",
              "2021-04-23  5347232.0\n",
              "2021-04-24  5646105.0\n",
              "2021-04-25  5830079.0\n",
              "2021-04-26  5917676.0\n",
              "2021-04-27  6096954.0\n",
              "\n",
              "[125 rows x 1 columns]"
            ]
          },
          "metadata": {
            "tags": []
          },
          "execution_count": 83
        }
      ]
    },
    {
      "cell_type": "code",
      "metadata": {
        "colab": {
          "base_uri": "https://localhost:8080/",
          "height": 419
        },
        "id": "_Zb7nGSJFc8k",
        "outputId": "96d98470-ef81-41aa-e45a-6e984df51241"
      },
      "source": [
        "people_vaccinated_prophet.reset_index(inplace=True)\n",
        "people_vaccinated_prophet"
      ],
      "execution_count": null,
      "outputs": [
        {
          "output_type": "execute_result",
          "data": {
            "text/html": [
              "<div>\n",
              "<style scoped>\n",
              "    .dataframe tbody tr th:only-of-type {\n",
              "        vertical-align: middle;\n",
              "    }\n",
              "\n",
              "    .dataframe tbody tr th {\n",
              "        vertical-align: top;\n",
              "    }\n",
              "\n",
              "    .dataframe thead th {\n",
              "        text-align: right;\n",
              "    }\n",
              "</style>\n",
              "<table border=\"1\" class=\"dataframe\">\n",
              "  <thead>\n",
              "    <tr style=\"text-align: right;\">\n",
              "      <th></th>\n",
              "      <th>ds</th>\n",
              "      <th>y</th>\n",
              "    </tr>\n",
              "  </thead>\n",
              "  <tbody>\n",
              "    <tr>\n",
              "      <th>0</th>\n",
              "      <td>2020-12-24</td>\n",
              "      <td>2924.0</td>\n",
              "    </tr>\n",
              "    <tr>\n",
              "      <th>1</th>\n",
              "      <td>2020-12-25</td>\n",
              "      <td>2924.0</td>\n",
              "    </tr>\n",
              "    <tr>\n",
              "      <th>2</th>\n",
              "      <td>2020-12-26</td>\n",
              "      <td>2924.0</td>\n",
              "    </tr>\n",
              "    <tr>\n",
              "      <th>3</th>\n",
              "      <td>2020-12-27</td>\n",
              "      <td>6824.0</td>\n",
              "    </tr>\n",
              "    <tr>\n",
              "      <th>4</th>\n",
              "      <td>2020-12-28</td>\n",
              "      <td>9579.0</td>\n",
              "    </tr>\n",
              "    <tr>\n",
              "      <th>...</th>\n",
              "      <td>...</td>\n",
              "      <td>...</td>\n",
              "    </tr>\n",
              "    <tr>\n",
              "      <th>120</th>\n",
              "      <td>2021-04-23</td>\n",
              "      <td>11807897.0</td>\n",
              "    </tr>\n",
              "    <tr>\n",
              "      <th>121</th>\n",
              "      <td>2021-04-24</td>\n",
              "      <td>11961104.0</td>\n",
              "    </tr>\n",
              "    <tr>\n",
              "      <th>122</th>\n",
              "      <td>2021-04-25</td>\n",
              "      <td>12038498.0</td>\n",
              "    </tr>\n",
              "    <tr>\n",
              "      <th>123</th>\n",
              "      <td>2021-04-26</td>\n",
              "      <td>12054021.0</td>\n",
              "    </tr>\n",
              "    <tr>\n",
              "      <th>124</th>\n",
              "      <td>2021-04-27</td>\n",
              "      <td>12096308.0</td>\n",
              "    </tr>\n",
              "  </tbody>\n",
              "</table>\n",
              "<p>125 rows × 2 columns</p>\n",
              "</div>"
            ],
            "text/plain": [
              "            ds           y\n",
              "0   2020-12-24      2924.0\n",
              "1   2020-12-25      2924.0\n",
              "2   2020-12-26      2924.0\n",
              "3   2020-12-27      6824.0\n",
              "4   2020-12-28      9579.0\n",
              "..         ...         ...\n",
              "120 2021-04-23  11807897.0\n",
              "121 2021-04-24  11961104.0\n",
              "122 2021-04-25  12038498.0\n",
              "123 2021-04-26  12054021.0\n",
              "124 2021-04-27  12096308.0\n",
              "\n",
              "[125 rows x 2 columns]"
            ]
          },
          "metadata": {
            "tags": []
          },
          "execution_count": 84
        }
      ]
    },
    {
      "cell_type": "code",
      "metadata": {
        "colab": {
          "base_uri": "https://localhost:8080/",
          "height": 419
        },
        "id": "44aaiO-060jI",
        "outputId": "0cdf7c5c-fbdc-428e-8b21-ef0f9d5259e8"
      },
      "source": [
        "people_fully_vaccinated_prophet.reset_index(inplace=True)\n",
        "people_fully_vaccinated_prophet"
      ],
      "execution_count": null,
      "outputs": [
        {
          "output_type": "execute_result",
          "data": {
            "text/html": [
              "<div>\n",
              "<style scoped>\n",
              "    .dataframe tbody tr th:only-of-type {\n",
              "        vertical-align: middle;\n",
              "    }\n",
              "\n",
              "    .dataframe tbody tr th {\n",
              "        vertical-align: top;\n",
              "    }\n",
              "\n",
              "    .dataframe thead th {\n",
              "        text-align: right;\n",
              "    }\n",
              "</style>\n",
              "<table border=\"1\" class=\"dataframe\">\n",
              "  <thead>\n",
              "    <tr style=\"text-align: right;\">\n",
              "      <th></th>\n",
              "      <th>ds</th>\n",
              "      <th>y</th>\n",
              "    </tr>\n",
              "  </thead>\n",
              "  <tbody>\n",
              "    <tr>\n",
              "      <th>0</th>\n",
              "      <td>2020-12-24</td>\n",
              "      <td>0.0</td>\n",
              "    </tr>\n",
              "    <tr>\n",
              "      <th>1</th>\n",
              "      <td>2020-12-25</td>\n",
              "      <td>0.0</td>\n",
              "    </tr>\n",
              "    <tr>\n",
              "      <th>2</th>\n",
              "      <td>2020-12-26</td>\n",
              "      <td>0.0</td>\n",
              "    </tr>\n",
              "    <tr>\n",
              "      <th>3</th>\n",
              "      <td>2020-12-27</td>\n",
              "      <td>0.0</td>\n",
              "    </tr>\n",
              "    <tr>\n",
              "      <th>4</th>\n",
              "      <td>2020-12-28</td>\n",
              "      <td>0.0</td>\n",
              "    </tr>\n",
              "    <tr>\n",
              "      <th>...</th>\n",
              "      <td>...</td>\n",
              "      <td>...</td>\n",
              "    </tr>\n",
              "    <tr>\n",
              "      <th>120</th>\n",
              "      <td>2021-04-23</td>\n",
              "      <td>5347232.0</td>\n",
              "    </tr>\n",
              "    <tr>\n",
              "      <th>121</th>\n",
              "      <td>2021-04-24</td>\n",
              "      <td>5646105.0</td>\n",
              "    </tr>\n",
              "    <tr>\n",
              "      <th>122</th>\n",
              "      <td>2021-04-25</td>\n",
              "      <td>5830079.0</td>\n",
              "    </tr>\n",
              "    <tr>\n",
              "      <th>123</th>\n",
              "      <td>2021-04-26</td>\n",
              "      <td>5917676.0</td>\n",
              "    </tr>\n",
              "    <tr>\n",
              "      <th>124</th>\n",
              "      <td>2021-04-27</td>\n",
              "      <td>6096954.0</td>\n",
              "    </tr>\n",
              "  </tbody>\n",
              "</table>\n",
              "<p>125 rows × 2 columns</p>\n",
              "</div>"
            ],
            "text/plain": [
              "            ds          y\n",
              "0   2020-12-24        0.0\n",
              "1   2020-12-25        0.0\n",
              "2   2020-12-26        0.0\n",
              "3   2020-12-27        0.0\n",
              "4   2020-12-28        0.0\n",
              "..         ...        ...\n",
              "120 2021-04-23  5347232.0\n",
              "121 2021-04-24  5646105.0\n",
              "122 2021-04-25  5830079.0\n",
              "123 2021-04-26  5917676.0\n",
              "124 2021-04-27  6096954.0\n",
              "\n",
              "[125 rows x 2 columns]"
            ]
          },
          "metadata": {
            "tags": []
          },
          "execution_count": 85
        }
      ]
    },
    {
      "cell_type": "code",
      "metadata": {
        "colab": {
          "base_uri": "https://localhost:8080/"
        },
        "id": "OOiXWZbAFi4v",
        "outputId": "f840fc73-9436-492c-caa3-94be6478c343"
      },
      "source": [
        "people_vaccinated_model = Prophet(interval_width=0.95)\n",
        "people_vaccinated_model.fit(people_vaccinated_prophet)"
      ],
      "execution_count": null,
      "outputs": [
        {
          "output_type": "stream",
          "text": [
            "INFO:fbprophet:Disabling yearly seasonality. Run prophet with yearly_seasonality=True to override this.\n",
            "INFO:fbprophet:Disabling daily seasonality. Run prophet with daily_seasonality=True to override this.\n"
          ],
          "name": "stderr"
        },
        {
          "output_type": "execute_result",
          "data": {
            "text/plain": [
              "<fbprophet.forecaster.Prophet at 0x7f4386ca0e10>"
            ]
          },
          "metadata": {
            "tags": []
          },
          "execution_count": 86
        }
      ]
    },
    {
      "cell_type": "code",
      "metadata": {
        "colab": {
          "base_uri": "https://localhost:8080/"
        },
        "id": "FconAvc15k0e",
        "outputId": "f340e956-5080-46cf-bccc-f342fbccaff8"
      },
      "source": [
        "people_fully_vaccinated_model = Prophet(interval_width=0.95)\n",
        "people_fully_vaccinated_model.fit(people_fully_vaccinated_prophet)"
      ],
      "execution_count": null,
      "outputs": [
        {
          "output_type": "stream",
          "text": [
            "INFO:fbprophet:Disabling yearly seasonality. Run prophet with yearly_seasonality=True to override this.\n",
            "INFO:fbprophet:Disabling daily seasonality. Run prophet with daily_seasonality=True to override this.\n"
          ],
          "name": "stderr"
        },
        {
          "output_type": "execute_result",
          "data": {
            "text/plain": [
              "<fbprophet.forecaster.Prophet at 0x7f4385373650>"
            ]
          },
          "metadata": {
            "tags": []
          },
          "execution_count": 87
        }
      ]
    },
    {
      "cell_type": "code",
      "metadata": {
        "colab": {
          "base_uri": "https://localhost:8080/",
          "height": 419
        },
        "id": "pXDhyY3VFtA7",
        "outputId": "be5380f0-a9cd-433e-d0eb-699c31c0b178"
      },
      "source": [
        "people_vaccinated_forecast = people_vaccinated_model.make_future_dataframe(periods=0, freq='D')\n",
        "people_vaccinated_forecast"
      ],
      "execution_count": null,
      "outputs": [
        {
          "output_type": "execute_result",
          "data": {
            "text/html": [
              "<div>\n",
              "<style scoped>\n",
              "    .dataframe tbody tr th:only-of-type {\n",
              "        vertical-align: middle;\n",
              "    }\n",
              "\n",
              "    .dataframe tbody tr th {\n",
              "        vertical-align: top;\n",
              "    }\n",
              "\n",
              "    .dataframe thead th {\n",
              "        text-align: right;\n",
              "    }\n",
              "</style>\n",
              "<table border=\"1\" class=\"dataframe\">\n",
              "  <thead>\n",
              "    <tr style=\"text-align: right;\">\n",
              "      <th></th>\n",
              "      <th>ds</th>\n",
              "    </tr>\n",
              "  </thead>\n",
              "  <tbody>\n",
              "    <tr>\n",
              "      <th>0</th>\n",
              "      <td>2020-12-24</td>\n",
              "    </tr>\n",
              "    <tr>\n",
              "      <th>1</th>\n",
              "      <td>2020-12-25</td>\n",
              "    </tr>\n",
              "    <tr>\n",
              "      <th>2</th>\n",
              "      <td>2020-12-26</td>\n",
              "    </tr>\n",
              "    <tr>\n",
              "      <th>3</th>\n",
              "      <td>2020-12-27</td>\n",
              "    </tr>\n",
              "    <tr>\n",
              "      <th>4</th>\n",
              "      <td>2020-12-28</td>\n",
              "    </tr>\n",
              "    <tr>\n",
              "      <th>...</th>\n",
              "      <td>...</td>\n",
              "    </tr>\n",
              "    <tr>\n",
              "      <th>120</th>\n",
              "      <td>2021-04-23</td>\n",
              "    </tr>\n",
              "    <tr>\n",
              "      <th>121</th>\n",
              "      <td>2021-04-24</td>\n",
              "    </tr>\n",
              "    <tr>\n",
              "      <th>122</th>\n",
              "      <td>2021-04-25</td>\n",
              "    </tr>\n",
              "    <tr>\n",
              "      <th>123</th>\n",
              "      <td>2021-04-26</td>\n",
              "    </tr>\n",
              "    <tr>\n",
              "      <th>124</th>\n",
              "      <td>2021-04-27</td>\n",
              "    </tr>\n",
              "  </tbody>\n",
              "</table>\n",
              "<p>125 rows × 1 columns</p>\n",
              "</div>"
            ],
            "text/plain": [
              "            ds\n",
              "0   2020-12-24\n",
              "1   2020-12-25\n",
              "2   2020-12-26\n",
              "3   2020-12-27\n",
              "4   2020-12-28\n",
              "..         ...\n",
              "120 2021-04-23\n",
              "121 2021-04-24\n",
              "122 2021-04-25\n",
              "123 2021-04-26\n",
              "124 2021-04-27\n",
              "\n",
              "[125 rows x 1 columns]"
            ]
          },
          "metadata": {
            "tags": []
          },
          "execution_count": 88
        }
      ]
    },
    {
      "cell_type": "code",
      "metadata": {
        "colab": {
          "base_uri": "https://localhost:8080/",
          "height": 419
        },
        "id": "xspxmgbY51xq",
        "outputId": "bb2b458f-6db6-4482-99a5-30a71d1c5ec7"
      },
      "source": [
        "people_fully_vaccinated_forecast = people_fully_vaccinated_model.make_future_dataframe(periods=0, freq='D')\n",
        "people_fully_vaccinated_forecast"
      ],
      "execution_count": null,
      "outputs": [
        {
          "output_type": "execute_result",
          "data": {
            "text/html": [
              "<div>\n",
              "<style scoped>\n",
              "    .dataframe tbody tr th:only-of-type {\n",
              "        vertical-align: middle;\n",
              "    }\n",
              "\n",
              "    .dataframe tbody tr th {\n",
              "        vertical-align: top;\n",
              "    }\n",
              "\n",
              "    .dataframe thead th {\n",
              "        text-align: right;\n",
              "    }\n",
              "</style>\n",
              "<table border=\"1\" class=\"dataframe\">\n",
              "  <thead>\n",
              "    <tr style=\"text-align: right;\">\n",
              "      <th></th>\n",
              "      <th>ds</th>\n",
              "    </tr>\n",
              "  </thead>\n",
              "  <tbody>\n",
              "    <tr>\n",
              "      <th>0</th>\n",
              "      <td>2020-12-24</td>\n",
              "    </tr>\n",
              "    <tr>\n",
              "      <th>1</th>\n",
              "      <td>2020-12-25</td>\n",
              "    </tr>\n",
              "    <tr>\n",
              "      <th>2</th>\n",
              "      <td>2020-12-26</td>\n",
              "    </tr>\n",
              "    <tr>\n",
              "      <th>3</th>\n",
              "      <td>2020-12-27</td>\n",
              "    </tr>\n",
              "    <tr>\n",
              "      <th>4</th>\n",
              "      <td>2020-12-28</td>\n",
              "    </tr>\n",
              "    <tr>\n",
              "      <th>...</th>\n",
              "      <td>...</td>\n",
              "    </tr>\n",
              "    <tr>\n",
              "      <th>120</th>\n",
              "      <td>2021-04-23</td>\n",
              "    </tr>\n",
              "    <tr>\n",
              "      <th>121</th>\n",
              "      <td>2021-04-24</td>\n",
              "    </tr>\n",
              "    <tr>\n",
              "      <th>122</th>\n",
              "      <td>2021-04-25</td>\n",
              "    </tr>\n",
              "    <tr>\n",
              "      <th>123</th>\n",
              "      <td>2021-04-26</td>\n",
              "    </tr>\n",
              "    <tr>\n",
              "      <th>124</th>\n",
              "      <td>2021-04-27</td>\n",
              "    </tr>\n",
              "  </tbody>\n",
              "</table>\n",
              "<p>125 rows × 1 columns</p>\n",
              "</div>"
            ],
            "text/plain": [
              "            ds\n",
              "0   2020-12-24\n",
              "1   2020-12-25\n",
              "2   2020-12-26\n",
              "3   2020-12-27\n",
              "4   2020-12-28\n",
              "..         ...\n",
              "120 2021-04-23\n",
              "121 2021-04-24\n",
              "122 2021-04-25\n",
              "123 2021-04-26\n",
              "124 2021-04-27\n",
              "\n",
              "[125 rows x 1 columns]"
            ]
          },
          "metadata": {
            "tags": []
          },
          "execution_count": 89
        }
      ]
    },
    {
      "cell_type": "code",
      "metadata": {
        "colab": {
          "base_uri": "https://localhost:8080/",
          "height": 609
        },
        "id": "bvRyut69FyBz",
        "outputId": "1d5e7468-4558-40ea-b05e-051e5ef576fb"
      },
      "source": [
        "people_vaccinated_forecast = people_vaccinated_model.predict(people_vaccinated_forecast)\n",
        "people_vaccinated_forecast"
      ],
      "execution_count": null,
      "outputs": [
        {
          "output_type": "execute_result",
          "data": {
            "text/html": [
              "<div>\n",
              "<style scoped>\n",
              "    .dataframe tbody tr th:only-of-type {\n",
              "        vertical-align: middle;\n",
              "    }\n",
              "\n",
              "    .dataframe tbody tr th {\n",
              "        vertical-align: top;\n",
              "    }\n",
              "\n",
              "    .dataframe thead th {\n",
              "        text-align: right;\n",
              "    }\n",
              "</style>\n",
              "<table border=\"1\" class=\"dataframe\">\n",
              "  <thead>\n",
              "    <tr style=\"text-align: right;\">\n",
              "      <th></th>\n",
              "      <th>ds</th>\n",
              "      <th>trend</th>\n",
              "      <th>yhat_lower</th>\n",
              "      <th>yhat_upper</th>\n",
              "      <th>trend_lower</th>\n",
              "      <th>trend_upper</th>\n",
              "      <th>additive_terms</th>\n",
              "      <th>additive_terms_lower</th>\n",
              "      <th>additive_terms_upper</th>\n",
              "      <th>weekly</th>\n",
              "      <th>weekly_lower</th>\n",
              "      <th>weekly_upper</th>\n",
              "      <th>multiplicative_terms</th>\n",
              "      <th>multiplicative_terms_lower</th>\n",
              "      <th>multiplicative_terms_upper</th>\n",
              "      <th>yhat</th>\n",
              "    </tr>\n",
              "  </thead>\n",
              "  <tbody>\n",
              "    <tr>\n",
              "      <th>0</th>\n",
              "      <td>2020-12-24</td>\n",
              "      <td>-9.176743e+04</td>\n",
              "      <td>-5.048910e+05</td>\n",
              "      <td>2.907199e+05</td>\n",
              "      <td>-9.176743e+04</td>\n",
              "      <td>-9.176743e+04</td>\n",
              "      <td>7397.849721</td>\n",
              "      <td>7397.849721</td>\n",
              "      <td>7397.849721</td>\n",
              "      <td>7397.849721</td>\n",
              "      <td>7397.849721</td>\n",
              "      <td>7397.849721</td>\n",
              "      <td>0.0</td>\n",
              "      <td>0.0</td>\n",
              "      <td>0.0</td>\n",
              "      <td>-8.436958e+04</td>\n",
              "    </tr>\n",
              "    <tr>\n",
              "      <th>1</th>\n",
              "      <td>2020-12-25</td>\n",
              "      <td>-7.358488e+04</td>\n",
              "      <td>-3.955127e+05</td>\n",
              "      <td>3.646943e+05</td>\n",
              "      <td>-7.358488e+04</td>\n",
              "      <td>-7.358488e+04</td>\n",
              "      <td>52899.657400</td>\n",
              "      <td>52899.657400</td>\n",
              "      <td>52899.657400</td>\n",
              "      <td>52899.657400</td>\n",
              "      <td>52899.657400</td>\n",
              "      <td>52899.657400</td>\n",
              "      <td>0.0</td>\n",
              "      <td>0.0</td>\n",
              "      <td>0.0</td>\n",
              "      <td>-2.068522e+04</td>\n",
              "    </tr>\n",
              "    <tr>\n",
              "      <th>2</th>\n",
              "      <td>2020-12-26</td>\n",
              "      <td>-5.540233e+04</td>\n",
              "      <td>-3.582185e+05</td>\n",
              "      <td>4.073228e+05</td>\n",
              "      <td>-5.540233e+04</td>\n",
              "      <td>-5.540233e+04</td>\n",
              "      <td>60178.572098</td>\n",
              "      <td>60178.572098</td>\n",
              "      <td>60178.572098</td>\n",
              "      <td>60178.572098</td>\n",
              "      <td>60178.572098</td>\n",
              "      <td>60178.572098</td>\n",
              "      <td>0.0</td>\n",
              "      <td>0.0</td>\n",
              "      <td>0.0</td>\n",
              "      <td>4.776242e+03</td>\n",
              "    </tr>\n",
              "    <tr>\n",
              "      <th>3</th>\n",
              "      <td>2020-12-27</td>\n",
              "      <td>-3.721978e+04</td>\n",
              "      <td>-4.196006e+05</td>\n",
              "      <td>3.535094e+05</td>\n",
              "      <td>-3.721978e+04</td>\n",
              "      <td>-3.721978e+04</td>\n",
              "      <td>-4071.960701</td>\n",
              "      <td>-4071.960701</td>\n",
              "      <td>-4071.960701</td>\n",
              "      <td>-4071.960701</td>\n",
              "      <td>-4071.960701</td>\n",
              "      <td>-4071.960701</td>\n",
              "      <td>0.0</td>\n",
              "      <td>0.0</td>\n",
              "      <td>0.0</td>\n",
              "      <td>-4.129174e+04</td>\n",
              "    </tr>\n",
              "    <tr>\n",
              "      <th>4</th>\n",
              "      <td>2020-12-28</td>\n",
              "      <td>-1.903723e+04</td>\n",
              "      <td>-4.254334e+05</td>\n",
              "      <td>3.448011e+05</td>\n",
              "      <td>-1.903723e+04</td>\n",
              "      <td>-1.903723e+04</td>\n",
              "      <td>-42941.351463</td>\n",
              "      <td>-42941.351463</td>\n",
              "      <td>-42941.351463</td>\n",
              "      <td>-42941.351463</td>\n",
              "      <td>-42941.351463</td>\n",
              "      <td>-42941.351463</td>\n",
              "      <td>0.0</td>\n",
              "      <td>0.0</td>\n",
              "      <td>0.0</td>\n",
              "      <td>-6.197858e+04</td>\n",
              "    </tr>\n",
              "    <tr>\n",
              "      <th>...</th>\n",
              "      <td>...</td>\n",
              "      <td>...</td>\n",
              "      <td>...</td>\n",
              "      <td>...</td>\n",
              "      <td>...</td>\n",
              "      <td>...</td>\n",
              "      <td>...</td>\n",
              "      <td>...</td>\n",
              "      <td>...</td>\n",
              "      <td>...</td>\n",
              "      <td>...</td>\n",
              "      <td>...</td>\n",
              "      <td>...</td>\n",
              "      <td>...</td>\n",
              "      <td>...</td>\n",
              "      <td>...</td>\n",
              "    </tr>\n",
              "    <tr>\n",
              "      <th>120</th>\n",
              "      <td>2021-04-23</td>\n",
              "      <td>1.197304e+07</td>\n",
              "      <td>1.161085e+07</td>\n",
              "      <td>1.241485e+07</td>\n",
              "      <td>1.197304e+07</td>\n",
              "      <td>1.197304e+07</td>\n",
              "      <td>52899.657400</td>\n",
              "      <td>52899.657400</td>\n",
              "      <td>52899.657400</td>\n",
              "      <td>52899.657400</td>\n",
              "      <td>52899.657400</td>\n",
              "      <td>52899.657400</td>\n",
              "      <td>0.0</td>\n",
              "      <td>0.0</td>\n",
              "      <td>0.0</td>\n",
              "      <td>1.202594e+07</td>\n",
              "    </tr>\n",
              "    <tr>\n",
              "      <th>121</th>\n",
              "      <td>2021-04-24</td>\n",
              "      <td>1.218980e+07</td>\n",
              "      <td>1.184964e+07</td>\n",
              "      <td>1.263167e+07</td>\n",
              "      <td>1.218980e+07</td>\n",
              "      <td>1.218980e+07</td>\n",
              "      <td>60178.572098</td>\n",
              "      <td>60178.572098</td>\n",
              "      <td>60178.572098</td>\n",
              "      <td>60178.572098</td>\n",
              "      <td>60178.572098</td>\n",
              "      <td>60178.572098</td>\n",
              "      <td>0.0</td>\n",
              "      <td>0.0</td>\n",
              "      <td>0.0</td>\n",
              "      <td>1.224998e+07</td>\n",
              "    </tr>\n",
              "    <tr>\n",
              "      <th>122</th>\n",
              "      <td>2021-04-25</td>\n",
              "      <td>1.240656e+07</td>\n",
              "      <td>1.200733e+07</td>\n",
              "      <td>1.281247e+07</td>\n",
              "      <td>1.240656e+07</td>\n",
              "      <td>1.240656e+07</td>\n",
              "      <td>-4071.960701</td>\n",
              "      <td>-4071.960701</td>\n",
              "      <td>-4071.960701</td>\n",
              "      <td>-4071.960701</td>\n",
              "      <td>-4071.960701</td>\n",
              "      <td>-4071.960701</td>\n",
              "      <td>0.0</td>\n",
              "      <td>0.0</td>\n",
              "      <td>0.0</td>\n",
              "      <td>1.240249e+07</td>\n",
              "    </tr>\n",
              "    <tr>\n",
              "      <th>123</th>\n",
              "      <td>2021-04-26</td>\n",
              "      <td>1.262332e+07</td>\n",
              "      <td>1.221552e+07</td>\n",
              "      <td>1.296648e+07</td>\n",
              "      <td>1.262332e+07</td>\n",
              "      <td>1.262332e+07</td>\n",
              "      <td>-42941.351463</td>\n",
              "      <td>-42941.351463</td>\n",
              "      <td>-42941.351463</td>\n",
              "      <td>-42941.351463</td>\n",
              "      <td>-42941.351463</td>\n",
              "      <td>-42941.351463</td>\n",
              "      <td>0.0</td>\n",
              "      <td>0.0</td>\n",
              "      <td>0.0</td>\n",
              "      <td>1.258038e+07</td>\n",
              "    </tr>\n",
              "    <tr>\n",
              "      <th>124</th>\n",
              "      <td>2021-04-27</td>\n",
              "      <td>1.284008e+07</td>\n",
              "      <td>1.238505e+07</td>\n",
              "      <td>1.313455e+07</td>\n",
              "      <td>1.284008e+07</td>\n",
              "      <td>1.284008e+07</td>\n",
              "      <td>-81918.696532</td>\n",
              "      <td>-81918.696532</td>\n",
              "      <td>-81918.696532</td>\n",
              "      <td>-81918.696532</td>\n",
              "      <td>-81918.696532</td>\n",
              "      <td>-81918.696532</td>\n",
              "      <td>0.0</td>\n",
              "      <td>0.0</td>\n",
              "      <td>0.0</td>\n",
              "      <td>1.275816e+07</td>\n",
              "    </tr>\n",
              "  </tbody>\n",
              "</table>\n",
              "<p>125 rows × 16 columns</p>\n",
              "</div>"
            ],
            "text/plain": [
              "            ds         trend  ...  multiplicative_terms_upper          yhat\n",
              "0   2020-12-24 -9.176743e+04  ...                         0.0 -8.436958e+04\n",
              "1   2020-12-25 -7.358488e+04  ...                         0.0 -2.068522e+04\n",
              "2   2020-12-26 -5.540233e+04  ...                         0.0  4.776242e+03\n",
              "3   2020-12-27 -3.721978e+04  ...                         0.0 -4.129174e+04\n",
              "4   2020-12-28 -1.903723e+04  ...                         0.0 -6.197858e+04\n",
              "..         ...           ...  ...                         ...           ...\n",
              "120 2021-04-23  1.197304e+07  ...                         0.0  1.202594e+07\n",
              "121 2021-04-24  1.218980e+07  ...                         0.0  1.224998e+07\n",
              "122 2021-04-25  1.240656e+07  ...                         0.0  1.240249e+07\n",
              "123 2021-04-26  1.262332e+07  ...                         0.0  1.258038e+07\n",
              "124 2021-04-27  1.284008e+07  ...                         0.0  1.275816e+07\n",
              "\n",
              "[125 rows x 16 columns]"
            ]
          },
          "metadata": {
            "tags": []
          },
          "execution_count": 90
        }
      ]
    },
    {
      "cell_type": "code",
      "metadata": {
        "colab": {
          "base_uri": "https://localhost:8080/",
          "height": 609
        },
        "id": "k4uFSxA47TTY",
        "outputId": "4b1e27d5-491b-4ef6-f109-63fb85931de4"
      },
      "source": [
        "people_fully_vaccinated_forecast = people_fully_vaccinated_model.predict(people_fully_vaccinated_forecast)\n",
        "people_fully_vaccinated_forecast"
      ],
      "execution_count": null,
      "outputs": [
        {
          "output_type": "execute_result",
          "data": {
            "text/html": [
              "<div>\n",
              "<style scoped>\n",
              "    .dataframe tbody tr th:only-of-type {\n",
              "        vertical-align: middle;\n",
              "    }\n",
              "\n",
              "    .dataframe tbody tr th {\n",
              "        vertical-align: top;\n",
              "    }\n",
              "\n",
              "    .dataframe thead th {\n",
              "        text-align: right;\n",
              "    }\n",
              "</style>\n",
              "<table border=\"1\" class=\"dataframe\">\n",
              "  <thead>\n",
              "    <tr style=\"text-align: right;\">\n",
              "      <th></th>\n",
              "      <th>ds</th>\n",
              "      <th>trend</th>\n",
              "      <th>yhat_lower</th>\n",
              "      <th>yhat_upper</th>\n",
              "      <th>trend_lower</th>\n",
              "      <th>trend_upper</th>\n",
              "      <th>additive_terms</th>\n",
              "      <th>additive_terms_lower</th>\n",
              "      <th>additive_terms_upper</th>\n",
              "      <th>weekly</th>\n",
              "      <th>weekly_lower</th>\n",
              "      <th>weekly_upper</th>\n",
              "      <th>multiplicative_terms</th>\n",
              "      <th>multiplicative_terms_lower</th>\n",
              "      <th>multiplicative_terms_upper</th>\n",
              "      <th>yhat</th>\n",
              "    </tr>\n",
              "  </thead>\n",
              "  <tbody>\n",
              "    <tr>\n",
              "      <th>0</th>\n",
              "      <td>2020-12-24</td>\n",
              "      <td>-4.126233e+04</td>\n",
              "      <td>-3.868329e+05</td>\n",
              "      <td>3.015253e+05</td>\n",
              "      <td>-4.126233e+04</td>\n",
              "      <td>-4.126233e+04</td>\n",
              "      <td>-8759.739956</td>\n",
              "      <td>-8759.739956</td>\n",
              "      <td>-8759.739956</td>\n",
              "      <td>-8759.739956</td>\n",
              "      <td>-8759.739956</td>\n",
              "      <td>-8759.739956</td>\n",
              "      <td>0.0</td>\n",
              "      <td>0.0</td>\n",
              "      <td>0.0</td>\n",
              "      <td>-5.002207e+04</td>\n",
              "    </tr>\n",
              "    <tr>\n",
              "      <th>1</th>\n",
              "      <td>2020-12-25</td>\n",
              "      <td>-3.919489e+04</td>\n",
              "      <td>-3.691258e+05</td>\n",
              "      <td>3.273075e+05</td>\n",
              "      <td>-3.919489e+04</td>\n",
              "      <td>-3.919489e+04</td>\n",
              "      <td>30036.800562</td>\n",
              "      <td>30036.800562</td>\n",
              "      <td>30036.800562</td>\n",
              "      <td>30036.800562</td>\n",
              "      <td>30036.800562</td>\n",
              "      <td>30036.800562</td>\n",
              "      <td>0.0</td>\n",
              "      <td>0.0</td>\n",
              "      <td>0.0</td>\n",
              "      <td>-9.158090e+03</td>\n",
              "    </tr>\n",
              "    <tr>\n",
              "      <th>2</th>\n",
              "      <td>2020-12-26</td>\n",
              "      <td>-3.712745e+04</td>\n",
              "      <td>-3.530661e+05</td>\n",
              "      <td>3.301109e+05</td>\n",
              "      <td>-3.712745e+04</td>\n",
              "      <td>-3.712745e+04</td>\n",
              "      <td>32893.010299</td>\n",
              "      <td>32893.010299</td>\n",
              "      <td>32893.010299</td>\n",
              "      <td>32893.010299</td>\n",
              "      <td>32893.010299</td>\n",
              "      <td>32893.010299</td>\n",
              "      <td>0.0</td>\n",
              "      <td>0.0</td>\n",
              "      <td>0.0</td>\n",
              "      <td>-4.234437e+03</td>\n",
              "    </tr>\n",
              "    <tr>\n",
              "      <th>3</th>\n",
              "      <td>2020-12-27</td>\n",
              "      <td>-3.506000e+04</td>\n",
              "      <td>-3.506947e+05</td>\n",
              "      <td>3.242773e+05</td>\n",
              "      <td>-3.506000e+04</td>\n",
              "      <td>-3.506000e+04</td>\n",
              "      <td>11019.134404</td>\n",
              "      <td>11019.134404</td>\n",
              "      <td>11019.134404</td>\n",
              "      <td>11019.134404</td>\n",
              "      <td>11019.134404</td>\n",
              "      <td>11019.134404</td>\n",
              "      <td>0.0</td>\n",
              "      <td>0.0</td>\n",
              "      <td>0.0</td>\n",
              "      <td>-2.404087e+04</td>\n",
              "    </tr>\n",
              "    <tr>\n",
              "      <th>4</th>\n",
              "      <td>2020-12-28</td>\n",
              "      <td>-3.299256e+04</td>\n",
              "      <td>-3.882404e+05</td>\n",
              "      <td>2.646871e+05</td>\n",
              "      <td>-3.299256e+04</td>\n",
              "      <td>-3.299256e+04</td>\n",
              "      <td>-14032.057447</td>\n",
              "      <td>-14032.057447</td>\n",
              "      <td>-14032.057447</td>\n",
              "      <td>-14032.057447</td>\n",
              "      <td>-14032.057447</td>\n",
              "      <td>-14032.057447</td>\n",
              "      <td>0.0</td>\n",
              "      <td>0.0</td>\n",
              "      <td>0.0</td>\n",
              "      <td>-4.702462e+04</td>\n",
              "    </tr>\n",
              "    <tr>\n",
              "      <th>...</th>\n",
              "      <td>...</td>\n",
              "      <td>...</td>\n",
              "      <td>...</td>\n",
              "      <td>...</td>\n",
              "      <td>...</td>\n",
              "      <td>...</td>\n",
              "      <td>...</td>\n",
              "      <td>...</td>\n",
              "      <td>...</td>\n",
              "      <td>...</td>\n",
              "      <td>...</td>\n",
              "      <td>...</td>\n",
              "      <td>...</td>\n",
              "      <td>...</td>\n",
              "      <td>...</td>\n",
              "      <td>...</td>\n",
              "    </tr>\n",
              "    <tr>\n",
              "      <th>120</th>\n",
              "      <td>2021-04-23</td>\n",
              "      <td>4.905253e+06</td>\n",
              "      <td>4.571154e+06</td>\n",
              "      <td>5.286122e+06</td>\n",
              "      <td>4.905253e+06</td>\n",
              "      <td>4.905253e+06</td>\n",
              "      <td>30036.800562</td>\n",
              "      <td>30036.800562</td>\n",
              "      <td>30036.800562</td>\n",
              "      <td>30036.800562</td>\n",
              "      <td>30036.800562</td>\n",
              "      <td>30036.800562</td>\n",
              "      <td>0.0</td>\n",
              "      <td>0.0</td>\n",
              "      <td>0.0</td>\n",
              "      <td>4.935290e+06</td>\n",
              "    </tr>\n",
              "    <tr>\n",
              "      <th>121</th>\n",
              "      <td>2021-04-24</td>\n",
              "      <td>5.101016e+06</td>\n",
              "      <td>4.798772e+06</td>\n",
              "      <td>5.491937e+06</td>\n",
              "      <td>5.101016e+06</td>\n",
              "      <td>5.101016e+06</td>\n",
              "      <td>32893.010299</td>\n",
              "      <td>32893.010299</td>\n",
              "      <td>32893.010299</td>\n",
              "      <td>32893.010299</td>\n",
              "      <td>32893.010299</td>\n",
              "      <td>32893.010299</td>\n",
              "      <td>0.0</td>\n",
              "      <td>0.0</td>\n",
              "      <td>0.0</td>\n",
              "      <td>5.133909e+06</td>\n",
              "    </tr>\n",
              "    <tr>\n",
              "      <th>122</th>\n",
              "      <td>2021-04-25</td>\n",
              "      <td>5.296779e+06</td>\n",
              "      <td>4.958442e+06</td>\n",
              "      <td>5.645547e+06</td>\n",
              "      <td>5.296779e+06</td>\n",
              "      <td>5.296779e+06</td>\n",
              "      <td>11019.134404</td>\n",
              "      <td>11019.134404</td>\n",
              "      <td>11019.134404</td>\n",
              "      <td>11019.134404</td>\n",
              "      <td>11019.134404</td>\n",
              "      <td>11019.134404</td>\n",
              "      <td>0.0</td>\n",
              "      <td>0.0</td>\n",
              "      <td>0.0</td>\n",
              "      <td>5.307798e+06</td>\n",
              "    </tr>\n",
              "    <tr>\n",
              "      <th>123</th>\n",
              "      <td>2021-04-26</td>\n",
              "      <td>5.492542e+06</td>\n",
              "      <td>5.143180e+06</td>\n",
              "      <td>5.807598e+06</td>\n",
              "      <td>5.492542e+06</td>\n",
              "      <td>5.492542e+06</td>\n",
              "      <td>-14032.057447</td>\n",
              "      <td>-14032.057447</td>\n",
              "      <td>-14032.057447</td>\n",
              "      <td>-14032.057447</td>\n",
              "      <td>-14032.057447</td>\n",
              "      <td>-14032.057447</td>\n",
              "      <td>0.0</td>\n",
              "      <td>0.0</td>\n",
              "      <td>0.0</td>\n",
              "      <td>5.478510e+06</td>\n",
              "    </tr>\n",
              "    <tr>\n",
              "      <th>124</th>\n",
              "      <td>2021-04-27</td>\n",
              "      <td>5.688305e+06</td>\n",
              "      <td>5.325945e+06</td>\n",
              "      <td>6.018219e+06</td>\n",
              "      <td>5.688305e+06</td>\n",
              "      <td>5.688305e+06</td>\n",
              "      <td>-17454.939075</td>\n",
              "      <td>-17454.939075</td>\n",
              "      <td>-17454.939075</td>\n",
              "      <td>-17454.939075</td>\n",
              "      <td>-17454.939075</td>\n",
              "      <td>-17454.939075</td>\n",
              "      <td>0.0</td>\n",
              "      <td>0.0</td>\n",
              "      <td>0.0</td>\n",
              "      <td>5.670850e+06</td>\n",
              "    </tr>\n",
              "  </tbody>\n",
              "</table>\n",
              "<p>125 rows × 16 columns</p>\n",
              "</div>"
            ],
            "text/plain": [
              "            ds         trend  ...  multiplicative_terms_upper          yhat\n",
              "0   2020-12-24 -4.126233e+04  ...                         0.0 -5.002207e+04\n",
              "1   2020-12-25 -3.919489e+04  ...                         0.0 -9.158090e+03\n",
              "2   2020-12-26 -3.712745e+04  ...                         0.0 -4.234437e+03\n",
              "3   2020-12-27 -3.506000e+04  ...                         0.0 -2.404087e+04\n",
              "4   2020-12-28 -3.299256e+04  ...                         0.0 -4.702462e+04\n",
              "..         ...           ...  ...                         ...           ...\n",
              "120 2021-04-23  4.905253e+06  ...                         0.0  4.935290e+06\n",
              "121 2021-04-24  5.101016e+06  ...                         0.0  5.133909e+06\n",
              "122 2021-04-25  5.296779e+06  ...                         0.0  5.307798e+06\n",
              "123 2021-04-26  5.492542e+06  ...                         0.0  5.478510e+06\n",
              "124 2021-04-27  5.688305e+06  ...                         0.0  5.670850e+06\n",
              "\n",
              "[125 rows x 16 columns]"
            ]
          },
          "metadata": {
            "tags": []
          },
          "execution_count": 91
        }
      ]
    },
    {
      "cell_type": "code",
      "metadata": {
        "colab": {
          "base_uri": "https://localhost:8080/",
          "height": 446
        },
        "id": "GJ7u54EkF3SH",
        "outputId": "8b901020-6061-41de-cae8-b402c261f078"
      },
      "source": [
        "people_vaccinated_model.plot(people_vaccinated_forecast, xlabel='Date', ylabel='People Vaccinated')\n",
        "plt.title('People Vaccinated Forecast')\n",
        "plt.show()"
      ],
      "execution_count": null,
      "outputs": [
        {
          "output_type": "display_data",
          "data": {
            "image/png": "[encoded data removed]",
            "text/plain": [
              "<Figure size 720x432 with 1 Axes>"
            ]
          },
          "metadata": {
            "tags": []
          }
        }
      ]
    },
    {
      "cell_type": "code",
      "metadata": {
        "colab": {
          "base_uri": "https://localhost:8080/",
          "height": 446
        },
        "id": "NPU3O47j7pUd",
        "outputId": "5e39f5e0-6cb6-4d7b-d0c3-780ef96e51cb"
      },
      "source": [
        "people_fully_vaccinated_model.plot(people_fully_vaccinated_forecast, xlabel='Date', ylabel='People Fully Vaccinated')\n",
        "plt.title('People Fully Vaccinated Forecast')\n",
        "plt.show()"
      ],
      "execution_count": null,
      "outputs": [
        {
          "output_type": "display_data",
          "data": {
            "image/png": "[encoded data removed]",
            "text/plain": [
              "<Figure size 720x432 with 1 Axes>"
            ]
          },
          "metadata": {
            "tags": []
          }
        }
      ]
    },
    {
      "cell_type": "code",
      "metadata": {
        "colab": {
          "base_uri": "https://localhost:8080/"
        },
        "id": "nklqOhw178TW",
        "outputId": "587f443d-a24e-490d-b867-e22eddcd9bd3"
      },
      "source": [
        "people_fully_vaccinated_forecast[['yhat']].iloc[-1]"
      ],
      "execution_count": null,
      "outputs": [
        {
          "output_type": "execute_result",
          "data": {
            "text/plain": [
              "yhat    5.670850e+06\n",
              "Name: 124, dtype: float64"
            ]
          },
          "metadata": {
            "tags": []
          },
          "execution_count": 94
        }
      ]
    },
    {
      "cell_type": "code",
      "metadata": {
        "colab": {
          "base_uri": "https://localhost:8080/",
          "height": 441
        },
        "id": "kQ2MBO2FHFnO",
        "outputId": "b9f7a958-51ab-403c-a76c-c57c53d2711b"
      },
      "source": [
        "people_vaccinated_model.plot_components(people_vaccinated_forecast)\n",
        "plt.show()"
      ],
      "execution_count": null,
      "outputs": [
        {
          "output_type": "display_data",
          "data": {
            "image/png": "[encoded data removed]",
            "text/plain": [
              "<Figure size 648x432 with 2 Axes>"
            ]
          },
          "metadata": {
            "tags": []
          }
        }
      ]
    },
    {
      "cell_type": "code",
      "metadata": {
        "colab": {
          "base_uri": "https://localhost:8080/",
          "height": 441
        },
        "id": "ArZG0zDJ97oX",
        "outputId": "6ccd8792-f693-4a0f-86e2-27f8ba452efb"
      },
      "source": [
        "people_fully_vaccinated_model.plot_components(people_fully_vaccinated_forecast)\n",
        "plt.show()"
      ],
      "execution_count": null,
      "outputs": [
        {
          "output_type": "display_data",
          "data": {
            "image/png": "[encoded data removed]",
            "text/plain": [
              "<Figure size 648x432 with 2 Axes>"
            ]
          },
          "metadata": {
            "tags": []
          }
        }
      ]
    },
    {
      "cell_type": "code",
      "metadata": {
        "colab": {
          "base_uri": "https://localhost:8080/"
        },
        "id": "n6nY6vmrAFlc",
        "outputId": "be9944ec-d5c5-4970-a33d-4f17b67909f8"
      },
      "source": [
        "forecasted = people_fully_vaccinated_forecast[['ds', 'yhat']]\n",
        "forecasted.set_index('ds', inplace=True)\n",
        "forecasted['yhat']"
      ],
      "execution_count": null,
      "outputs": [
        {
          "output_type": "execute_result",
          "data": {
            "text/plain": [
              "ds\n",
              "2020-12-24   -5.002207e+04\n",
              "2020-12-25   -9.158090e+03\n",
              "2020-12-26   -4.234437e+03\n",
              "2020-12-27   -2.404087e+04\n",
              "2020-12-28   -4.702462e+04\n",
              "                  ...     \n",
              "2021-04-23    4.935290e+06\n",
              "2021-04-24    5.133909e+06\n",
              "2021-04-25    5.307798e+06\n",
              "2021-04-26    5.478510e+06\n",
              "2021-04-27    5.670850e+06\n",
              "Name: yhat, Length: 125, dtype: float64"
            ]
          },
          "metadata": {
            "tags": []
          },
          "execution_count": 97
        }
      ]
    },
    {
      "cell_type": "code",
      "metadata": {
        "colab": {
          "base_uri": "https://localhost:8080/"
        },
        "id": "g35OE-caD6MF",
        "outputId": "676a402f-8f31-42ca-ca31-511fc3f00e4f"
      },
      "source": [
        "truth"
      ],
      "execution_count": null,
      "outputs": [
        {
          "output_type": "execute_result",
          "data": {
            "text/plain": [
              "date\n",
              "2020-12-24          0.0\n",
              "2020-12-25          0.0\n",
              "2020-12-26          0.0\n",
              "2020-12-27          0.0\n",
              "2020-12-28          0.0\n",
              "                ...    \n",
              "2021-04-23    5347232.0\n",
              "2021-04-24    5646105.0\n",
              "2021-04-25    5830079.0\n",
              "2021-04-26    5917676.0\n",
              "2021-04-27    6096954.0\n",
              "Name: people_fully_vaccinated, Length: 125, dtype: float64"
            ]
          },
          "metadata": {
            "tags": []
          },
          "execution_count": 98
        }
      ]
    },
    {
      "cell_type": "code",
      "metadata": {
        "colab": {
          "base_uri": "https://localhost:8080/"
        },
        "id": "lPiXZGOKBc3N",
        "outputId": "8854b671-26a5-435a-8804-d0bfe9a8f703"
      },
      "source": [
        "mse = mean_squared_error(truth, forecasted)\n",
        "print('The Mean Squared Error of our forecasts is {}'.format(round(mse, 2)))"
      ],
      "execution_count": null,
      "outputs": [
        {
          "output_type": "stream",
          "text": [
            "The Mean Squared Error of our forecasts is 29873745220.59\n"
          ],
          "name": "stdout"
        }
      ]
    },
    {
      "cell_type": "code",
      "metadata": {
        "colab": {
          "base_uri": "https://localhost:8080/"
        },
        "id": "xNdG980eEd9P",
        "outputId": "17a1d022-0327-4832-b612-a70942a09416"
      },
      "source": [
        "print('The Root Mean Squared Error of our forecasts is {}'.format(round(np.sqrt(mse), 2)))"
      ],
      "execution_count": null,
      "outputs": [
        {
          "output_type": "stream",
          "text": [
            "The Root Mean Squared Error of our forecasts is 172840.23\n"
          ],
          "name": "stdout"
        }
      ]
    },
    {
      "cell_type": "code",
      "metadata": {
        "colab": {
          "base_uri": "https://localhost:8080/",
          "height": 508
        },
        "id": "pnv2HIt2E-fo",
        "outputId": "19a04f2e-344f-4b0b-9e53-28b61bf91eea"
      },
      "source": [
        "plt.plot(people_fully_vaccinated_forecast['ds'], people_fully_vaccinated_forecast['trend'], 'b-', label='people_fully_vaccinated_forecast')\n",
        "plt.plot(people_vaccinated_forecast['ds'], people_vaccinated_forecast['trend'], 'r-', label='people_vaccinated_forecast')\n",
        "plt.xlabel('date')\n",
        "plt.ylabel('trend')\n",
        "plt.legend()\n",
        "plt.show()"
      ],
      "execution_count": null,
      "outputs": [
        {
          "output_type": "display_data",
          "data": {
            "image/png": "[encoded data removed]",
            "text/plain": [
              "<Figure size 1296x576 with 1 Axes>"
            ]
          },
          "metadata": {
            "tags": [],
            "needs_background": "light"
          }
        }
      ]
    },
    {
      "cell_type": "code",
      "metadata": {
        "colab": {
          "base_uri": "https://localhost:8080/",
          "height": 419
        },
        "id": "anvvU2usEt4x",
        "outputId": "9cb2492e-6190-4d7f-8440-ab3a6653e47e"
      },
      "source": [
        "people_fully_vaccinated_forecast = people_fully_vaccinated_model.make_future_dataframe(periods=61, freq='D')\n",
        "people_fully_vaccinated_forecast"
      ],
      "execution_count": null,
      "outputs": [
        {
          "output_type": "execute_result",
          "data": {
            "text/html": [
              "<div>\n",
              "<style scoped>\n",
              "    .dataframe tbody tr th:only-of-type {\n",
              "        vertical-align: middle;\n",
              "    }\n",
              "\n",
              "    .dataframe tbody tr th {\n",
              "        vertical-align: top;\n",
              "    }\n",
              "\n",
              "    .dataframe thead th {\n",
              "        text-align: right;\n",
              "    }\n",
              "</style>\n",
              "<table border=\"1\" class=\"dataframe\">\n",
              "  <thead>\n",
              "    <tr style=\"text-align: right;\">\n",
              "      <th></th>\n",
              "      <th>ds</th>\n",
              "    </tr>\n",
              "  </thead>\n",
              "  <tbody>\n",
              "    <tr>\n",
              "      <th>0</th>\n",
              "      <td>2020-12-24</td>\n",
              "    </tr>\n",
              "    <tr>\n",
              "      <th>1</th>\n",
              "      <td>2020-12-25</td>\n",
              "    </tr>\n",
              "    <tr>\n",
              "      <th>2</th>\n",
              "      <td>2020-12-26</td>\n",
              "    </tr>\n",
              "    <tr>\n",
              "      <th>3</th>\n",
              "      <td>2020-12-27</td>\n",
              "    </tr>\n",
              "    <tr>\n",
              "      <th>4</th>\n",
              "      <td>2020-12-28</td>\n",
              "    </tr>\n",
              "    <tr>\n",
              "      <th>...</th>\n",
              "      <td>...</td>\n",
              "    </tr>\n",
              "    <tr>\n",
              "      <th>181</th>\n",
              "      <td>2021-06-23</td>\n",
              "    </tr>\n",
              "    <tr>\n",
              "      <th>182</th>\n",
              "      <td>2021-06-24</td>\n",
              "    </tr>\n",
              "    <tr>\n",
              "      <th>183</th>\n",
              "      <td>2021-06-25</td>\n",
              "    </tr>\n",
              "    <tr>\n",
              "      <th>184</th>\n",
              "      <td>2021-06-26</td>\n",
              "    </tr>\n",
              "    <tr>\n",
              "      <th>185</th>\n",
              "      <td>2021-06-27</td>\n",
              "    </tr>\n",
              "  </tbody>\n",
              "</table>\n",
              "<p>186 rows × 1 columns</p>\n",
              "</div>"
            ],
            "text/plain": [
              "            ds\n",
              "0   2020-12-24\n",
              "1   2020-12-25\n",
              "2   2020-12-26\n",
              "3   2020-12-27\n",
              "4   2020-12-28\n",
              "..         ...\n",
              "181 2021-06-23\n",
              "182 2021-06-24\n",
              "183 2021-06-25\n",
              "184 2021-06-26\n",
              "185 2021-06-27\n",
              "\n",
              "[186 rows x 1 columns]"
            ]
          },
          "metadata": {
            "tags": []
          },
          "execution_count": 102
        }
      ]
    },
    {
      "cell_type": "code",
      "metadata": {
        "colab": {
          "base_uri": "https://localhost:8080/",
          "height": 609
        },
        "id": "EvluoYf4EvK6",
        "outputId": "8dddec66-9915-40f9-a5a4-6c7cc1354c2e"
      },
      "source": [
        "people_fully_vaccinated_forecast = people_fully_vaccinated_model.predict(people_fully_vaccinated_forecast)\n",
        "people_fully_vaccinated_forecast"
      ],
      "execution_count": null,
      "outputs": [
        {
          "output_type": "execute_result",
          "data": {
            "text/html": [
              "<div>\n",
              "<style scoped>\n",
              "    .dataframe tbody tr th:only-of-type {\n",
              "        vertical-align: middle;\n",
              "    }\n",
              "\n",
              "    .dataframe tbody tr th {\n",
              "        vertical-align: top;\n",
              "    }\n",
              "\n",
              "    .dataframe thead th {\n",
              "        text-align: right;\n",
              "    }\n",
              "</style>\n",
              "<table border=\"1\" class=\"dataframe\">\n",
              "  <thead>\n",
              "    <tr style=\"text-align: right;\">\n",
              "      <th></th>\n",
              "      <th>ds</th>\n",
              "      <th>trend</th>\n",
              "      <th>yhat_lower</th>\n",
              "      <th>yhat_upper</th>\n",
              "      <th>trend_lower</th>\n",
              "      <th>trend_upper</th>\n",
              "      <th>additive_terms</th>\n",
              "      <th>additive_terms_lower</th>\n",
              "      <th>additive_terms_upper</th>\n",
              "      <th>weekly</th>\n",
              "      <th>weekly_lower</th>\n",
              "      <th>weekly_upper</th>\n",
              "      <th>multiplicative_terms</th>\n",
              "      <th>multiplicative_terms_lower</th>\n",
              "      <th>multiplicative_terms_upper</th>\n",
              "      <th>yhat</th>\n",
              "    </tr>\n",
              "  </thead>\n",
              "  <tbody>\n",
              "    <tr>\n",
              "      <th>0</th>\n",
              "      <td>2020-12-24</td>\n",
              "      <td>-4.126233e+04</td>\n",
              "      <td>-4.059961e+05</td>\n",
              "      <td>2.792384e+05</td>\n",
              "      <td>-4.126233e+04</td>\n",
              "      <td>-4.126233e+04</td>\n",
              "      <td>-8759.739956</td>\n",
              "      <td>-8759.739956</td>\n",
              "      <td>-8759.739956</td>\n",
              "      <td>-8759.739956</td>\n",
              "      <td>-8759.739956</td>\n",
              "      <td>-8759.739956</td>\n",
              "      <td>0.0</td>\n",
              "      <td>0.0</td>\n",
              "      <td>0.0</td>\n",
              "      <td>-5.002207e+04</td>\n",
              "    </tr>\n",
              "    <tr>\n",
              "      <th>1</th>\n",
              "      <td>2020-12-25</td>\n",
              "      <td>-3.919489e+04</td>\n",
              "      <td>-3.302207e+05</td>\n",
              "      <td>2.936161e+05</td>\n",
              "      <td>-3.919489e+04</td>\n",
              "      <td>-3.919489e+04</td>\n",
              "      <td>30036.800562</td>\n",
              "      <td>30036.800562</td>\n",
              "      <td>30036.800562</td>\n",
              "      <td>30036.800562</td>\n",
              "      <td>30036.800562</td>\n",
              "      <td>30036.800562</td>\n",
              "      <td>0.0</td>\n",
              "      <td>0.0</td>\n",
              "      <td>0.0</td>\n",
              "      <td>-9.158090e+03</td>\n",
              "    </tr>\n",
              "    <tr>\n",
              "      <th>2</th>\n",
              "      <td>2020-12-26</td>\n",
              "      <td>-3.712745e+04</td>\n",
              "      <td>-3.590517e+05</td>\n",
              "      <td>3.137269e+05</td>\n",
              "      <td>-3.712745e+04</td>\n",
              "      <td>-3.712745e+04</td>\n",
              "      <td>32893.010299</td>\n",
              "      <td>32893.010299</td>\n",
              "      <td>32893.010299</td>\n",
              "      <td>32893.010299</td>\n",
              "      <td>32893.010299</td>\n",
              "      <td>32893.010299</td>\n",
              "      <td>0.0</td>\n",
              "      <td>0.0</td>\n",
              "      <td>0.0</td>\n",
              "      <td>-4.234437e+03</td>\n",
              "    </tr>\n",
              "    <tr>\n",
              "      <th>3</th>\n",
              "      <td>2020-12-27</td>\n",
              "      <td>-3.506000e+04</td>\n",
              "      <td>-3.491283e+05</td>\n",
              "      <td>3.266779e+05</td>\n",
              "      <td>-3.506000e+04</td>\n",
              "      <td>-3.506000e+04</td>\n",
              "      <td>11019.134404</td>\n",
              "      <td>11019.134404</td>\n",
              "      <td>11019.134404</td>\n",
              "      <td>11019.134404</td>\n",
              "      <td>11019.134404</td>\n",
              "      <td>11019.134404</td>\n",
              "      <td>0.0</td>\n",
              "      <td>0.0</td>\n",
              "      <td>0.0</td>\n",
              "      <td>-2.404087e+04</td>\n",
              "    </tr>\n",
              "    <tr>\n",
              "      <th>4</th>\n",
              "      <td>2020-12-28</td>\n",
              "      <td>-3.299256e+04</td>\n",
              "      <td>-3.782893e+05</td>\n",
              "      <td>3.073829e+05</td>\n",
              "      <td>-3.299256e+04</td>\n",
              "      <td>-3.299256e+04</td>\n",
              "      <td>-14032.057447</td>\n",
              "      <td>-14032.057447</td>\n",
              "      <td>-14032.057447</td>\n",
              "      <td>-14032.057447</td>\n",
              "      <td>-14032.057447</td>\n",
              "      <td>-14032.057447</td>\n",
              "      <td>0.0</td>\n",
              "      <td>0.0</td>\n",
              "      <td>0.0</td>\n",
              "      <td>-4.702462e+04</td>\n",
              "    </tr>\n",
              "    <tr>\n",
              "      <th>...</th>\n",
              "      <td>...</td>\n",
              "      <td>...</td>\n",
              "      <td>...</td>\n",
              "      <td>...</td>\n",
              "      <td>...</td>\n",
              "      <td>...</td>\n",
              "      <td>...</td>\n",
              "      <td>...</td>\n",
              "      <td>...</td>\n",
              "      <td>...</td>\n",
              "      <td>...</td>\n",
              "      <td>...</td>\n",
              "      <td>...</td>\n",
              "      <td>...</td>\n",
              "      <td>...</td>\n",
              "      <td>...</td>\n",
              "    </tr>\n",
              "    <tr>\n",
              "      <th>181</th>\n",
              "      <td>2021-06-23</td>\n",
              "      <td>1.684679e+07</td>\n",
              "      <td>1.438251e+07</td>\n",
              "      <td>1.911041e+07</td>\n",
              "      <td>1.441942e+07</td>\n",
              "      <td>1.917393e+07</td>\n",
              "      <td>-33702.208787</td>\n",
              "      <td>-33702.208787</td>\n",
              "      <td>-33702.208787</td>\n",
              "      <td>-33702.208787</td>\n",
              "      <td>-33702.208787</td>\n",
              "      <td>-33702.208787</td>\n",
              "      <td>0.0</td>\n",
              "      <td>0.0</td>\n",
              "      <td>0.0</td>\n",
              "      <td>1.681309e+07</td>\n",
              "    </tr>\n",
              "    <tr>\n",
              "      <th>182</th>\n",
              "      <td>2021-06-24</td>\n",
              "      <td>1.704256e+07</td>\n",
              "      <td>1.451203e+07</td>\n",
              "      <td>1.949583e+07</td>\n",
              "      <td>1.455761e+07</td>\n",
              "      <td>1.944737e+07</td>\n",
              "      <td>-8759.739956</td>\n",
              "      <td>-8759.739956</td>\n",
              "      <td>-8759.739956</td>\n",
              "      <td>-8759.739956</td>\n",
              "      <td>-8759.739956</td>\n",
              "      <td>-8759.739956</td>\n",
              "      <td>0.0</td>\n",
              "      <td>0.0</td>\n",
              "      <td>0.0</td>\n",
              "      <td>1.703380e+07</td>\n",
              "    </tr>\n",
              "    <tr>\n",
              "      <th>183</th>\n",
              "      <td>2021-06-25</td>\n",
              "      <td>1.723832e+07</td>\n",
              "      <td>1.470358e+07</td>\n",
              "      <td>1.969937e+07</td>\n",
              "      <td>1.470044e+07</td>\n",
              "      <td>1.972707e+07</td>\n",
              "      <td>30036.800562</td>\n",
              "      <td>30036.800562</td>\n",
              "      <td>30036.800562</td>\n",
              "      <td>30036.800562</td>\n",
              "      <td>30036.800562</td>\n",
              "      <td>30036.800562</td>\n",
              "      <td>0.0</td>\n",
              "      <td>0.0</td>\n",
              "      <td>0.0</td>\n",
              "      <td>1.726836e+07</td>\n",
              "    </tr>\n",
              "    <tr>\n",
              "      <th>184</th>\n",
              "      <td>2021-06-26</td>\n",
              "      <td>1.743408e+07</td>\n",
              "      <td>1.478051e+07</td>\n",
              "      <td>1.997409e+07</td>\n",
              "      <td>1.483896e+07</td>\n",
              "      <td>1.999432e+07</td>\n",
              "      <td>32893.010299</td>\n",
              "      <td>32893.010299</td>\n",
              "      <td>32893.010299</td>\n",
              "      <td>32893.010299</td>\n",
              "      <td>32893.010299</td>\n",
              "      <td>32893.010299</td>\n",
              "      <td>0.0</td>\n",
              "      <td>0.0</td>\n",
              "      <td>0.0</td>\n",
              "      <td>1.746697e+07</td>\n",
              "    </tr>\n",
              "    <tr>\n",
              "      <th>185</th>\n",
              "      <td>2021-06-27</td>\n",
              "      <td>1.762984e+07</td>\n",
              "      <td>1.491859e+07</td>\n",
              "      <td>2.026598e+07</td>\n",
              "      <td>1.497258e+07</td>\n",
              "      <td>2.025319e+07</td>\n",
              "      <td>11019.134404</td>\n",
              "      <td>11019.134404</td>\n",
              "      <td>11019.134404</td>\n",
              "      <td>11019.134404</td>\n",
              "      <td>11019.134404</td>\n",
              "      <td>11019.134404</td>\n",
              "      <td>0.0</td>\n",
              "      <td>0.0</td>\n",
              "      <td>0.0</td>\n",
              "      <td>1.764086e+07</td>\n",
              "    </tr>\n",
              "  </tbody>\n",
              "</table>\n",
              "<p>186 rows × 16 columns</p>\n",
              "</div>"
            ],
            "text/plain": [
              "            ds         trend  ...  multiplicative_terms_upper          yhat\n",
              "0   2020-12-24 -4.126233e+04  ...                         0.0 -5.002207e+04\n",
              "1   2020-12-25 -3.919489e+04  ...                         0.0 -9.158090e+03\n",
              "2   2020-12-26 -3.712745e+04  ...                         0.0 -4.234437e+03\n",
              "3   2020-12-27 -3.506000e+04  ...                         0.0 -2.404087e+04\n",
              "4   2020-12-28 -3.299256e+04  ...                         0.0 -4.702462e+04\n",
              "..         ...           ...  ...                         ...           ...\n",
              "181 2021-06-23  1.684679e+07  ...                         0.0  1.681309e+07\n",
              "182 2021-06-24  1.704256e+07  ...                         0.0  1.703380e+07\n",
              "183 2021-06-25  1.723832e+07  ...                         0.0  1.726836e+07\n",
              "184 2021-06-26  1.743408e+07  ...                         0.0  1.746697e+07\n",
              "185 2021-06-27  1.762984e+07  ...                         0.0  1.764086e+07\n",
              "\n",
              "[186 rows x 16 columns]"
            ]
          },
          "metadata": {
            "tags": []
          },
          "execution_count": 103
        }
      ]
    },
    {
      "cell_type": "code",
      "metadata": {
        "colab": {
          "base_uri": "https://localhost:8080/",
          "height": 441
        },
        "id": "KmZ8_E0lEzZs",
        "outputId": "65aeb6d7-bed4-451e-b8af-9217f86618f2"
      },
      "source": [
        "people_fully_vaccinated_model.plot(people_fully_vaccinated_forecast, xlabel='Date', ylabel='People Fully Vaccinated')\n",
        "plt.show()"
      ],
      "execution_count": null,
      "outputs": [
        {
          "output_type": "display_data",
          "data": {
            "image/png": "[encoded data removed]",
            "text/plain": [
              "<Figure size 720x432 with 1 Axes>"
            ]
          },
          "metadata": {
            "tags": []
          }
        }
      ]
    },
    {
      "cell_type": "code",
      "metadata": {
        "colab": {
          "base_uri": "https://localhost:8080/"
        },
        "id": "aWS9L0iZE2iV",
        "outputId": "28873a66-f117-4960-9e64-3a78c5205776"
      },
      "source": [
        "people_fully_vaccinated_forecast[['yhat']].iloc[-1]"
      ],
      "execution_count": null,
      "outputs": [
        {
          "output_type": "execute_result",
          "data": {
            "text/plain": [
              "yhat    1.764086e+07\n",
              "Name: 185, dtype: float64"
            ]
          },
          "metadata": {
            "tags": []
          },
          "execution_count": 105
        }
      ]
    },
    {
      "cell_type": "code",
      "metadata": {
        "colab": {
          "base_uri": "https://localhost:8080/",
          "height": 441
        },
        "id": "LVjo0uGuE6lw",
        "outputId": "4c57c176-e20c-4bad-a9df-60d3d83710b0"
      },
      "source": [
        "people_fully_vaccinated_model.plot_components(people_fully_vaccinated_forecast)\n",
        "plt.show()"
      ],
      "execution_count": null,
      "outputs": [
        {
          "output_type": "display_data",
          "data": {
            "image/png": "[encoded data removed]",
            "text/plain": [
              "<Figure size 648x432 with 2 Axes>"
            ]
          },
          "metadata": {
            "tags": []
          }
        }
      ]
    }
  ]
}